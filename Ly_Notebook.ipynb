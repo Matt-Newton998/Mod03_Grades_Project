{
 "cells": [
  {
   "cell_type": "markdown",
   "metadata": {},
   "source": [
    "### Authors: Matthew Newton, Ly Nguyenova"
   ]
  },
  {
   "cell_type": "markdown",
   "metadata": {},
   "source": [
    "# Executive Summary"
   ]
  },
  {
   "cell_type": "markdown",
   "metadata": {},
   "source": [
    "This report aims to examine the University of Wisconsin - Madison Courses and Grades 2006-2017 dataset and to analyse whether STEM, humanity subjects, teachers and days have any statiscally significant correlation with the number of As given in courses in University of Wisconsin - Madison.\n",
    "\n",
    "The hypotheses needed to be answered are:\n",
    "\n",
    "Does your teacher have a statistically significant correlation with the number on A's earned in a course?\n",
    "Does time of day have a statistically significant correlation with the number of A's earned in a course?\n",
    "Do STEM fields have a statistically significant difference in the number of A's earned when compared to the humanities?\n",
    "\n",
    "For all these hypotheses, one sample t-tests, two sample t-tests and ANOVA tests, i.e. Tukey HSD were implemented. The findings can be listed as below:\n",
    "\n",
    "Science & Engineering obtains statistically more \"As\" than the Humanities & Social Science\n",
    "\n",
    "STEM instructor - Donald Yandow has no statistically significant correlation with the number of As earned in his courses\n",
    "\n",
    "Humanities instructor - Ida Trudell has a statistically significant correlation with the number of As earned in her courses\n",
    "\n",
    "Directed Studies. labs and lectures seem to have a statistically significant correlation with the number of As earned in her courses\n"
   ]
  },
  {
   "cell_type": "markdown",
   "metadata": {},
   "source": [
    "## Importing libraries"
   ]
  },
  {
   "cell_type": "code",
   "execution_count": 1,
   "metadata": {},
   "outputs": [],
   "source": [
    "# Import Libraries:\n",
    "import numpy as np\n",
    "import pandas as pd\n",
    "\n",
    "# Statistics Libraries:\n",
    "import scipy.stats as stats\n",
    "import statsmodels as sm\n",
    "from statsmodels.formula.api import ols\n",
    "import itertools\n",
    "\n",
    "# Ploting Libraries:\n",
    "import seaborn as sns\n",
    "import matplotlib.pyplot as plt\n",
    "%matplotlib inline\n",
    "plt.style.use('ggplot')\n",
    "\n",
    "# SQL\n",
    "import sqlite3 \n",
    "conn = sqlite3.connect('database.sqlite3')\n",
    "cur = conn.cursor()"
   ]
  },
  {
   "cell_type": "markdown",
   "metadata": {},
   "source": [
    "## Common Functions"
   ]
  },
  {
   "cell_type": "code",
   "execution_count": 2,
   "metadata": {},
   "outputs": [],
   "source": [
    "def get_sample(data, n):\n",
    "    sample = []\n",
    "    while len(sample) != n:\n",
    "        x = np.random.choice(data)\n",
    "        sample.append(x)\n",
    "    return sample\n",
    "\n",
    "def get_sample_mean(sample):\n",
    "    return sum(sample)/len(sample)\n",
    "\n",
    "def create_sample_distribution(data, dist_size=100, n=30):\n",
    "    sample_distribution_means = []\n",
    "    while len(sample_distribution_means) != dist_size:\n",
    "        sample = get_sample(data, n)\n",
    "        sample_mean = get_sample_mean(sample)\n",
    "        sample_distribution_means.append(sample_mean)\n",
    "    return sample_distribution_means"
   ]
  },
  {
   "cell_type": "code",
   "execution_count": 3,
   "metadata": {},
   "outputs": [],
   "source": [
    "def one_sample_ttest(sample, popmean, alpha):\n",
    "\n",
    "    # Visualize sample distribution for normality \n",
    "    #binsize = int(len(sample)/3)\n",
    "    #sns.distplot(sample, bins=binsize)\n",
    "    \n",
    "    # Population mean\n",
    "    mu = popmean\n",
    "\n",
    "    # Sample mean (x̄) using NumPy mean()\n",
    "    x_bar = np.mean(sample)\n",
    "\n",
    "    # Sample Standard Deviation (sigma) using Numpy\n",
    "    sample_std = np.std(sample)\n",
    "    \n",
    "    # Degrees of freedom\n",
    "    dof = len(sample)-1\n",
    "    \n",
    "    # Calculate the critical t-value\n",
    "    t_crit = stats.t.ppf(1- alpha, dof)\n",
    "   \n",
    "    # Calculate the t-value and p-value      t = (x_bar - mu)/(sample_std/math.sqrt(len(sample)))\n",
    "    t1, p1 = stats.ttest_1samp(sample, mu)\n",
    "    \n",
    "    if (abs(t1)>t_crit) and (p1<alpha):\n",
    "        print(\"Reject Null_H! The results are statistically significant.\")\n",
    "        print(\"Mean Diff:\", mu-x_bar)\n",
    "        print(\"t-stat = \", round(t1,3), \"\\nt_crit\", round(t_crit,3), \"\\nP_value = \", round(p1,3), \"\\nAlpha\", alpha)\n",
    "    \n",
    "    else:\n",
    "        print(\"Do NOT Reject Null_H. The results are NOT statistically significant.\")\n",
    "        rint(\"Mean Diff:\", mu-x_bar)\n",
    "        print(\"t-stat = \", round(t1,3), \"\\nt_crit\", round(t_crit,3), \"\\nP_value = \", round(p1,3), \"\\nAlpha\", alpha)\n",
    "     \n",
    "    # return results\n",
    "    return None"
   ]
  },
  {
   "cell_type": "code",
   "execution_count": 4,
   "metadata": {},
   "outputs": [],
   "source": [
    "def two_sample_ttest(sample1, sample2, alpha):\n",
    "    n_sample1 = len(sample1)\n",
    "    n_sample2 = len(sample2)\n",
    "    t_stat, P_value = stats.ttest_ind(sample1, sample2)\n",
    "    t_crit = stats.t.ppf(1-(alpha/2), (n_sample1+n_sample2-2))\n",
    "    \n",
    "    mean_sample1 = round((sum(sample1)/n_sample1),3)\n",
    "    mean_sample2 = round((sum(sample2)/n_sample2),3)\n",
    "    mean_diff = round(abs(mean_sample1 - mean_sample2),3)\n",
    "    \n",
    "    # Outputs:\n",
    "    print(\"Two Tail T-test:\")\n",
    "    print(\"---------------------------------------------------------------\")\n",
    "    print(f\"Obs Number: Sample_1 = {n_sample1}   Sample_2 = {n_sample2}\")\n",
    "    print(f\"Sample Means: Sample_1 = {mean_sample1}   Sample_2 = {mean_sample2}\")\n",
    "    print(f\"Mean Differance: {mean_diff}\")\n",
    "#     sns.distplot(sample1), sns.distplot(sample2)\n",
    "    print(\"---------------------------------------------------------------\")\n",
    "    print(f\"t-crit: {t_crit} \\nt-stat: {t_stat} \\nP-value: {P_value} \\nAlpha(2-Tail): {alpha/2}\")\n",
    "    print(\"---------------------------------------------------------------\")\n",
    "    \n",
    "    if (abs(t_stat) > t_crit) and (P_value < (alpha/2)):\n",
    "        print(\"|t_stat| > t_crit:\",(abs(t_stat) > t_crit))\n",
    "        print(\"P_value < Alpha(2-Tail):\", (P_value < alpha))\n",
    "        print(\"\\nReject Null_H! The results are statistically significant.\")\n",
    "        \n",
    "    else:\n",
    "        print(\"|t_stat| > t_crit:\",(abs(t_stat) > t_crit))\n",
    "        print(\"P_value < Alpha(2-Tail):\", (P_value < (alpha/2)))\n",
    "        print(\"\\nDo NOT Reject Null_H. The results are NOT statistically significant.\")\n",
    "    \n",
    "    print(\"---------------------------------------------------------------\")\n",
    "\n",
    "    return None"
   ]
  },
  {
   "cell_type": "code",
   "execution_count": 5,
   "metadata": {},
   "outputs": [],
   "source": [
    "from statsmodels.stats.power import TTestIndPower\n",
    "\n",
    "def power_and_effect_size(sample1, sample2, alpha):\n",
    "    n_sample1 = len(sample1)\n",
    "    n_sample2 = len(sample2)\n",
    "    mean_sample1 = get_sample_mean(sample1)\n",
    "    mean_sample2 = get_sample_mean(sample2)\n",
    "    dof = n_sample1 + n_sample2 - 2\n",
    "    nobs = (n_sample1 + n_sample2)/2\n",
    "    \n",
    "    # cohen_d_ES:\n",
    "    ES = (mean_sample1 - mean_sample2) / np.sqrt(((n_sample1-1)*np.std(sample1, ddof=1) ** 2 + (n_sample2-1)*np.std(sample2, ddof=1) ** 2) / dof)\n",
    "    \n",
    "    # TTestPower\n",
    "    power = sm.stats.power.tt_ind_solve_power(effect_size=ES, \n",
    "                                              nobs1=nobs, \n",
    "                                              alpha=alpha, \n",
    "                                              ratio=(n_sample1/n_sample2),\n",
    "                                              alternative='two-sided')\n",
    "    \n",
    "    return round(abs(ES),2), power"
   ]
  },
  {
   "cell_type": "markdown",
   "metadata": {},
   "source": [
    "## Q1: Do STEM fields have a statistically significant difference in the number of A's earned when compared to the humanities?"
   ]
  },
  {
   "cell_type": "markdown",
   "metadata": {},
   "source": [
    "#### Null Hypothesis\n",
    "\n",
    "The number for A's achieved is NOT related to the subject field.\n",
    "\n",
    "𝐻0:𝜇𝑆𝑇𝐸𝑀=𝜇𝐻𝑢𝑚𝑎𝑛𝑖𝑡𝑖𝑒𝑠 \n",
    "\n",
    "#### Alternative Hypothesis\n",
    "\n",
    "The number for A's achieved is related to the subject field.\n",
    "\n",
    "𝐻𝐴:𝜇𝑆𝑇𝐸𝑀≠𝜇𝐻𝑢𝑚𝑎𝑛𝑖𝑡𝑖𝑒𝑠 \n",
    "\n",
    "#### Method"
   ]
  },
  {
   "cell_type": "code",
   "execution_count": 6,
   "metadata": {},
   "outputs": [
    {
     "data": {
      "text/html": [
       "<div>\n",
       "<style scoped>\n",
       "    .dataframe tbody tr th:only-of-type {\n",
       "        vertical-align: middle;\n",
       "    }\n",
       "\n",
       "    .dataframe tbody tr th {\n",
       "        vertical-align: top;\n",
       "    }\n",
       "\n",
       "    .dataframe thead th {\n",
       "        text-align: right;\n",
       "    }\n",
       "</style>\n",
       "<table border=\"1\" class=\"dataframe\">\n",
       "  <thead>\n",
       "    <tr style=\"text-align: right;\">\n",
       "      <th></th>\n",
       "      <th>instructor</th>\n",
       "      <th>section_type</th>\n",
       "      <th>CourseName</th>\n",
       "      <th>SubjectName</th>\n",
       "      <th>a_count</th>\n",
       "      <th>b_count</th>\n",
       "      <th>c_count</th>\n",
       "      <th>d_count</th>\n",
       "      <th>f_count</th>\n",
       "      <th>u_count</th>\n",
       "    </tr>\n",
       "  </thead>\n",
       "  <tbody>\n",
       "    <tr>\n",
       "      <td>0</td>\n",
       "      <td>JR. JAMES BROWN</td>\n",
       "      <td>SEM</td>\n",
       "      <td>First-Year Seminar in the Humanities</td>\n",
       "      <td>Interdisciplinary Courses (L&amp;S)</td>\n",
       "      <td>6</td>\n",
       "      <td>4</td>\n",
       "      <td>0</td>\n",
       "      <td>0</td>\n",
       "      <td>0</td>\n",
       "      <td>0</td>\n",
       "    </tr>\n",
       "    <tr>\n",
       "      <td>1</td>\n",
       "      <td>JR. JAMES BROWN</td>\n",
       "      <td>SEM</td>\n",
       "      <td>First-Year Seminar in the Humanities</td>\n",
       "      <td>Interdisciplinary Courses (L&amp;S)</td>\n",
       "      <td>5</td>\n",
       "      <td>6</td>\n",
       "      <td>4</td>\n",
       "      <td>0</td>\n",
       "      <td>0</td>\n",
       "      <td>0</td>\n",
       "    </tr>\n",
       "    <tr>\n",
       "      <td>2</td>\n",
       "      <td>JR. JAMES BROWN</td>\n",
       "      <td>SEM</td>\n",
       "      <td>First-Year Seminar in the Humanities</td>\n",
       "      <td>Interdisciplinary Courses (L&amp;S)</td>\n",
       "      <td>8</td>\n",
       "      <td>0</td>\n",
       "      <td>0</td>\n",
       "      <td>0</td>\n",
       "      <td>0</td>\n",
       "      <td>0</td>\n",
       "    </tr>\n",
       "    <tr>\n",
       "      <td>3</td>\n",
       "      <td>JR. JAMES BROWN</td>\n",
       "      <td>SEM</td>\n",
       "      <td>First-Year Seminar in the Humanities</td>\n",
       "      <td>Interdisciplinary Courses (L&amp;S)</td>\n",
       "      <td>5</td>\n",
       "      <td>3</td>\n",
       "      <td>2</td>\n",
       "      <td>1</td>\n",
       "      <td>0</td>\n",
       "      <td>0</td>\n",
       "    </tr>\n",
       "    <tr>\n",
       "      <td>4</td>\n",
       "      <td>JR. JAMES BROWN</td>\n",
       "      <td>SEM</td>\n",
       "      <td>First-Year Seminar in the Humanities</td>\n",
       "      <td>Interdisciplinary Courses (L&amp;S)</td>\n",
       "      <td>5</td>\n",
       "      <td>1</td>\n",
       "      <td>1</td>\n",
       "      <td>1</td>\n",
       "      <td>1</td>\n",
       "      <td>0</td>\n",
       "    </tr>\n",
       "    <tr>\n",
       "      <td>5</td>\n",
       "      <td>JR. JAMES BROWN</td>\n",
       "      <td>SEM</td>\n",
       "      <td>First-Year Seminar in the Humanities</td>\n",
       "      <td>Interdisciplinary Courses (L&amp;S)</td>\n",
       "      <td>17</td>\n",
       "      <td>0</td>\n",
       "      <td>0</td>\n",
       "      <td>0</td>\n",
       "      <td>0</td>\n",
       "      <td>0</td>\n",
       "    </tr>\n",
       "    <tr>\n",
       "      <td>6</td>\n",
       "      <td>JR. JAMES BROWN</td>\n",
       "      <td>SEM</td>\n",
       "      <td>First-Year Seminar in the Humanities</td>\n",
       "      <td>Interdisciplinary Courses (L&amp;S)</td>\n",
       "      <td>16</td>\n",
       "      <td>0</td>\n",
       "      <td>0</td>\n",
       "      <td>0</td>\n",
       "      <td>0</td>\n",
       "      <td>0</td>\n",
       "    </tr>\n",
       "    <tr>\n",
       "      <td>7</td>\n",
       "      <td>JR. JAMES BROWN</td>\n",
       "      <td>SEM</td>\n",
       "      <td>First-Year Seminar in the Humanities</td>\n",
       "      <td>Interdisciplinary Courses (L&amp;S)</td>\n",
       "      <td>5</td>\n",
       "      <td>4</td>\n",
       "      <td>0</td>\n",
       "      <td>0</td>\n",
       "      <td>0</td>\n",
       "      <td>0</td>\n",
       "    </tr>\n",
       "    <tr>\n",
       "      <td>8</td>\n",
       "      <td>JR. JAMES BROWN</td>\n",
       "      <td>LEC</td>\n",
       "      <td>Bascom Course</td>\n",
       "      <td>ENGLISH</td>\n",
       "      <td>8</td>\n",
       "      <td>2</td>\n",
       "      <td>3</td>\n",
       "      <td>0</td>\n",
       "      <td>0</td>\n",
       "      <td>0</td>\n",
       "    </tr>\n",
       "    <tr>\n",
       "      <td>9</td>\n",
       "      <td>JR. JAMES BROWN</td>\n",
       "      <td>LEC</td>\n",
       "      <td>Bascom Course</td>\n",
       "      <td>ENGLISH</td>\n",
       "      <td>6</td>\n",
       "      <td>2</td>\n",
       "      <td>0</td>\n",
       "      <td>0</td>\n",
       "      <td>0</td>\n",
       "      <td>0</td>\n",
       "    </tr>\n",
       "    <tr>\n",
       "      <td>10</td>\n",
       "      <td>JR. JAMES BROWN</td>\n",
       "      <td>LEC</td>\n",
       "      <td>Bascom Course</td>\n",
       "      <td>ENGLISH</td>\n",
       "      <td>6</td>\n",
       "      <td>1</td>\n",
       "      <td>0</td>\n",
       "      <td>0</td>\n",
       "      <td>0</td>\n",
       "      <td>0</td>\n",
       "    </tr>\n",
       "    <tr>\n",
       "      <td>11</td>\n",
       "      <td>JR. JAMES BROWN</td>\n",
       "      <td>LEC</td>\n",
       "      <td>Intro-Composition Studies</td>\n",
       "      <td>ENGLISH</td>\n",
       "      <td>10</td>\n",
       "      <td>0</td>\n",
       "      <td>0</td>\n",
       "      <td>0</td>\n",
       "      <td>0</td>\n",
       "      <td>0</td>\n",
       "    </tr>\n",
       "    <tr>\n",
       "      <td>12</td>\n",
       "      <td>JR. JAMES BROWN</td>\n",
       "      <td>LEC</td>\n",
       "      <td>Intro-Composition Studies</td>\n",
       "      <td>ENGLISH</td>\n",
       "      <td>13</td>\n",
       "      <td>0</td>\n",
       "      <td>0</td>\n",
       "      <td>0</td>\n",
       "      <td>0</td>\n",
       "      <td>0</td>\n",
       "    </tr>\n",
       "    <tr>\n",
       "      <td>13</td>\n",
       "      <td>JR. JAMES BROWN</td>\n",
       "      <td>LEC</td>\n",
       "      <td>Special Topics-Compositn Thry</td>\n",
       "      <td>ENGLISH</td>\n",
       "      <td>11</td>\n",
       "      <td>0</td>\n",
       "      <td>0</td>\n",
       "      <td>0</td>\n",
       "      <td>0</td>\n",
       "      <td>0</td>\n",
       "    </tr>\n",
       "    <tr>\n",
       "      <td>14</td>\n",
       "      <td>JR. JAMES BROWN</td>\n",
       "      <td>LEC</td>\n",
       "      <td>Special Topics-Compositn Thry</td>\n",
       "      <td>ENGLISH</td>\n",
       "      <td>8</td>\n",
       "      <td>0</td>\n",
       "      <td>0</td>\n",
       "      <td>0</td>\n",
       "      <td>0</td>\n",
       "      <td>0</td>\n",
       "    </tr>\n",
       "    <tr>\n",
       "      <td>15</td>\n",
       "      <td>JR. JAMES BROWN</td>\n",
       "      <td>LEC</td>\n",
       "      <td>Special Topics-Compositn Thry</td>\n",
       "      <td>ENGLISH</td>\n",
       "      <td>9</td>\n",
       "      <td>0</td>\n",
       "      <td>0</td>\n",
       "      <td>0</td>\n",
       "      <td>0</td>\n",
       "      <td>0</td>\n",
       "    </tr>\n",
       "    <tr>\n",
       "      <td>16</td>\n",
       "      <td>JR. JAMES BROWN</td>\n",
       "      <td>LEC</td>\n",
       "      <td>Literature and Popular Culture</td>\n",
       "      <td>ENGLISH</td>\n",
       "      <td>61</td>\n",
       "      <td>2</td>\n",
       "      <td>0</td>\n",
       "      <td>0</td>\n",
       "      <td>0</td>\n",
       "      <td>0</td>\n",
       "    </tr>\n",
       "    <tr>\n",
       "      <td>17</td>\n",
       "      <td>JR. JAMES BROWN</td>\n",
       "      <td>LEC</td>\n",
       "      <td>Literature and Popular Culture</td>\n",
       "      <td>ENGLISH</td>\n",
       "      <td>76</td>\n",
       "      <td>56</td>\n",
       "      <td>4</td>\n",
       "      <td>3</td>\n",
       "      <td>4</td>\n",
       "      <td>0</td>\n",
       "    </tr>\n",
       "    <tr>\n",
       "      <td>18</td>\n",
       "      <td>JR. JAMES BROWN</td>\n",
       "      <td>LEC</td>\n",
       "      <td>Literature and Popular Culture</td>\n",
       "      <td>ENGLISH</td>\n",
       "      <td>9</td>\n",
       "      <td>9</td>\n",
       "      <td>1</td>\n",
       "      <td>0</td>\n",
       "      <td>0</td>\n",
       "      <td>0</td>\n",
       "    </tr>\n",
       "    <tr>\n",
       "      <td>19</td>\n",
       "      <td>JR. JAMES BROWN</td>\n",
       "      <td>IND</td>\n",
       "      <td>Senior Thesis</td>\n",
       "      <td>ENGLISH</td>\n",
       "      <td>0</td>\n",
       "      <td>0</td>\n",
       "      <td>0</td>\n",
       "      <td>0</td>\n",
       "      <td>0</td>\n",
       "      <td>0</td>\n",
       "    </tr>\n",
       "  </tbody>\n",
       "</table>\n",
       "</div>"
      ],
      "text/plain": [
       "          instructor section_type                            CourseName  \\\n",
       "0    JR. JAMES BROWN          SEM  First-Year Seminar in the Humanities   \n",
       "1    JR. JAMES BROWN          SEM  First-Year Seminar in the Humanities   \n",
       "2    JR. JAMES BROWN          SEM  First-Year Seminar in the Humanities   \n",
       "3    JR. JAMES BROWN          SEM  First-Year Seminar in the Humanities   \n",
       "4    JR. JAMES BROWN          SEM  First-Year Seminar in the Humanities   \n",
       "5    JR. JAMES BROWN          SEM  First-Year Seminar in the Humanities   \n",
       "6    JR. JAMES BROWN          SEM  First-Year Seminar in the Humanities   \n",
       "7    JR. JAMES BROWN          SEM  First-Year Seminar in the Humanities   \n",
       "8    JR. JAMES BROWN          LEC                         Bascom Course   \n",
       "9    JR. JAMES BROWN          LEC                         Bascom Course   \n",
       "10   JR. JAMES BROWN          LEC                         Bascom Course   \n",
       "11   JR. JAMES BROWN          LEC             Intro-Composition Studies   \n",
       "12   JR. JAMES BROWN          LEC             Intro-Composition Studies   \n",
       "13   JR. JAMES BROWN          LEC         Special Topics-Compositn Thry   \n",
       "14   JR. JAMES BROWN          LEC         Special Topics-Compositn Thry   \n",
       "15   JR. JAMES BROWN          LEC         Special Topics-Compositn Thry   \n",
       "16   JR. JAMES BROWN          LEC        Literature and Popular Culture   \n",
       "17   JR. JAMES BROWN          LEC        Literature and Popular Culture   \n",
       "18   JR. JAMES BROWN          LEC        Literature and Popular Culture   \n",
       "19   JR. JAMES BROWN          IND                         Senior Thesis   \n",
       "\n",
       "                        SubjectName a_count b_count c_count d_count f_count  \\\n",
       "0   Interdisciplinary Courses (L&S)       6       4       0       0       0   \n",
       "1   Interdisciplinary Courses (L&S)       5       6       4       0       0   \n",
       "2   Interdisciplinary Courses (L&S)       8       0       0       0       0   \n",
       "3   Interdisciplinary Courses (L&S)       5       3       2       1       0   \n",
       "4   Interdisciplinary Courses (L&S)       5       1       1       1       1   \n",
       "5   Interdisciplinary Courses (L&S)      17       0       0       0       0   \n",
       "6   Interdisciplinary Courses (L&S)      16       0       0       0       0   \n",
       "7   Interdisciplinary Courses (L&S)       5       4       0       0       0   \n",
       "8                           ENGLISH       8       2       3       0       0   \n",
       "9                           ENGLISH       6       2       0       0       0   \n",
       "10                          ENGLISH       6       1       0       0       0   \n",
       "11                          ENGLISH      10       0       0       0       0   \n",
       "12                          ENGLISH      13       0       0       0       0   \n",
       "13                          ENGLISH      11       0       0       0       0   \n",
       "14                          ENGLISH       8       0       0       0       0   \n",
       "15                          ENGLISH       9       0       0       0       0   \n",
       "16                          ENGLISH      61       2       0       0       0   \n",
       "17                          ENGLISH      76      56       4       3       4   \n",
       "18                          ENGLISH       9       9       1       0       0   \n",
       "19                          ENGLISH       0       0       0       0       0   \n",
       "\n",
       "   u_count  \n",
       "0        0  \n",
       "1        0  \n",
       "2        0  \n",
       "3        0  \n",
       "4        0  \n",
       "5        0  \n",
       "6        0  \n",
       "7        0  \n",
       "8        0  \n",
       "9        0  \n",
       "10       0  \n",
       "11       0  \n",
       "12       0  \n",
       "13       0  \n",
       "14       0  \n",
       "15       0  \n",
       "16       0  \n",
       "17       0  \n",
       "18       0  \n",
       "19       0  "
      ]
     },
     "execution_count": 6,
     "metadata": {},
     "output_type": "execute_result"
    }
   ],
   "source": [
    "cur.execute(\"\"\"SELECT F.name AS instructor, section_type, D.name AS CourseName, H.name AS SubjectName, \n",
    "                a_count, b_count, c_count, d_count, f_count, u_count\n",
    "                \n",
    "                FROM [teachings] A\n",
    "                \n",
    "                JOIN [sections] B\n",
    "                ON (A.section_uuid = B.uuid)\n",
    "                JOIN [course_offerings] C\n",
    "                ON (B.course_offering_uuid = C.uuid)\n",
    "                JOIN [courses] D\n",
    "                ON (C.course_uuid = D.uuid)\n",
    "                JOIN [grade_distributions] E\n",
    "                ON ((B.course_offering_uuid = E.course_offering_uuid))\n",
    "                JOIN [instructors] F\n",
    "                ON (A.instructor_id = F.id)\n",
    "                JOIN [subject_memberships] G\n",
    "                ON (B.course_offering_uuid = G.course_offering_uuid)\n",
    "                JOIN [subjects] H\n",
    "                ON (G.subject_code = H.code)\n",
    "                \n",
    "                ORDER BY instructor\n",
    "                \"\"\")\n",
    "df_teachings = pd.DataFrame(cur.fetchall())\n",
    "df_teachings.columns = [x[0] for x in cur.description]\n",
    "df_teachings.head(20)"
   ]
  },
  {
   "cell_type": "code",
   "execution_count": 7,
   "metadata": {},
   "outputs": [
    {
     "data": {
      "text/plain": [
       "(2206765, 10)"
      ]
     },
     "execution_count": 7,
     "metadata": {},
     "output_type": "execute_result"
    }
   ],
   "source": [
    "df_teachings.shape"
   ]
  },
  {
   "cell_type": "code",
   "execution_count": 8,
   "metadata": {},
   "outputs": [
    {
     "data": {
      "text/plain": [
       "array(['6', '5', '8', ..., '5', '5', '5'], dtype='<U3')"
      ]
     },
     "execution_count": 8,
     "metadata": {},
     "output_type": "execute_result"
    }
   ],
   "source": [
    "np.array(list(df_teachings.a_count))"
   ]
  },
  {
   "cell_type": "markdown",
   "metadata": {},
   "source": [
    "#### Find the population mean"
   ]
  },
  {
   "cell_type": "code",
   "execution_count": 9,
   "metadata": {},
   "outputs": [],
   "source": [
    "# As the grades are strings, they need to be converted to integers\n",
    "def convert_to_integer(data):\n",
    "    integers = []\n",
    "    for i in data:\n",
    "        integers.append(int(i))\n",
    "    return integers"
   ]
  },
  {
   "cell_type": "code",
   "execution_count": 10,
   "metadata": {},
   "outputs": [],
   "source": [
    "df_teachings.a_count = convert_to_integer(df_teachings.a_count)\n",
    "df_teachings.b_count = convert_to_integer(df_teachings.b_count)\n",
    "df_teachings.c_count = convert_to_integer(df_teachings.c_count)\n",
    "df_teachings.d_count = convert_to_integer(df_teachings.d_count)\n",
    "df_teachings.f_count = convert_to_integer(df_teachings.f_count)\n",
    "df_teachings.u_count = convert_to_integer(df_teachings.u_count)"
   ]
  },
  {
   "cell_type": "code",
   "execution_count": 11,
   "metadata": {},
   "outputs": [
    {
     "data": {
      "text/plain": [
       "7.296120339048335"
      ]
     },
     "execution_count": 11,
     "metadata": {},
     "output_type": "execute_result"
    }
   ],
   "source": [
    "popmean = np.mean(df_teachings.a_count)\n",
    "popmean"
   ]
  },
  {
   "cell_type": "markdown",
   "metadata": {},
   "source": [
    "#### Produce lists for STEM, humanity and medical subjects"
   ]
  },
  {
   "cell_type": "code",
   "execution_count": 12,
   "metadata": {},
   "outputs": [
    {
     "name": "stdout",
     "output_type": "stream",
     "text": [
      "Number of Subjects: 193\n"
     ]
    }
   ],
   "source": [
    "subjects = sorted(set(list(df_teachings.SubjectName)))\n",
    "print(\"Number of Subjects:\", len(subjects))\n",
    "# subjects"
   ]
  },
  {
   "cell_type": "code",
   "execution_count": 13,
   "metadata": {},
   "outputs": [],
   "source": [
    "STEM = ['Biochemistry',\n",
    " 'Biological Systems Engineering',\n",
    " 'Biology',\n",
    " 'Biology Core Curriculum',\n",
    " 'Biomedical Engineering',\n",
    " 'Biomolecular Chemistry',\n",
    " 'Biostatistics and Medical Informatics','CLINICAL LABORATORY SCIENCE',\n",
    " 'Cell and Regenerative Biology',\n",
    " 'Chemical and Biological Engineering',\n",
    " 'Chemistry', 'Computer Sciences', 'Economics','Electrical and Computer Engineering',\n",
    " 'Engineering Mechanics and Astronautics',\n",
    " 'Engineering Physics',\n",
    " 'Engineering Professional Development','Geological Engineering','Industrial and Systems Engineering',\n",
    "    'Materials Science and Engineering',\n",
    " 'Mathematics',\n",
    " 'Mechanical Engineering',\n",
    " 'Microbiology','Molecular Biology',\n",
    " 'Molecular and Environmental Toxicology Center',\n",
    " 'Nuclear Engineering','Physics','Science and Technology Studies','Soil Science','Statistics','WILDLIFE ECOLOGY',\n",
    " 'Zoology']"
   ]
  },
  {
   "cell_type": "code",
   "execution_count": 14,
   "metadata": {},
   "outputs": [],
   "source": [
    "HUM = ['Art Department',\n",
    " 'Art Education (Department of Art)',\n",
    " 'Art History',\n",
    " 'Asian American Studies','Anthropology','Chicana/o and Latina/o Studies',\n",
    " 'Civil Society and Community Studies','Classics','Communication Arts',\n",
    " 'Communication Sciences and Disorders',\n",
    " 'Community and Environmental Sociology','Comparative Literature','Counseling Psychology','ENGLISH',\n",
    " 'East Asian Area Studies',\n",
    " 'East Asian Languages and Literature','English','FAMILY AND CONSUMER COMMUNICATIONS','Gender and Women’s Studies',\n",
    "       'Greek (Classics)','History','Integrated Arts',\n",
    " 'Integrated Liberal Studies', 'Latin (Classics)',\n",
    " 'Latin American, Caribbean, and Iberian Studies',\n",
    " 'Law',\n",
    " 'Legal Studies','Literature in Translation','Political Science','Psychiatry',\n",
    " 'Psychology','Religious Studies','Sociology','Theatre and Drama']"
   ]
  },
  {
   "cell_type": "code",
   "execution_count": 15,
   "metadata": {},
   "outputs": [],
   "source": [
    "Medical = ['Anatomy',\n",
    " 'Anesthesiology','Emergency Medicine','Medical Genetics',\n",
    " 'Medical History and Bioethics',\n",
    " 'Medical Microbiology and Immunology',\n",
    " 'Medical Physics',\n",
    " 'Medical Sciences - Medical School',\n",
    " 'Medical Sciences - Veterinary Medicine',\n",
    " 'Medicine','Neurological Surgery',\n",
    " 'Neurology',\n",
    " 'Neuroscience',\n",
    " 'Neuroscience Training Program','Oncology', 'Obstetrics and Gynecology', 'Ophthalmology and Visual Sciences',\n",
    "          'Patho-Biological Sciences',\n",
    " 'Pathology and Laboratory Medicine',\n",
    " 'Pediatrics',\n",
    " 'Pharmaceutical Sciences',\n",
    " 'Pharmacology',\n",
    " 'Pharmacy',\n",
    " 'Pharmacy Practice','Physical Therapy',\n",
    " 'Physician Assistant Program','Radiology','Rehabilitation Medicine',\n",
    " 'Rehabilitation Psychology and Special Education','Senior Medical Program','Surgery',\n",
    " 'Surgical Sciences',]"
   ]
  },
  {
   "cell_type": "markdown",
   "metadata": {},
   "source": [
    "### One-sample T-test\n",
    "\n",
    "We can use a one sample t-test as we know what the population mean is of the whole university. Therefore, comparing the the samples of Science & Engineering, Humanities & Social Science & Medical, groups against the the entire school."
   ]
  },
  {
   "cell_type": "markdown",
   "metadata": {},
   "source": [
    "#### STEM"
   ]
  },
  {
   "cell_type": "code",
   "execution_count": 16,
   "metadata": {},
   "outputs": [
    {
     "data": {
      "text/html": [
       "<div>\n",
       "<style scoped>\n",
       "    .dataframe tbody tr th:only-of-type {\n",
       "        vertical-align: middle;\n",
       "    }\n",
       "\n",
       "    .dataframe tbody tr th {\n",
       "        vertical-align: top;\n",
       "    }\n",
       "\n",
       "    .dataframe thead th {\n",
       "        text-align: right;\n",
       "    }\n",
       "</style>\n",
       "<table border=\"1\" class=\"dataframe\">\n",
       "  <thead>\n",
       "    <tr style=\"text-align: right;\">\n",
       "      <th></th>\n",
       "      <th>instructor</th>\n",
       "      <th>section_type</th>\n",
       "      <th>CourseName</th>\n",
       "      <th>SubjectName</th>\n",
       "      <th>a_count</th>\n",
       "      <th>b_count</th>\n",
       "      <th>c_count</th>\n",
       "      <th>d_count</th>\n",
       "      <th>f_count</th>\n",
       "      <th>u_count</th>\n",
       "    </tr>\n",
       "  </thead>\n",
       "  <tbody>\n",
       "    <tr>\n",
       "      <td>406</td>\n",
       "      <td>- EKTA</td>\n",
       "      <td>LAB</td>\n",
       "      <td>Introduction to Data Programming</td>\n",
       "      <td>Computer Sciences</td>\n",
       "      <td>40</td>\n",
       "      <td>43</td>\n",
       "      <td>5</td>\n",
       "      <td>1</td>\n",
       "      <td>2</td>\n",
       "      <td>0</td>\n",
       "    </tr>\n",
       "    <tr>\n",
       "      <td>407</td>\n",
       "      <td>- EKTA</td>\n",
       "      <td>LAB</td>\n",
       "      <td>Introduction to Data Programming</td>\n",
       "      <td>Computer Sciences</td>\n",
       "      <td>41</td>\n",
       "      <td>31</td>\n",
       "      <td>4</td>\n",
       "      <td>2</td>\n",
       "      <td>1</td>\n",
       "      <td>0</td>\n",
       "    </tr>\n",
       "    <tr>\n",
       "      <td>408</td>\n",
       "      <td>. ABHINAVA</td>\n",
       "      <td>DIS</td>\n",
       "      <td>General Physics</td>\n",
       "      <td>Physics</td>\n",
       "      <td>71</td>\n",
       "      <td>81</td>\n",
       "      <td>5</td>\n",
       "      <td>0</td>\n",
       "      <td>1</td>\n",
       "      <td>0</td>\n",
       "    </tr>\n",
       "    <tr>\n",
       "      <td>409</td>\n",
       "      <td>. ABHINAVA</td>\n",
       "      <td>DIS</td>\n",
       "      <td>General Physics</td>\n",
       "      <td>Physics</td>\n",
       "      <td>32</td>\n",
       "      <td>51</td>\n",
       "      <td>10</td>\n",
       "      <td>1</td>\n",
       "      <td>1</td>\n",
       "      <td>0</td>\n",
       "    </tr>\n",
       "    <tr>\n",
       "      <td>410</td>\n",
       "      <td>. ABHINAVA</td>\n",
       "      <td>DIS</td>\n",
       "      <td>General Physics</td>\n",
       "      <td>Physics</td>\n",
       "      <td>71</td>\n",
       "      <td>81</td>\n",
       "      <td>5</td>\n",
       "      <td>0</td>\n",
       "      <td>1</td>\n",
       "      <td>0</td>\n",
       "    </tr>\n",
       "    <tr>\n",
       "      <td>...</td>\n",
       "      <td>...</td>\n",
       "      <td>...</td>\n",
       "      <td>...</td>\n",
       "      <td>...</td>\n",
       "      <td>...</td>\n",
       "      <td>...</td>\n",
       "      <td>...</td>\n",
       "      <td>...</td>\n",
       "      <td>...</td>\n",
       "      <td>...</td>\n",
       "    </tr>\n",
       "    <tr>\n",
       "      <td>2206760</td>\n",
       "      <td>ZZ RIFORD</td>\n",
       "      <td>DIS</td>\n",
       "      <td>Dynamics</td>\n",
       "      <td>Mechanical Engineering</td>\n",
       "      <td>10</td>\n",
       "      <td>18</td>\n",
       "      <td>5</td>\n",
       "      <td>3</td>\n",
       "      <td>2</td>\n",
       "      <td>0</td>\n",
       "    </tr>\n",
       "    <tr>\n",
       "      <td>2206761</td>\n",
       "      <td>ZZ RIFORD</td>\n",
       "      <td>DIS</td>\n",
       "      <td>Dynamics</td>\n",
       "      <td>Mechanical Engineering</td>\n",
       "      <td>12</td>\n",
       "      <td>13</td>\n",
       "      <td>5</td>\n",
       "      <td>2</td>\n",
       "      <td>1</td>\n",
       "      <td>0</td>\n",
       "    </tr>\n",
       "    <tr>\n",
       "      <td>2206762</td>\n",
       "      <td>null</td>\n",
       "      <td>LEC</td>\n",
       "      <td>Structural Theories of Fluid Dynamics</td>\n",
       "      <td>Chemical and Biological Engineering</td>\n",
       "      <td>5</td>\n",
       "      <td>2</td>\n",
       "      <td>0</td>\n",
       "      <td>0</td>\n",
       "      <td>0</td>\n",
       "      <td>0</td>\n",
       "    </tr>\n",
       "    <tr>\n",
       "      <td>2206763</td>\n",
       "      <td>null</td>\n",
       "      <td>LEC</td>\n",
       "      <td>Structural Theories of Fluid Dynamics</td>\n",
       "      <td>Chemistry</td>\n",
       "      <td>5</td>\n",
       "      <td>2</td>\n",
       "      <td>0</td>\n",
       "      <td>0</td>\n",
       "      <td>0</td>\n",
       "      <td>0</td>\n",
       "    </tr>\n",
       "    <tr>\n",
       "      <td>2206764</td>\n",
       "      <td>null</td>\n",
       "      <td>LEC</td>\n",
       "      <td>Structural Theories of Fluid Dynamics</td>\n",
       "      <td>Engineering Mechanics and Astronautics</td>\n",
       "      <td>5</td>\n",
       "      <td>2</td>\n",
       "      <td>0</td>\n",
       "      <td>0</td>\n",
       "      <td>0</td>\n",
       "      <td>0</td>\n",
       "    </tr>\n",
       "  </tbody>\n",
       "</table>\n",
       "<p>786388 rows × 10 columns</p>\n",
       "</div>"
      ],
      "text/plain": [
       "         instructor section_type                             CourseName  \\\n",
       "406          - EKTA          LAB       Introduction to Data Programming   \n",
       "407          - EKTA          LAB       Introduction to Data Programming   \n",
       "408      . ABHINAVA          DIS                        General Physics   \n",
       "409      . ABHINAVA          DIS                        General Physics   \n",
       "410      . ABHINAVA          DIS                        General Physics   \n",
       "...             ...          ...                                    ...   \n",
       "2206760   ZZ RIFORD          DIS                               Dynamics   \n",
       "2206761   ZZ RIFORD          DIS                               Dynamics   \n",
       "2206762        null          LEC  Structural Theories of Fluid Dynamics   \n",
       "2206763        null          LEC  Structural Theories of Fluid Dynamics   \n",
       "2206764        null          LEC  Structural Theories of Fluid Dynamics   \n",
       "\n",
       "                                    SubjectName  a_count  b_count  c_count  \\\n",
       "406                           Computer Sciences       40       43        5   \n",
       "407                           Computer Sciences       41       31        4   \n",
       "408                                     Physics       71       81        5   \n",
       "409                                     Physics       32       51       10   \n",
       "410                                     Physics       71       81        5   \n",
       "...                                         ...      ...      ...      ...   \n",
       "2206760                  Mechanical Engineering       10       18        5   \n",
       "2206761                  Mechanical Engineering       12       13        5   \n",
       "2206762     Chemical and Biological Engineering        5        2        0   \n",
       "2206763                               Chemistry        5        2        0   \n",
       "2206764  Engineering Mechanics and Astronautics        5        2        0   \n",
       "\n",
       "         d_count  f_count  u_count  \n",
       "406            1        2        0  \n",
       "407            2        1        0  \n",
       "408            0        1        0  \n",
       "409            1        1        0  \n",
       "410            0        1        0  \n",
       "...          ...      ...      ...  \n",
       "2206760        3        2        0  \n",
       "2206761        2        1        0  \n",
       "2206762        0        0        0  \n",
       "2206763        0        0        0  \n",
       "2206764        0        0        0  \n",
       "\n",
       "[786388 rows x 10 columns]"
      ]
     },
     "execution_count": 16,
     "metadata": {},
     "output_type": "execute_result"
    }
   ],
   "source": [
    "df_STEM = df_teachings[df_teachings['SubjectName'].isin(STEM)]\n",
    "df_STEM"
   ]
  },
  {
   "cell_type": "code",
   "execution_count": 17,
   "metadata": {},
   "outputs": [
    {
     "data": {
      "text/plain": [
       "<matplotlib.axes._subplots.AxesSubplot at 0x1a67237dd0>"
      ]
     },
     "execution_count": 17,
     "metadata": {},
     "output_type": "execute_result"
    },
    {
     "data": {
      "image/png": "[encoded data removed]",
      "text/plain": [
       "<Figure size 432x288 with 1 Axes>"
      ]
     },
     "metadata": {
      "needs_background": "light"
     },
     "output_type": "display_data"
    }
   ],
   "source": [
    "sns.distplot(df_STEM.a_count)"
   ]
  },
  {
   "cell_type": "code",
   "execution_count": 18,
   "metadata": {},
   "outputs": [
    {
     "name": "stdout",
     "output_type": "stream",
     "text": [
      "NormTest: NormaltestResult(statistic=494394.39789904223, pvalue=0.0)\n"
     ]
    }
   ],
   "source": [
    "print(\"NormTest:\", stats.normaltest(df_STEM.a_count))"
   ]
  },
  {
   "cell_type": "code",
   "execution_count": 19,
   "metadata": {},
   "outputs": [
    {
     "data": {
      "text/plain": [
       "(786388, 10)"
      ]
     },
     "execution_count": 19,
     "metadata": {},
     "output_type": "execute_result"
    }
   ],
   "source": [
    "df_STEM.shape"
   ]
  },
  {
   "cell_type": "code",
   "execution_count": 20,
   "metadata": {},
   "outputs": [],
   "source": [
    "AsSTEM = create_sample_distribution(df_STEM.a_count, 20000, 50)"
   ]
  },
  {
   "cell_type": "code",
   "execution_count": 21,
   "metadata": {},
   "outputs": [
    {
     "data": {
      "text/plain": [
       "-1.7847866609516645"
      ]
     },
     "execution_count": 21,
     "metadata": {},
     "output_type": "execute_result"
    }
   ],
   "source": [
    "popmean - np.mean(AsSTEM)"
   ]
  },
  {
   "cell_type": "code",
   "execution_count": 22,
   "metadata": {},
   "outputs": [
    {
     "data": {
      "text/plain": [
       "<matplotlib.axes._subplots.AxesSubplot at 0x1a2ca0b3d0>"
      ]
     },
     "execution_count": 22,
     "metadata": {},
     "output_type": "execute_result"
    },
    {
     "data": {
      "image/png": "[encoded data removed]",
      "text/plain": [
       "<Figure size 432x288 with 1 Axes>"
      ]
     },
     "metadata": {
      "needs_background": "light"
     },
     "output_type": "display_data"
    }
   ],
   "source": [
    "sns.distplot(AsSTEM)"
   ]
  },
  {
   "cell_type": "code",
   "execution_count": 23,
   "metadata": {},
   "outputs": [
    {
     "name": "stdout",
     "output_type": "stream",
     "text": [
      "NormaltestResult(statistic=671.1416930952937, pvalue=1.8341424259912597e-146)\n",
      "Skewness: SkewtestResult(statistic=24.960355900279964, pvalue=1.648384231983129e-137) \n",
      "Kurtosis: KurtosistestResult(statistic=6.93702576228839, pvalue=4.004408270562283e-12)\n"
     ]
    }
   ],
   "source": [
    "print(stats.normaltest(AsSTEM))\n",
    "print(\"Skewness:\", stats.skewtest(AsSTEM), \n",
    "      \"\\nKurtosis:\", stats.kurtosistest(AsSTEM))"
   ]
  },
  {
   "cell_type": "code",
   "execution_count": 24,
   "metadata": {},
   "outputs": [
    {
     "name": "stdout",
     "output_type": "stream",
     "text": [
      "STEM: \n",
      "T_stat: 86.04321880998518 \n",
      "p_value: 0.0\n"
     ]
    }
   ],
   "source": [
    "t_STEM, p_STEM = stats.ttest_1samp(AsSTEM, popmean)\n",
    "print(\"STEM: \\nT_stat:\", t_STEM, \"\\np_value:\", p_STEM)"
   ]
  },
  {
   "cell_type": "markdown",
   "metadata": {},
   "source": [
    "#### Humanity Subjects"
   ]
  },
  {
   "cell_type": "code",
   "execution_count": 25,
   "metadata": {},
   "outputs": [],
   "source": [
    "df_HUM = df_teachings[df_teachings['SubjectName'].isin(HUM)]"
   ]
  },
  {
   "cell_type": "code",
   "execution_count": 26,
   "metadata": {},
   "outputs": [
    {
     "data": {
      "text/plain": [
       "<matplotlib.axes._subplots.AxesSubplot at 0x1a344169d0>"
      ]
     },
     "execution_count": 26,
     "metadata": {},
     "output_type": "execute_result"
    },
    {
     "data": {
      "image/png": "[encoded data removed]",
      "text/plain": [
       "<Figure size 432x288 with 1 Axes>"
      ]
     },
     "metadata": {
      "needs_background": "light"
     },
     "output_type": "display_data"
    }
   ],
   "source": [
    "sns.distplot(df_HUM.a_count)"
   ]
  },
  {
   "cell_type": "code",
   "execution_count": 27,
   "metadata": {},
   "outputs": [
    {
     "data": {
      "text/plain": [
       "(495381, 10)"
      ]
     },
     "execution_count": 27,
     "metadata": {},
     "output_type": "execute_result"
    }
   ],
   "source": [
    "df_HUM.shape"
   ]
  },
  {
   "cell_type": "code",
   "execution_count": 28,
   "metadata": {},
   "outputs": [],
   "source": [
    "AsHUM = create_sample_distribution(df_HUM.a_count, 20000, 50)"
   ]
  },
  {
   "cell_type": "code",
   "execution_count": 29,
   "metadata": {},
   "outputs": [
    {
     "data": {
      "text/plain": [
       "0.3189953390483353"
      ]
     },
     "execution_count": 29,
     "metadata": {},
     "output_type": "execute_result"
    }
   ],
   "source": [
    "popmean - np.mean(AsHUM)"
   ]
  },
  {
   "cell_type": "code",
   "execution_count": 30,
   "metadata": {},
   "outputs": [
    {
     "data": {
      "text/plain": [
       "<matplotlib.axes._subplots.AxesSubplot at 0x1a3917f610>"
      ]
     },
     "execution_count": 30,
     "metadata": {},
     "output_type": "execute_result"
    },
    {
     "data": {
      "image/png": "[encoded data removed]",
      "text/plain": [
       "<Figure size 432x288 with 1 Axes>"
      ]
     },
     "metadata": {
      "needs_background": "light"
     },
     "output_type": "display_data"
    }
   ],
   "source": [
    "sns.distplot(AsHUM)"
   ]
  },
  {
   "cell_type": "code",
   "execution_count": 31,
   "metadata": {},
   "outputs": [
    {
     "name": "stdout",
     "output_type": "stream",
     "text": [
      "NormaltestResult(statistic=2658.758215818139, pvalue=0.0)\n",
      "Skewness: SkewtestResult(statistic=46.298335538335145, pvalue=0.0) \n",
      "Kurtosis: KurtosistestResult(statistic=22.698509691120076, pvalue=4.6344025871128266e-114)\n"
     ]
    }
   ],
   "source": [
    "print(stats.normaltest(AsHUM))\n",
    "print(\"Skewness:\", stats.skewtest(AsHUM), \n",
    "      \"\\nKurtosis:\", stats.kurtosistest(AsHUM))"
   ]
  },
  {
   "cell_type": "code",
   "execution_count": 32,
   "metadata": {},
   "outputs": [
    {
     "name": "stdout",
     "output_type": "stream",
     "text": [
      "HUM: \n",
      "T_stat: -17.577929873705592 \n",
      "p_value: 1.1939635399623487e-68\n"
     ]
    }
   ],
   "source": [
    "t_HUM, p_HUM = stats.ttest_1samp(AsHUM, popmean)\n",
    "print(\"HUM: \\nT_stat:\", t_HUM, \"\\np_value:\", p_HUM)"
   ]
  },
  {
   "cell_type": "code",
   "execution_count": 33,
   "metadata": {},
   "outputs": [
    {
     "name": "stdout",
     "output_type": "stream",
     "text": [
      "Reject Null_H! The results are statistically significant.\n",
      "Mean Diff: -1.7847866609516645\n",
      "t-stat =  86.043 \n",
      "t_crit 1.645 \n",
      "P_value =  0.0 \n",
      "Alpha 0.05\n"
     ]
    }
   ],
   "source": [
    "one_sample_ttest(AsSTEM, popmean, 0.05)"
   ]
  },
  {
   "cell_type": "code",
   "execution_count": 34,
   "metadata": {},
   "outputs": [
    {
     "name": "stdout",
     "output_type": "stream",
     "text": [
      "Reject Null_H! The results are statistically significant.\n",
      "Mean Diff: 0.3189953390483353\n",
      "t-stat =  -17.578 \n",
      "t_crit 1.645 \n",
      "P_value =  0.0 \n",
      "Alpha 0.05\n"
     ]
    }
   ],
   "source": [
    "one_sample_ttest(AsHUM, popmean, 0.05)"
   ]
  },
  {
   "cell_type": "markdown",
   "metadata": {},
   "source": [
    "#### Medical"
   ]
  },
  {
   "cell_type": "code",
   "execution_count": 35,
   "metadata": {},
   "outputs": [],
   "source": [
    "df_Medical = df_teachings[df_teachings['SubjectName'].isin(Medical)]"
   ]
  },
  {
   "cell_type": "code",
   "execution_count": 36,
   "metadata": {},
   "outputs": [
    {
     "data": {
      "text/plain": [
       "(243021, 10)"
      ]
     },
     "execution_count": 36,
     "metadata": {},
     "output_type": "execute_result"
    }
   ],
   "source": [
    "df_Medical.shape"
   ]
  },
  {
   "cell_type": "code",
   "execution_count": 37,
   "metadata": {},
   "outputs": [
    {
     "data": {
      "text/plain": [
       "<matplotlib.axes._subplots.AxesSubplot at 0x1a3f1b22d0>"
      ]
     },
     "execution_count": 37,
     "metadata": {},
     "output_type": "execute_result"
    },
    {
     "data": {
      "image/png": "[encoded data removed]",
      "text/plain": [
       "<Figure size 432x288 with 1 Axes>"
      ]
     },
     "metadata": {
      "needs_background": "light"
     },
     "output_type": "display_data"
    }
   ],
   "source": [
    "sns.distplot(df_Medical.a_count)"
   ]
  },
  {
   "cell_type": "code",
   "execution_count": 38,
   "metadata": {},
   "outputs": [],
   "source": [
    "AsMedical = create_sample_distribution(df_Medical.a_count, 20000, 50)"
   ]
  },
  {
   "cell_type": "code",
   "execution_count": 39,
   "metadata": {},
   "outputs": [
    {
     "data": {
      "text/plain": [
       "<matplotlib.axes._subplots.AxesSubplot at 0x1a391fe190>"
      ]
     },
     "execution_count": 39,
     "metadata": {},
     "output_type": "execute_result"
    },
    {
     "data": {
      "image/png": "[encoded data removed]",
      "text/plain": [
       "<Figure size 432x288 with 1 Axes>"
      ]
     },
     "metadata": {
      "needs_background": "light"
     },
     "output_type": "display_data"
    }
   ],
   "source": [
    "sns.distplot(AsMedical)"
   ]
  },
  {
   "cell_type": "code",
   "execution_count": 40,
   "metadata": {},
   "outputs": [
    {
     "name": "stdout",
     "output_type": "stream",
     "text": [
      "NormaltestResult(statistic=3812.2139496196737, pvalue=0.0)\n",
      "Skewness: SkewtestResult(statistic=54.648131959447575, pvalue=0.0) \n",
      "Kurtosis: KurtosistestResult(statistic=28.736659913122793, pvalue=1.3296530352227847e-181)\n"
     ]
    }
   ],
   "source": [
    "print(stats.normaltest(AsMedical))\n",
    "print(\"Skewness:\", stats.skewtest(AsMedical), \n",
    "      \"\\nKurtosis:\", stats.kurtosistest(AsMedical))"
   ]
  },
  {
   "cell_type": "code",
   "execution_count": 41,
   "metadata": {},
   "outputs": [
    {
     "name": "stdout",
     "output_type": "stream",
     "text": [
      "HUM: \n",
      "T_stat: -506.80603372468784 \n",
      "p_value: 0.0\n"
     ]
    }
   ],
   "source": [
    "t_Medical, p_Medical = stats.ttest_1samp(AsMedical, popmean)\n",
    "print(\"HUM: \\nT_stat:\", t_Medical, \"\\np_value:\", p_Medical)"
   ]
  },
  {
   "cell_type": "markdown",
   "metadata": {},
   "source": [
    "### Comparison between Science & Engineering and Humanities & Social Science using Two-Sample T-Tests:"
   ]
  },
  {
   "cell_type": "markdown",
   "metadata": {},
   "source": [
    "Students-T as the are equal samples due to the get samples"
   ]
  },
  {
   "cell_type": "code",
   "execution_count": 42,
   "metadata": {},
   "outputs": [
    {
     "data": {
      "text/plain": [
       "<matplotlib.axes._subplots.AxesSubplot at 0x1a4c0adf90>"
      ]
     },
     "execution_count": 42,
     "metadata": {},
     "output_type": "execute_result"
    },
    {
     "data": {
      "image/png": "[encoded data removed]",
      "text/plain": [
       "<Figure size 432x288 with 1 Axes>"
      ]
     },
     "metadata": {
      "needs_background": "light"
     },
     "output_type": "display_data"
    }
   ],
   "source": [
    "sns.distplot(AsSTEM)\n",
    "sns.distplot(AsHUM)"
   ]
  },
  {
   "cell_type": "code",
   "execution_count": 43,
   "metadata": {},
   "outputs": [],
   "source": [
    "def find_t_crit(sample1, sample2, alpha):\n",
    "    return stats.t.ppf(1-(alpha/2), (len(sample1)+len(sample2)-2))"
   ]
  },
  {
   "cell_type": "code",
   "execution_count": 44,
   "metadata": {},
   "outputs": [
    {
     "data": {
      "text/plain": [
       "1.9600232960505766"
      ]
     },
     "execution_count": 44,
     "metadata": {},
     "output_type": "execute_result"
    }
   ],
   "source": [
    "find_t_crit(AsSTEM, AsHUM, 0.05)"
   ]
  },
  {
   "cell_type": "code",
   "execution_count": 45,
   "metadata": {},
   "outputs": [],
   "source": [
    "def two_sample_ttest_student_t(sample1, sample2, alpha):\n",
    "    return stats.ttest_ind(sample1, sample2, equal_var=False)"
   ]
  },
  {
   "cell_type": "code",
   "execution_count": 46,
   "metadata": {},
   "outputs": [
    {
     "data": {
      "text/plain": [
       "Ttest_indResult(statistic=76.33229719350898, pvalue=0.0)"
      ]
     },
     "execution_count": 46,
     "metadata": {},
     "output_type": "execute_result"
    }
   ],
   "source": [
    "two_sample_ttest_student_t(AsSTEM, AsHUM, 0.05)"
   ]
  },
  {
   "cell_type": "code",
   "execution_count": 47,
   "metadata": {},
   "outputs": [
    {
     "name": "stdout",
     "output_type": "stream",
     "text": [
      "Two Tail T-test:\n",
      "---------------------------------------------------------------\n",
      "Obs Number: Sample_1 = 20000   Sample_2 = 20000\n",
      "Sample Means: Sample_1 = 9.081   Sample_2 = 6.977\n",
      "Mean Differance: 2.104\n",
      "---------------------------------------------------------------\n",
      "t-crit: 1.9600232960505766 \n",
      "t-stat: 76.33229719350898 \n",
      "P-value: 0.0 \n",
      "Alpha(2-Tail): 0.025\n",
      "---------------------------------------------------------------\n",
      "|t_stat| > t_crit: True\n",
      "P_value < Alpha(2-Tail): True\n",
      "\n",
      "Reject Null_H! The results are statistically significant.\n",
      "---------------------------------------------------------------\n",
      "Cohen_d Effect Size: 0.76 \n",
      "Power: 1.0\n"
     ]
    }
   ],
   "source": [
    "two_sample_ttest(AsSTEM, AsHUM, 0.05)\n",
    "ES, power = power_and_effect_size(AsSTEM, AsHUM, 0.05)\n",
    "print(\"Cohen_d Effect Size:\", ES, \"\\nPower:\", power)"
   ]
  },
  {
   "cell_type": "markdown",
   "metadata": {},
   "source": [
    "### Conclusions\n",
    "\n",
    "Science & Engineering obtains statistically more \"As\" than the Humanities & Social Science"
   ]
  },
  {
   "cell_type": "markdown",
   "metadata": {},
   "source": [
    "## Q2: Does you teacher have a statistically significant correalation with the number of As earned in a course?"
   ]
  },
  {
   "cell_type": "markdown",
   "metadata": {},
   "source": [
    "#### Null Hypothesis \n",
    "\n",
    "The teacher has NO correlation with the number of As earned in a course\n",
    "\n",
    "#### Alternative Hypothesis\n",
    "\n",
    "The teacher does affect the As earned in a course"
   ]
  },
  {
   "cell_type": "code",
   "execution_count": 63,
   "metadata": {
    "scrolled": true
   },
   "outputs": [
    {
     "data": {
      "text/html": [
       "<div>\n",
       "<style scoped>\n",
       "    .dataframe tbody tr th:only-of-type {\n",
       "        vertical-align: middle;\n",
       "    }\n",
       "\n",
       "    .dataframe tbody tr th {\n",
       "        vertical-align: top;\n",
       "    }\n",
       "\n",
       "    .dataframe thead th {\n",
       "        text-align: right;\n",
       "    }\n",
       "</style>\n",
       "<table border=\"1\" class=\"dataframe\">\n",
       "  <thead>\n",
       "    <tr style=\"text-align: right;\">\n",
       "      <th></th>\n",
       "      <th>course_offering_uuid</th>\n",
       "      <th>section_number</th>\n",
       "      <th>n_count</th>\n",
       "      <th>c_count</th>\n",
       "      <th>f_count</th>\n",
       "      <th>cr_count</th>\n",
       "      <th>p_count</th>\n",
       "      <th>nw_count</th>\n",
       "      <th>other_count</th>\n",
       "      <th>bc_count</th>\n",
       "      <th>u_count</th>\n",
       "      <th>d_count</th>\n",
       "      <th>ab_count</th>\n",
       "      <th>a_count</th>\n",
       "      <th>s_count</th>\n",
       "      <th>i_count</th>\n",
       "      <th>b_count</th>\n",
       "      <th>nr_count</th>\n",
       "    </tr>\n",
       "  </thead>\n",
       "  <tbody>\n",
       "    <tr>\n",
       "      <td>0</td>\n",
       "      <td>344b3ebe-da7e-314c-83ed-9425269695fd</td>\n",
       "      <td>1</td>\n",
       "      <td>0</td>\n",
       "      <td>0</td>\n",
       "      <td>0</td>\n",
       "      <td>0</td>\n",
       "      <td>0</td>\n",
       "      <td>0</td>\n",
       "      <td>0</td>\n",
       "      <td>0</td>\n",
       "      <td>0</td>\n",
       "      <td>0</td>\n",
       "      <td>0</td>\n",
       "      <td>105</td>\n",
       "      <td>0</td>\n",
       "      <td>0</td>\n",
       "      <td>0</td>\n",
       "      <td>0</td>\n",
       "    </tr>\n",
       "    <tr>\n",
       "      <td>1</td>\n",
       "      <td>f718e6cd-33f0-3c14-a9a6-834d9c3610a8</td>\n",
       "      <td>1</td>\n",
       "      <td>0</td>\n",
       "      <td>0</td>\n",
       "      <td>0</td>\n",
       "      <td>0</td>\n",
       "      <td>0</td>\n",
       "      <td>0</td>\n",
       "      <td>0</td>\n",
       "      <td>0</td>\n",
       "      <td>0</td>\n",
       "      <td>0</td>\n",
       "      <td>0</td>\n",
       "      <td>158</td>\n",
       "      <td>0</td>\n",
       "      <td>1</td>\n",
       "      <td>0</td>\n",
       "      <td>0</td>\n",
       "    </tr>\n",
       "    <tr>\n",
       "      <td>2</td>\n",
       "      <td>ea3b717c-d66b-30dc-8b37-964d9688295f</td>\n",
       "      <td>1</td>\n",
       "      <td>0</td>\n",
       "      <td>3</td>\n",
       "      <td>0</td>\n",
       "      <td>0</td>\n",
       "      <td>0</td>\n",
       "      <td>0</td>\n",
       "      <td>0</td>\n",
       "      <td>0</td>\n",
       "      <td>0</td>\n",
       "      <td>0</td>\n",
       "      <td>12</td>\n",
       "      <td>139</td>\n",
       "      <td>0</td>\n",
       "      <td>0</td>\n",
       "      <td>2</td>\n",
       "      <td>0</td>\n",
       "    </tr>\n",
       "    <tr>\n",
       "      <td>3</td>\n",
       "      <td>075da420-5f49-3dd0-93df-13e3c152e1b1</td>\n",
       "      <td>1</td>\n",
       "      <td>0</td>\n",
       "      <td>0</td>\n",
       "      <td>0</td>\n",
       "      <td>0</td>\n",
       "      <td>0</td>\n",
       "      <td>0</td>\n",
       "      <td>0</td>\n",
       "      <td>0</td>\n",
       "      <td>0</td>\n",
       "      <td>0</td>\n",
       "      <td>0</td>\n",
       "      <td>87</td>\n",
       "      <td>0</td>\n",
       "      <td>1</td>\n",
       "      <td>0</td>\n",
       "      <td>0</td>\n",
       "    </tr>\n",
       "    <tr>\n",
       "      <td>4</td>\n",
       "      <td>2b4e216d-a728-3713-8c7c-19afffc6b2fd</td>\n",
       "      <td>1</td>\n",
       "      <td>0</td>\n",
       "      <td>0</td>\n",
       "      <td>0</td>\n",
       "      <td>0</td>\n",
       "      <td>0</td>\n",
       "      <td>0</td>\n",
       "      <td>0</td>\n",
       "      <td>0</td>\n",
       "      <td>0</td>\n",
       "      <td>0</td>\n",
       "      <td>0</td>\n",
       "      <td>70</td>\n",
       "      <td>0</td>\n",
       "      <td>1</td>\n",
       "      <td>0</td>\n",
       "      <td>0</td>\n",
       "    </tr>\n",
       "    <tr>\n",
       "      <td>...</td>\n",
       "      <td>...</td>\n",
       "      <td>...</td>\n",
       "      <td>...</td>\n",
       "      <td>...</td>\n",
       "      <td>...</td>\n",
       "      <td>...</td>\n",
       "      <td>...</td>\n",
       "      <td>...</td>\n",
       "      <td>...</td>\n",
       "      <td>...</td>\n",
       "      <td>...</td>\n",
       "      <td>...</td>\n",
       "      <td>...</td>\n",
       "      <td>...</td>\n",
       "      <td>...</td>\n",
       "      <td>...</td>\n",
       "      <td>...</td>\n",
       "      <td>...</td>\n",
       "    </tr>\n",
       "    <tr>\n",
       "      <td>193257</td>\n",
       "      <td>a7863f8b-0bbf-33e9-b857-2a42bb6b809f</td>\n",
       "      <td>42</td>\n",
       "      <td>0</td>\n",
       "      <td>0</td>\n",
       "      <td>0</td>\n",
       "      <td>0</td>\n",
       "      <td>0</td>\n",
       "      <td>0</td>\n",
       "      <td>0</td>\n",
       "      <td>0</td>\n",
       "      <td>0</td>\n",
       "      <td>0</td>\n",
       "      <td>0</td>\n",
       "      <td>0</td>\n",
       "      <td>0</td>\n",
       "      <td>0</td>\n",
       "      <td>0</td>\n",
       "      <td>0</td>\n",
       "    </tr>\n",
       "    <tr>\n",
       "      <td>193258</td>\n",
       "      <td>a7863f8b-0bbf-33e9-b857-2a42bb6b809f</td>\n",
       "      <td>43</td>\n",
       "      <td>0</td>\n",
       "      <td>0</td>\n",
       "      <td>0</td>\n",
       "      <td>0</td>\n",
       "      <td>0</td>\n",
       "      <td>0</td>\n",
       "      <td>0</td>\n",
       "      <td>0</td>\n",
       "      <td>0</td>\n",
       "      <td>0</td>\n",
       "      <td>0</td>\n",
       "      <td>0</td>\n",
       "      <td>0</td>\n",
       "      <td>0</td>\n",
       "      <td>0</td>\n",
       "      <td>0</td>\n",
       "    </tr>\n",
       "    <tr>\n",
       "      <td>193259</td>\n",
       "      <td>3573e335-e7be-33a6-b023-8704b3acc93b</td>\n",
       "      <td>1</td>\n",
       "      <td>0</td>\n",
       "      <td>0</td>\n",
       "      <td>0</td>\n",
       "      <td>0</td>\n",
       "      <td>0</td>\n",
       "      <td>0</td>\n",
       "      <td>0</td>\n",
       "      <td>0</td>\n",
       "      <td>0</td>\n",
       "      <td>0</td>\n",
       "      <td>7</td>\n",
       "      <td>18</td>\n",
       "      <td>0</td>\n",
       "      <td>0</td>\n",
       "      <td>0</td>\n",
       "      <td>0</td>\n",
       "    </tr>\n",
       "    <tr>\n",
       "      <td>193260</td>\n",
       "      <td>13278922-0726-3823-abda-dc14df03d8a6</td>\n",
       "      <td>7</td>\n",
       "      <td>0</td>\n",
       "      <td>0</td>\n",
       "      <td>0</td>\n",
       "      <td>0</td>\n",
       "      <td>0</td>\n",
       "      <td>0</td>\n",
       "      <td>0</td>\n",
       "      <td>0</td>\n",
       "      <td>0</td>\n",
       "      <td>0</td>\n",
       "      <td>0</td>\n",
       "      <td>0</td>\n",
       "      <td>0</td>\n",
       "      <td>0</td>\n",
       "      <td>0</td>\n",
       "      <td>0</td>\n",
       "    </tr>\n",
       "    <tr>\n",
       "      <td>193261</td>\n",
       "      <td>fd039fe4-32ec-31dd-a142-c7db54df784b</td>\n",
       "      <td>8</td>\n",
       "      <td>0</td>\n",
       "      <td>0</td>\n",
       "      <td>0</td>\n",
       "      <td>0</td>\n",
       "      <td>0</td>\n",
       "      <td>0</td>\n",
       "      <td>0</td>\n",
       "      <td>0</td>\n",
       "      <td>0</td>\n",
       "      <td>0</td>\n",
       "      <td>0</td>\n",
       "      <td>0</td>\n",
       "      <td>0</td>\n",
       "      <td>0</td>\n",
       "      <td>0</td>\n",
       "      <td>0</td>\n",
       "    </tr>\n",
       "  </tbody>\n",
       "</table>\n",
       "<p>193262 rows × 18 columns</p>\n",
       "</div>"
      ],
      "text/plain": [
       "                        course_offering_uuid section_number n_count c_count  \\\n",
       "0       344b3ebe-da7e-314c-83ed-9425269695fd              1       0       0   \n",
       "1       f718e6cd-33f0-3c14-a9a6-834d9c3610a8              1       0       0   \n",
       "2       ea3b717c-d66b-30dc-8b37-964d9688295f              1       0       3   \n",
       "3       075da420-5f49-3dd0-93df-13e3c152e1b1              1       0       0   \n",
       "4       2b4e216d-a728-3713-8c7c-19afffc6b2fd              1       0       0   \n",
       "...                                      ...            ...     ...     ...   \n",
       "193257  a7863f8b-0bbf-33e9-b857-2a42bb6b809f             42       0       0   \n",
       "193258  a7863f8b-0bbf-33e9-b857-2a42bb6b809f             43       0       0   \n",
       "193259  3573e335-e7be-33a6-b023-8704b3acc93b              1       0       0   \n",
       "193260  13278922-0726-3823-abda-dc14df03d8a6              7       0       0   \n",
       "193261  fd039fe4-32ec-31dd-a142-c7db54df784b              8       0       0   \n",
       "\n",
       "       f_count cr_count p_count nw_count other_count bc_count u_count d_count  \\\n",
       "0            0        0       0        0           0        0       0       0   \n",
       "1            0        0       0        0           0        0       0       0   \n",
       "2            0        0       0        0           0        0       0       0   \n",
       "3            0        0       0        0           0        0       0       0   \n",
       "4            0        0       0        0           0        0       0       0   \n",
       "...        ...      ...     ...      ...         ...      ...     ...     ...   \n",
       "193257       0        0       0        0           0        0       0       0   \n",
       "193258       0        0       0        0           0        0       0       0   \n",
       "193259       0        0       0        0           0        0       0       0   \n",
       "193260       0        0       0        0           0        0       0       0   \n",
       "193261       0        0       0        0           0        0       0       0   \n",
       "\n",
       "       ab_count a_count s_count i_count b_count nr_count  \n",
       "0             0     105       0       0       0        0  \n",
       "1             0     158       0       1       0        0  \n",
       "2            12     139       0       0       2        0  \n",
       "3             0      87       0       1       0        0  \n",
       "4             0      70       0       1       0        0  \n",
       "...         ...     ...     ...     ...     ...      ...  \n",
       "193257        0       0       0       0       0        0  \n",
       "193258        0       0       0       0       0        0  \n",
       "193259        7      18       0       0       0        0  \n",
       "193260        0       0       0       0       0        0  \n",
       "193261        0       0       0       0       0        0  \n",
       "\n",
       "[193262 rows x 18 columns]"
      ]
     },
     "execution_count": 63,
     "metadata": {},
     "output_type": "execute_result"
    }
   ],
   "source": [
    "cur.execute(\"\"\"SELECT * FROM grade_distributions;\"\"\")\n",
    "df = pd.DataFrame(cur.fetchall())\n",
    "df.columns = [x[0] for x in cur.description]\n",
    "df"
   ]
  },
  {
   "cell_type": "code",
   "execution_count": 64,
   "metadata": {},
   "outputs": [
    {
     "data": {
      "text/html": [
       "<div>\n",
       "<style scoped>\n",
       "    .dataframe tbody tr th:only-of-type {\n",
       "        vertical-align: middle;\n",
       "    }\n",
       "\n",
       "    .dataframe tbody tr th {\n",
       "        vertical-align: top;\n",
       "    }\n",
       "\n",
       "    .dataframe thead th {\n",
       "        text-align: right;\n",
       "    }\n",
       "</style>\n",
       "<table border=\"1\" class=\"dataframe\">\n",
       "  <thead>\n",
       "    <tr style=\"text-align: right;\">\n",
       "      <th></th>\n",
       "      <th>course_offering_uuid</th>\n",
       "      <th>section_number</th>\n",
       "      <th>n_count</th>\n",
       "      <th>c_count</th>\n",
       "      <th>f_count</th>\n",
       "      <th>cr_count</th>\n",
       "      <th>p_count</th>\n",
       "      <th>nw_count</th>\n",
       "      <th>other_count</th>\n",
       "      <th>bc_count</th>\n",
       "      <th>u_count</th>\n",
       "      <th>d_count</th>\n",
       "      <th>ab_count</th>\n",
       "      <th>a_count</th>\n",
       "      <th>s_count</th>\n",
       "      <th>i_count</th>\n",
       "      <th>b_count</th>\n",
       "      <th>nr_count</th>\n",
       "    </tr>\n",
       "  </thead>\n",
       "  <tbody>\n",
       "    <tr>\n",
       "      <td>count</td>\n",
       "      <td>193262</td>\n",
       "      <td>193262</td>\n",
       "      <td>193262</td>\n",
       "      <td>193262</td>\n",
       "      <td>193262</td>\n",
       "      <td>193262</td>\n",
       "      <td>193262</td>\n",
       "      <td>193262</td>\n",
       "      <td>193262</td>\n",
       "      <td>193262</td>\n",
       "      <td>193262</td>\n",
       "      <td>193262</td>\n",
       "      <td>193262</td>\n",
       "      <td>193262</td>\n",
       "      <td>193262</td>\n",
       "      <td>193262</td>\n",
       "      <td>193262</td>\n",
       "      <td>193262</td>\n",
       "    </tr>\n",
       "    <tr>\n",
       "      <td>unique</td>\n",
       "      <td>80171</td>\n",
       "      <td>304</td>\n",
       "      <td>14</td>\n",
       "      <td>122</td>\n",
       "      <td>33</td>\n",
       "      <td>14</td>\n",
       "      <td>23</td>\n",
       "      <td>15</td>\n",
       "      <td>13</td>\n",
       "      <td>105</td>\n",
       "      <td>6</td>\n",
       "      <td>56</td>\n",
       "      <td>154</td>\n",
       "      <td>273</td>\n",
       "      <td>120</td>\n",
       "      <td>38</td>\n",
       "      <td>184</td>\n",
       "      <td>34</td>\n",
       "    </tr>\n",
       "    <tr>\n",
       "      <td>top</td>\n",
       "      <td>36754980-48d2-3b34-ad0c-d621a6cb30df</td>\n",
       "      <td>1</td>\n",
       "      <td>0</td>\n",
       "      <td>0</td>\n",
       "      <td>0</td>\n",
       "      <td>0</td>\n",
       "      <td>0</td>\n",
       "      <td>0</td>\n",
       "      <td>0</td>\n",
       "      <td>0</td>\n",
       "      <td>0</td>\n",
       "      <td>0</td>\n",
       "      <td>0</td>\n",
       "      <td>0</td>\n",
       "      <td>0</td>\n",
       "      <td>0</td>\n",
       "      <td>0</td>\n",
       "      <td>0</td>\n",
       "    </tr>\n",
       "    <tr>\n",
       "      <td>freq</td>\n",
       "      <td>60</td>\n",
       "      <td>61765</td>\n",
       "      <td>192786</td>\n",
       "      <td>163253</td>\n",
       "      <td>179496</td>\n",
       "      <td>192881</td>\n",
       "      <td>192373</td>\n",
       "      <td>191286</td>\n",
       "      <td>191613</td>\n",
       "      <td>158436</td>\n",
       "      <td>192696</td>\n",
       "      <td>177456</td>\n",
       "      <td>125376</td>\n",
       "      <td>106961</td>\n",
       "      <td>176796</td>\n",
       "      <td>185488</td>\n",
       "      <td>134512</td>\n",
       "      <td>190919</td>\n",
       "    </tr>\n",
       "  </tbody>\n",
       "</table>\n",
       "</div>"
      ],
      "text/plain": [
       "                        course_offering_uuid section_number n_count c_count  \\\n",
       "count                                 193262         193262  193262  193262   \n",
       "unique                                 80171            304      14     122   \n",
       "top     36754980-48d2-3b34-ad0c-d621a6cb30df              1       0       0   \n",
       "freq                                      60          61765  192786  163253   \n",
       "\n",
       "       f_count cr_count p_count nw_count other_count bc_count u_count d_count  \\\n",
       "count   193262   193262  193262   193262      193262   193262  193262  193262   \n",
       "unique      33       14      23       15          13      105       6      56   \n",
       "top          0        0       0        0           0        0       0       0   \n",
       "freq    179496   192881  192373   191286      191613   158436  192696  177456   \n",
       "\n",
       "       ab_count a_count s_count i_count b_count nr_count  \n",
       "count    193262  193262  193262  193262  193262   193262  \n",
       "unique      154     273     120      38     184       34  \n",
       "top           0       0       0       0       0        0  \n",
       "freq     125376  106961  176796  185488  134512   190919  "
      ]
     },
     "execution_count": 64,
     "metadata": {},
     "output_type": "execute_result"
    }
   ],
   "source": [
    "df.describe()"
   ]
  },
  {
   "cell_type": "code",
   "execution_count": 65,
   "metadata": {},
   "outputs": [
    {
     "data": {
      "text/html": [
       "<div>\n",
       "<style scoped>\n",
       "    .dataframe tbody tr th:only-of-type {\n",
       "        vertical-align: middle;\n",
       "    }\n",
       "\n",
       "    .dataframe tbody tr th {\n",
       "        vertical-align: top;\n",
       "    }\n",
       "\n",
       "    .dataframe thead th {\n",
       "        text-align: right;\n",
       "    }\n",
       "</style>\n",
       "<table border=\"1\" class=\"dataframe\">\n",
       "  <thead>\n",
       "    <tr style=\"text-align: right;\">\n",
       "      <th></th>\n",
       "      <th>id</th>\n",
       "      <th>name</th>\n",
       "      <th>a_count</th>\n",
       "      <th>course_name</th>\n",
       "      <th>subjects_name</th>\n",
       "    </tr>\n",
       "  </thead>\n",
       "  <tbody>\n",
       "    <tr>\n",
       "      <td>0</td>\n",
       "      <td>761703</td>\n",
       "      <td>JOHN ARCHAMBAULT</td>\n",
       "      <td>105</td>\n",
       "      <td>Cooperative Education Prog</td>\n",
       "      <td>Biomedical Engineering</td>\n",
       "    </tr>\n",
       "    <tr>\n",
       "      <td>1</td>\n",
       "      <td>761703</td>\n",
       "      <td>JOHN ARCHAMBAULT</td>\n",
       "      <td>105</td>\n",
       "      <td>Cooperative Education Prog</td>\n",
       "      <td>Chemical and Biological Engineering</td>\n",
       "    </tr>\n",
       "    <tr>\n",
       "      <td>2</td>\n",
       "      <td>761703</td>\n",
       "      <td>JOHN ARCHAMBAULT</td>\n",
       "      <td>105</td>\n",
       "      <td>Cooperative Education Prog</td>\n",
       "      <td>Civil and Environmental Engineering</td>\n",
       "    </tr>\n",
       "    <tr>\n",
       "      <td>3</td>\n",
       "      <td>761703</td>\n",
       "      <td>JOHN ARCHAMBAULT</td>\n",
       "      <td>105</td>\n",
       "      <td>Cooperative Education Prog</td>\n",
       "      <td>Electrical and Computer Engineering</td>\n",
       "    </tr>\n",
       "    <tr>\n",
       "      <td>4</td>\n",
       "      <td>761703</td>\n",
       "      <td>JOHN ARCHAMBAULT</td>\n",
       "      <td>105</td>\n",
       "      <td>Cooperative Education Prog</td>\n",
       "      <td>Engineering Mechanics and Astronautics</td>\n",
       "    </tr>\n",
       "    <tr>\n",
       "      <td>...</td>\n",
       "      <td>...</td>\n",
       "      <td>...</td>\n",
       "      <td>...</td>\n",
       "      <td>...</td>\n",
       "      <td>...</td>\n",
       "    </tr>\n",
       "    <tr>\n",
       "      <td>2206760</td>\n",
       "      <td>884262</td>\n",
       "      <td>ARLYNE JOHNSON</td>\n",
       "      <td>18</td>\n",
       "      <td>Conservation Planning</td>\n",
       "      <td>Environmental Studies - Gaylord Nelson Institute</td>\n",
       "    </tr>\n",
       "    <tr>\n",
       "      <td>2206761</td>\n",
       "      <td>5906028</td>\n",
       "      <td>ALICIA BARCEINAS CRUZ</td>\n",
       "      <td>18</td>\n",
       "      <td>Conservation Planning</td>\n",
       "      <td>Environmental Studies - Gaylord Nelson Institute</td>\n",
       "    </tr>\n",
       "    <tr>\n",
       "      <td>2206762</td>\n",
       "      <td>5906028</td>\n",
       "      <td>ALICIA BARCEINAS CRUZ</td>\n",
       "      <td>18</td>\n",
       "      <td>Conservation Planning</td>\n",
       "      <td>Environmental Studies - Gaylord Nelson Institute</td>\n",
       "    </tr>\n",
       "    <tr>\n",
       "      <td>2206763</td>\n",
       "      <td>3296435</td>\n",
       "      <td>SARAH SULLIVAN</td>\n",
       "      <td>0</td>\n",
       "      <td>Patient Ed. as Advocacy Strat.</td>\n",
       "      <td>Surgery</td>\n",
       "    </tr>\n",
       "    <tr>\n",
       "      <td>2206764</td>\n",
       "      <td>5450446</td>\n",
       "      <td>EVIE CARCHMAN</td>\n",
       "      <td>0</td>\n",
       "      <td>Multid. Appr. to Colon Cancer</td>\n",
       "      <td>Surgery</td>\n",
       "    </tr>\n",
       "  </tbody>\n",
       "</table>\n",
       "<p>2206765 rows × 5 columns</p>\n",
       "</div>"
      ],
      "text/plain": [
       "              id                   name a_count  \\\n",
       "0         761703       JOHN ARCHAMBAULT     105   \n",
       "1         761703       JOHN ARCHAMBAULT     105   \n",
       "2         761703       JOHN ARCHAMBAULT     105   \n",
       "3         761703       JOHN ARCHAMBAULT     105   \n",
       "4         761703       JOHN ARCHAMBAULT     105   \n",
       "...          ...                    ...     ...   \n",
       "2206760   884262         ARLYNE JOHNSON      18   \n",
       "2206761  5906028  ALICIA BARCEINAS CRUZ      18   \n",
       "2206762  5906028  ALICIA BARCEINAS CRUZ      18   \n",
       "2206763  3296435         SARAH SULLIVAN       0   \n",
       "2206764  5450446          EVIE CARCHMAN       0   \n",
       "\n",
       "                            course_name  \\\n",
       "0            Cooperative Education Prog   \n",
       "1            Cooperative Education Prog   \n",
       "2            Cooperative Education Prog   \n",
       "3            Cooperative Education Prog   \n",
       "4            Cooperative Education Prog   \n",
       "...                                 ...   \n",
       "2206760           Conservation Planning   \n",
       "2206761           Conservation Planning   \n",
       "2206762           Conservation Planning   \n",
       "2206763  Patient Ed. as Advocacy Strat.   \n",
       "2206764   Multid. Appr. to Colon Cancer   \n",
       "\n",
       "                                            subjects_name  \n",
       "0                                  Biomedical Engineering  \n",
       "1                     Chemical and Biological Engineering  \n",
       "2                     Civil and Environmental Engineering  \n",
       "3                     Electrical and Computer Engineering  \n",
       "4                  Engineering Mechanics and Astronautics  \n",
       "...                                                   ...  \n",
       "2206760  Environmental Studies - Gaylord Nelson Institute  \n",
       "2206761  Environmental Studies - Gaylord Nelson Institute  \n",
       "2206762  Environmental Studies - Gaylord Nelson Institute  \n",
       "2206763                                           Surgery  \n",
       "2206764                                           Surgery  \n",
       "\n",
       "[2206765 rows x 5 columns]"
      ]
     },
     "execution_count": 65,
     "metadata": {},
     "output_type": "execute_result"
    }
   ],
   "source": [
    "cur.execute(\"\"\"SELECT instructors.id, instructors.name, grade_distributions.a_count, course_offerings.name AS course_name, subjects.name AS subjects_name FROM instructors \n",
    "            JOIN teachings ON instructors.id = teachings.instructor_id\n",
    "            JOIN sections ON teachings.section_uuid = sections.uuid\n",
    "            JOIN grade_distributions ON sections.course_offering_uuid = grade_distributions.course_offering_uuid\n",
    "            LEFT JOIN course_offerings ON sections.course_offering_uuid = course_offerings.uuid\n",
    "            JOIN subject_memberships ON sections.course_offering_uuid = subject_memberships.course_offering_uuid\n",
    "            JOIN subjects ON subject_memberships.subject_code = subjects.code;\"\"\")\n",
    "teachings = pd.DataFrame(cur.fetchall())\n",
    "teachings.columns = [x[0] for x in cur.description]\n",
    "teachings"
   ]
  },
  {
   "cell_type": "code",
   "execution_count": 66,
   "metadata": {},
   "outputs": [
    {
     "data": {
      "text/plain": [
       "False"
      ]
     },
     "execution_count": 66,
     "metadata": {},
     "output_type": "execute_result"
    }
   ],
   "source": [
    "teachings[\"subjects_name\"].isna().any()"
   ]
  },
  {
   "cell_type": "code",
   "execution_count": 67,
   "metadata": {
    "scrolled": true
   },
   "outputs": [
    {
     "data": {
      "text/plain": [
       "['ANIMAL HEALTH AND BIOMEDICAL SCIENCES',\n",
       " 'Accounting and Information Systems',\n",
       " 'Actuarial Science',\n",
       " 'African Languages and Literature',\n",
       " 'Afro-American Studies',\n",
       " 'Agricultural and Applied Economics',\n",
       " 'Agroecology',\n",
       " 'Agronomy',\n",
       " 'Air Force Aerospace Studies',\n",
       " 'American Indian Studies',\n",
       " 'Anatomy',\n",
       " 'Anesthesiology',\n",
       " 'Animal Sciences',\n",
       " 'Anthropology',\n",
       " 'Art Department',\n",
       " 'Art Education (Department of Art)',\n",
       " 'Art History',\n",
       " 'Asian American Studies',\n",
       " 'Astronomy',\n",
       " 'Atmospheric and Oceanic Sciences',\n",
       " 'Biochemistry',\n",
       " 'Biological Systems Engineering',\n",
       " 'Biology',\n",
       " 'Biology Core Curriculum',\n",
       " 'Biomedical Engineering',\n",
       " 'Biomolecular Chemistry',\n",
       " 'Biostatistics and Medical Informatics',\n",
       " 'Botany',\n",
       " 'CLINICAL LABORATORY SCIENCE',\n",
       " 'Cell and Regenerative Biology',\n",
       " 'Chemical and Biological Engineering',\n",
       " 'Chemistry',\n",
       " 'Chicana/o and Latina/o Studies',\n",
       " 'Civil Society and Community Studies',\n",
       " 'Civil and Environmental Engineering',\n",
       " 'Classics',\n",
       " 'Collaborative Nursing Program',\n",
       " 'Communication Arts',\n",
       " 'Communication Sciences and Disorders',\n",
       " 'Community and Environmental Sociology',\n",
       " 'Comparative Biosciences',\n",
       " 'Comparative Literature',\n",
       " 'Computer Sciences',\n",
       " 'Consumer Science',\n",
       " 'Counseling Psychology',\n",
       " 'Curriculum and Instruction',\n",
       " 'Dairy Science',\n",
       " 'Dance',\n",
       " 'Design Studies',\n",
       " 'ENGLISH',\n",
       " 'East Asian Area Studies',\n",
       " 'East Asian Languages and Literature',\n",
       " 'Economics',\n",
       " 'Educational Leadership and Policy Analysis',\n",
       " 'Educational Policy Studies',\n",
       " 'Educational Psychology',\n",
       " 'Electrical and Computer Engineering',\n",
       " 'Emergency Medicine',\n",
       " 'Engineering Mechanics and Astronautics',\n",
       " 'Engineering Physics',\n",
       " 'Engineering Professional Development',\n",
       " 'English',\n",
       " 'English as a Second Language',\n",
       " 'Entomology',\n",
       " 'Environmental Studies - Gaylord Nelson Institute',\n",
       " 'FAMILY AND CONSUMER COMMUNICATIONS',\n",
       " 'Family Medicine',\n",
       " 'Farm & Industry Short Course',\n",
       " 'Finance, Investment and Banking',\n",
       " 'Folklore Program',\n",
       " 'Food Science',\n",
       " 'Forest and Wildlife Ecology',\n",
       " 'French (French and Italian)',\n",
       " 'Gender and Women’s Studies',\n",
       " 'General Business',\n",
       " 'Genetics',\n",
       " 'Geography',\n",
       " 'Geological Engineering',\n",
       " 'Geoscience',\n",
       " 'German',\n",
       " 'Greek (Classics)',\n",
       " 'HEBREW',\n",
       " 'Hebrew-Biblical',\n",
       " 'Hebrew-Modern',\n",
       " 'History',\n",
       " 'History of Science',\n",
       " 'Horticulture',\n",
       " 'Human Development and Family Studies',\n",
       " 'Human Oncology',\n",
       " 'INDUSTRIAL RELATIONS',\n",
       " 'Industrial and Systems Engineering',\n",
       " 'Information Systems',\n",
       " 'Integrated Arts',\n",
       " 'Integrated Liberal Studies',\n",
       " 'Integrated Science',\n",
       " 'Interdisciplinary Courses (CALS)',\n",
       " 'Interdisciplinary Courses (Engineering)',\n",
       " 'Interdisciplinary Courses (L&S)',\n",
       " 'Interdisciplinary Courses (SOHE)',\n",
       " 'International Business',\n",
       " 'International Studies',\n",
       " 'Italian (French and Italian)',\n",
       " 'Jewish Studies',\n",
       " 'Journalism and Mass Communication',\n",
       " 'Kinesiology',\n",
       " 'La Follette School of Public Affairs',\n",
       " 'Landscape Architecture',\n",
       " 'Languages and Cultures of Asia',\n",
       " 'Languages and Cultures of Asia - Languages',\n",
       " 'Latin (Classics)',\n",
       " 'Latin American, Caribbean, and Iberian Studies',\n",
       " 'Law',\n",
       " 'Legal Studies',\n",
       " 'Library and Information Studies',\n",
       " 'Life Sciences Communication',\n",
       " 'Linguistics',\n",
       " 'Literature in Translation',\n",
       " 'Management and Human Resources',\n",
       " 'Marketing',\n",
       " 'Materials Science and Engineering',\n",
       " 'Mathematics',\n",
       " 'Mechanical Engineering',\n",
       " 'Medical Genetics',\n",
       " 'Medical History and Bioethics',\n",
       " 'Medical Microbiology and Immunology',\n",
       " 'Medical Physics',\n",
       " 'Medical Sciences - Medical School',\n",
       " 'Medical Sciences - Veterinary Medicine',\n",
       " 'Medicine',\n",
       " 'Medieval Studies',\n",
       " 'Microbiology',\n",
       " 'Military Science',\n",
       " 'Molecular Biology',\n",
       " 'Molecular and Environmental Toxicology Center',\n",
       " 'Music',\n",
       " 'Music-Performance',\n",
       " 'Naval Science',\n",
       " 'Neurological Surgery',\n",
       " 'Neurology',\n",
       " 'Neuroscience',\n",
       " 'Neuroscience Training Program',\n",
       " 'Nuclear Engineering',\n",
       " 'Nursing',\n",
       " 'Nutritional Sciences',\n",
       " 'Obstetrics and Gynecology',\n",
       " 'Occupational Therapy (Department of Kinesiology)',\n",
       " 'Oncology',\n",
       " 'Operations and Technology Management',\n",
       " 'Ophthalmology and Visual Sciences',\n",
       " 'PHYSICAL EDUC ACTIVITY PROGM',\n",
       " 'PROFESSIONAL ORIENTATION',\n",
       " 'Patho-Biological Sciences',\n",
       " 'Pathology and Laboratory Medicine',\n",
       " 'Pediatrics',\n",
       " 'Pharmaceutical Sciences',\n",
       " 'Pharmacology',\n",
       " 'Pharmacy',\n",
       " 'Pharmacy Practice',\n",
       " 'Philosophy',\n",
       " 'Physical Therapy',\n",
       " 'Physician Assistant Program',\n",
       " 'Physics',\n",
       " 'Physiology',\n",
       " 'Plant Pathology',\n",
       " 'Political Science',\n",
       " 'Population Health Sciences',\n",
       " 'Portuguese (Spanish and Portuguese)',\n",
       " 'Psychiatry',\n",
       " 'Psychology',\n",
       " 'Radiology',\n",
       " 'Real Estate and Urban Land Economics',\n",
       " 'Rehabilitation Medicine',\n",
       " 'Rehabilitation Psychology and Special Education',\n",
       " 'Religious Studies',\n",
       " 'Risk Management and Insurance',\n",
       " 'Scandinavian Studies',\n",
       " 'Science and Technology Studies',\n",
       " 'Senior Medical Program',\n",
       " 'Slavic (Slavic Languages)',\n",
       " 'Social Work',\n",
       " 'Social and Administrative Pharmacy',\n",
       " 'Sociology',\n",
       " 'Soil Science',\n",
       " 'Spanish (Spanish and Portuguese)',\n",
       " 'Statistics',\n",
       " 'Surgery',\n",
       " 'Surgical Sciences',\n",
       " 'TRANSPORTATION AND PUBLIC UTILITIES',\n",
       " 'Theatre and Drama',\n",
       " 'Therapeutic Science (Department of Kinesiology)',\n",
       " 'Urban and Regional Planning',\n",
       " 'WILDLIFE ECOLOGY',\n",
       " 'Zoology']"
      ]
     },
     "execution_count": 67,
     "metadata": {},
     "output_type": "execute_result"
    }
   ],
   "source": [
    "sorted(list(teachings[\"subjects_name\"].unique()))"
   ]
  },
  {
   "cell_type": "code",
   "execution_count": 68,
   "metadata": {},
   "outputs": [
    {
     "data": {
      "text/plain": [
       "193"
      ]
     },
     "execution_count": 68,
     "metadata": {},
     "output_type": "execute_result"
    }
   ],
   "source": [
    "teachings[\"subjects_name\"].nunique()"
   ]
  },
  {
   "cell_type": "code",
   "execution_count": 162,
   "metadata": {
    "scrolled": true
   },
   "outputs": [
    {
     "name": "stdout",
     "output_type": "stream",
     "text": [
      "32\n",
      "34\n"
     ]
    }
   ],
   "source": [
    "print(len(STEM))\n",
    "print(len(HUM))"
   ]
  },
  {
   "cell_type": "code",
   "execution_count": 163,
   "metadata": {
    "scrolled": true
   },
   "outputs": [
    {
     "data": {
      "text/html": [
       "<div>\n",
       "<style scoped>\n",
       "    .dataframe tbody tr th:only-of-type {\n",
       "        vertical-align: middle;\n",
       "    }\n",
       "\n",
       "    .dataframe tbody tr th {\n",
       "        vertical-align: top;\n",
       "    }\n",
       "\n",
       "    .dataframe thead th {\n",
       "        text-align: right;\n",
       "    }\n",
       "</style>\n",
       "<table border=\"1\" class=\"dataframe\">\n",
       "  <thead>\n",
       "    <tr style=\"text-align: right;\">\n",
       "      <th></th>\n",
       "      <th>id</th>\n",
       "      <th>name</th>\n",
       "      <th>a_count</th>\n",
       "      <th>course_name</th>\n",
       "      <th>subjects_name</th>\n",
       "    </tr>\n",
       "  </thead>\n",
       "  <tbody>\n",
       "    <tr>\n",
       "      <td>0</td>\n",
       "      <td>761703</td>\n",
       "      <td>JOHN ARCHAMBAULT</td>\n",
       "      <td>105</td>\n",
       "      <td>Cooperative Education Prog</td>\n",
       "      <td>Biomedical Engineering</td>\n",
       "    </tr>\n",
       "    <tr>\n",
       "      <td>1</td>\n",
       "      <td>761703</td>\n",
       "      <td>JOHN ARCHAMBAULT</td>\n",
       "      <td>105</td>\n",
       "      <td>Cooperative Education Prog</td>\n",
       "      <td>Chemical and Biological Engineering</td>\n",
       "    </tr>\n",
       "    <tr>\n",
       "      <td>2</td>\n",
       "      <td>761703</td>\n",
       "      <td>JOHN ARCHAMBAULT</td>\n",
       "      <td>105</td>\n",
       "      <td>Cooperative Education Prog</td>\n",
       "      <td>Civil and Environmental Engineering</td>\n",
       "    </tr>\n",
       "    <tr>\n",
       "      <td>3</td>\n",
       "      <td>761703</td>\n",
       "      <td>JOHN ARCHAMBAULT</td>\n",
       "      <td>105</td>\n",
       "      <td>Cooperative Education Prog</td>\n",
       "      <td>Electrical and Computer Engineering</td>\n",
       "    </tr>\n",
       "    <tr>\n",
       "      <td>4</td>\n",
       "      <td>761703</td>\n",
       "      <td>JOHN ARCHAMBAULT</td>\n",
       "      <td>105</td>\n",
       "      <td>Cooperative Education Prog</td>\n",
       "      <td>Engineering Mechanics and Astronautics</td>\n",
       "    </tr>\n",
       "    <tr>\n",
       "      <td>5</td>\n",
       "      <td>761703</td>\n",
       "      <td>JOHN ARCHAMBAULT</td>\n",
       "      <td>105</td>\n",
       "      <td>Cooperative Education Prog</td>\n",
       "      <td>Industrial and Systems Engineering</td>\n",
       "    </tr>\n",
       "    <tr>\n",
       "      <td>6</td>\n",
       "      <td>761703</td>\n",
       "      <td>JOHN ARCHAMBAULT</td>\n",
       "      <td>105</td>\n",
       "      <td>Cooperative Education Prog</td>\n",
       "      <td>Mechanical Engineering</td>\n",
       "    </tr>\n",
       "    <tr>\n",
       "      <td>7</td>\n",
       "      <td>761703</td>\n",
       "      <td>JOHN ARCHAMBAULT</td>\n",
       "      <td>105</td>\n",
       "      <td>Cooperative Education Prog</td>\n",
       "      <td>Materials Science and Engineering</td>\n",
       "    </tr>\n",
       "    <tr>\n",
       "      <td>8</td>\n",
       "      <td>761703</td>\n",
       "      <td>JOHN ARCHAMBAULT</td>\n",
       "      <td>158</td>\n",
       "      <td>Cooperative Education Prog</td>\n",
       "      <td>Biomedical Engineering</td>\n",
       "    </tr>\n",
       "    <tr>\n",
       "      <td>9</td>\n",
       "      <td>761703</td>\n",
       "      <td>JOHN ARCHAMBAULT</td>\n",
       "      <td>158</td>\n",
       "      <td>Cooperative Education Prog</td>\n",
       "      <td>Chemical and Biological Engineering</td>\n",
       "    </tr>\n",
       "    <tr>\n",
       "      <td>10</td>\n",
       "      <td>761703</td>\n",
       "      <td>JOHN ARCHAMBAULT</td>\n",
       "      <td>158</td>\n",
       "      <td>Cooperative Education Prog</td>\n",
       "      <td>Civil and Environmental Engineering</td>\n",
       "    </tr>\n",
       "    <tr>\n",
       "      <td>11</td>\n",
       "      <td>761703</td>\n",
       "      <td>JOHN ARCHAMBAULT</td>\n",
       "      <td>158</td>\n",
       "      <td>Cooperative Education Prog</td>\n",
       "      <td>Electrical and Computer Engineering</td>\n",
       "    </tr>\n",
       "    <tr>\n",
       "      <td>12</td>\n",
       "      <td>761703</td>\n",
       "      <td>JOHN ARCHAMBAULT</td>\n",
       "      <td>158</td>\n",
       "      <td>Cooperative Education Prog</td>\n",
       "      <td>Engineering Mechanics and Astronautics</td>\n",
       "    </tr>\n",
       "    <tr>\n",
       "      <td>13</td>\n",
       "      <td>761703</td>\n",
       "      <td>JOHN ARCHAMBAULT</td>\n",
       "      <td>158</td>\n",
       "      <td>Cooperative Education Prog</td>\n",
       "      <td>Geological Engineering</td>\n",
       "    </tr>\n",
       "    <tr>\n",
       "      <td>14</td>\n",
       "      <td>761703</td>\n",
       "      <td>JOHN ARCHAMBAULT</td>\n",
       "      <td>158</td>\n",
       "      <td>Cooperative Education Prog</td>\n",
       "      <td>Industrial and Systems Engineering</td>\n",
       "    </tr>\n",
       "    <tr>\n",
       "      <td>15</td>\n",
       "      <td>761703</td>\n",
       "      <td>JOHN ARCHAMBAULT</td>\n",
       "      <td>158</td>\n",
       "      <td>Cooperative Education Prog</td>\n",
       "      <td>Mechanical Engineering</td>\n",
       "    </tr>\n",
       "    <tr>\n",
       "      <td>16</td>\n",
       "      <td>761703</td>\n",
       "      <td>JOHN ARCHAMBAULT</td>\n",
       "      <td>158</td>\n",
       "      <td>Cooperative Education Prog</td>\n",
       "      <td>Materials Science and Engineering</td>\n",
       "    </tr>\n",
       "    <tr>\n",
       "      <td>17</td>\n",
       "      <td>761703</td>\n",
       "      <td>JOHN ARCHAMBAULT</td>\n",
       "      <td>139</td>\n",
       "      <td>Cooperative Education Prog</td>\n",
       "      <td>Biomedical Engineering</td>\n",
       "    </tr>\n",
       "    <tr>\n",
       "      <td>18</td>\n",
       "      <td>761703</td>\n",
       "      <td>JOHN ARCHAMBAULT</td>\n",
       "      <td>139</td>\n",
       "      <td>Cooperative Education Prog</td>\n",
       "      <td>Chemical and Biological Engineering</td>\n",
       "    </tr>\n",
       "    <tr>\n",
       "      <td>19</td>\n",
       "      <td>761703</td>\n",
       "      <td>JOHN ARCHAMBAULT</td>\n",
       "      <td>139</td>\n",
       "      <td>Cooperative Education Prog</td>\n",
       "      <td>Civil and Environmental Engineering</td>\n",
       "    </tr>\n",
       "    <tr>\n",
       "      <td>20</td>\n",
       "      <td>761703</td>\n",
       "      <td>JOHN ARCHAMBAULT</td>\n",
       "      <td>139</td>\n",
       "      <td>Cooperative Education Prog</td>\n",
       "      <td>Electrical and Computer Engineering</td>\n",
       "    </tr>\n",
       "    <tr>\n",
       "      <td>21</td>\n",
       "      <td>761703</td>\n",
       "      <td>JOHN ARCHAMBAULT</td>\n",
       "      <td>139</td>\n",
       "      <td>Cooperative Education Prog</td>\n",
       "      <td>Engineering Mechanics and Astronautics</td>\n",
       "    </tr>\n",
       "    <tr>\n",
       "      <td>22</td>\n",
       "      <td>761703</td>\n",
       "      <td>JOHN ARCHAMBAULT</td>\n",
       "      <td>139</td>\n",
       "      <td>Cooperative Education Prog</td>\n",
       "      <td>Geological Engineering</td>\n",
       "    </tr>\n",
       "    <tr>\n",
       "      <td>23</td>\n",
       "      <td>761703</td>\n",
       "      <td>JOHN ARCHAMBAULT</td>\n",
       "      <td>139</td>\n",
       "      <td>Cooperative Education Prog</td>\n",
       "      <td>Industrial and Systems Engineering</td>\n",
       "    </tr>\n",
       "    <tr>\n",
       "      <td>24</td>\n",
       "      <td>761703</td>\n",
       "      <td>JOHN ARCHAMBAULT</td>\n",
       "      <td>139</td>\n",
       "      <td>Cooperative Education Prog</td>\n",
       "      <td>Mechanical Engineering</td>\n",
       "    </tr>\n",
       "    <tr>\n",
       "      <td>25</td>\n",
       "      <td>761703</td>\n",
       "      <td>JOHN ARCHAMBAULT</td>\n",
       "      <td>139</td>\n",
       "      <td>Cooperative Education Prog</td>\n",
       "      <td>Materials Science and Engineering</td>\n",
       "    </tr>\n",
       "    <tr>\n",
       "      <td>26</td>\n",
       "      <td>761703</td>\n",
       "      <td>JOHN ARCHAMBAULT</td>\n",
       "      <td>139</td>\n",
       "      <td>Cooperative Education Prog</td>\n",
       "      <td>Nuclear Engineering</td>\n",
       "    </tr>\n",
       "    <tr>\n",
       "      <td>27</td>\n",
       "      <td>3677061</td>\n",
       "      <td>STEPHANIE KANN</td>\n",
       "      <td>139</td>\n",
       "      <td>Cooperative Education Prog</td>\n",
       "      <td>Biomedical Engineering</td>\n",
       "    </tr>\n",
       "    <tr>\n",
       "      <td>28</td>\n",
       "      <td>3677061</td>\n",
       "      <td>STEPHANIE KANN</td>\n",
       "      <td>139</td>\n",
       "      <td>Cooperative Education Prog</td>\n",
       "      <td>Chemical and Biological Engineering</td>\n",
       "    </tr>\n",
       "    <tr>\n",
       "      <td>29</td>\n",
       "      <td>3677061</td>\n",
       "      <td>STEPHANIE KANN</td>\n",
       "      <td>139</td>\n",
       "      <td>Cooperative Education Prog</td>\n",
       "      <td>Civil and Environmental Engineering</td>\n",
       "    </tr>\n",
       "    <tr>\n",
       "      <td>30</td>\n",
       "      <td>3677061</td>\n",
       "      <td>STEPHANIE KANN</td>\n",
       "      <td>139</td>\n",
       "      <td>Cooperative Education Prog</td>\n",
       "      <td>Electrical and Computer Engineering</td>\n",
       "    </tr>\n",
       "    <tr>\n",
       "      <td>31</td>\n",
       "      <td>3677061</td>\n",
       "      <td>STEPHANIE KANN</td>\n",
       "      <td>139</td>\n",
       "      <td>Cooperative Education Prog</td>\n",
       "      <td>Engineering Mechanics and Astronautics</td>\n",
       "    </tr>\n",
       "    <tr>\n",
       "      <td>32</td>\n",
       "      <td>3677061</td>\n",
       "      <td>STEPHANIE KANN</td>\n",
       "      <td>139</td>\n",
       "      <td>Cooperative Education Prog</td>\n",
       "      <td>Geological Engineering</td>\n",
       "    </tr>\n",
       "    <tr>\n",
       "      <td>33</td>\n",
       "      <td>3677061</td>\n",
       "      <td>STEPHANIE KANN</td>\n",
       "      <td>139</td>\n",
       "      <td>Cooperative Education Prog</td>\n",
       "      <td>Industrial and Systems Engineering</td>\n",
       "    </tr>\n",
       "    <tr>\n",
       "      <td>34</td>\n",
       "      <td>3677061</td>\n",
       "      <td>STEPHANIE KANN</td>\n",
       "      <td>139</td>\n",
       "      <td>Cooperative Education Prog</td>\n",
       "      <td>Mechanical Engineering</td>\n",
       "    </tr>\n",
       "    <tr>\n",
       "      <td>35</td>\n",
       "      <td>3677061</td>\n",
       "      <td>STEPHANIE KANN</td>\n",
       "      <td>139</td>\n",
       "      <td>Cooperative Education Prog</td>\n",
       "      <td>Materials Science and Engineering</td>\n",
       "    </tr>\n",
       "    <tr>\n",
       "      <td>36</td>\n",
       "      <td>3677061</td>\n",
       "      <td>STEPHANIE KANN</td>\n",
       "      <td>139</td>\n",
       "      <td>Cooperative Education Prog</td>\n",
       "      <td>Nuclear Engineering</td>\n",
       "    </tr>\n",
       "    <tr>\n",
       "      <td>37</td>\n",
       "      <td>761703</td>\n",
       "      <td>JOHN ARCHAMBAULT</td>\n",
       "      <td>139</td>\n",
       "      <td>Cooperative Education Prog</td>\n",
       "      <td>Biomedical Engineering</td>\n",
       "    </tr>\n",
       "    <tr>\n",
       "      <td>38</td>\n",
       "      <td>761703</td>\n",
       "      <td>JOHN ARCHAMBAULT</td>\n",
       "      <td>139</td>\n",
       "      <td>Cooperative Education Prog</td>\n",
       "      <td>Chemical and Biological Engineering</td>\n",
       "    </tr>\n",
       "    <tr>\n",
       "      <td>39</td>\n",
       "      <td>761703</td>\n",
       "      <td>JOHN ARCHAMBAULT</td>\n",
       "      <td>139</td>\n",
       "      <td>Cooperative Education Prog</td>\n",
       "      <td>Civil and Environmental Engineering</td>\n",
       "    </tr>\n",
       "    <tr>\n",
       "      <td>40</td>\n",
       "      <td>761703</td>\n",
       "      <td>JOHN ARCHAMBAULT</td>\n",
       "      <td>139</td>\n",
       "      <td>Cooperative Education Prog</td>\n",
       "      <td>Electrical and Computer Engineering</td>\n",
       "    </tr>\n",
       "    <tr>\n",
       "      <td>41</td>\n",
       "      <td>761703</td>\n",
       "      <td>JOHN ARCHAMBAULT</td>\n",
       "      <td>139</td>\n",
       "      <td>Cooperative Education Prog</td>\n",
       "      <td>Engineering Mechanics and Astronautics</td>\n",
       "    </tr>\n",
       "    <tr>\n",
       "      <td>42</td>\n",
       "      <td>761703</td>\n",
       "      <td>JOHN ARCHAMBAULT</td>\n",
       "      <td>139</td>\n",
       "      <td>Cooperative Education Prog</td>\n",
       "      <td>Geological Engineering</td>\n",
       "    </tr>\n",
       "    <tr>\n",
       "      <td>43</td>\n",
       "      <td>761703</td>\n",
       "      <td>JOHN ARCHAMBAULT</td>\n",
       "      <td>139</td>\n",
       "      <td>Cooperative Education Prog</td>\n",
       "      <td>Industrial and Systems Engineering</td>\n",
       "    </tr>\n",
       "    <tr>\n",
       "      <td>44</td>\n",
       "      <td>761703</td>\n",
       "      <td>JOHN ARCHAMBAULT</td>\n",
       "      <td>139</td>\n",
       "      <td>Cooperative Education Prog</td>\n",
       "      <td>Mechanical Engineering</td>\n",
       "    </tr>\n",
       "    <tr>\n",
       "      <td>45</td>\n",
       "      <td>761703</td>\n",
       "      <td>JOHN ARCHAMBAULT</td>\n",
       "      <td>139</td>\n",
       "      <td>Cooperative Education Prog</td>\n",
       "      <td>Materials Science and Engineering</td>\n",
       "    </tr>\n",
       "    <tr>\n",
       "      <td>46</td>\n",
       "      <td>761703</td>\n",
       "      <td>JOHN ARCHAMBAULT</td>\n",
       "      <td>139</td>\n",
       "      <td>Cooperative Education Prog</td>\n",
       "      <td>Nuclear Engineering</td>\n",
       "    </tr>\n",
       "    <tr>\n",
       "      <td>47</td>\n",
       "      <td>3677061</td>\n",
       "      <td>STEPHANIE KANN</td>\n",
       "      <td>139</td>\n",
       "      <td>Cooperative Education Prog</td>\n",
       "      <td>Biomedical Engineering</td>\n",
       "    </tr>\n",
       "    <tr>\n",
       "      <td>48</td>\n",
       "      <td>3677061</td>\n",
       "      <td>STEPHANIE KANN</td>\n",
       "      <td>139</td>\n",
       "      <td>Cooperative Education Prog</td>\n",
       "      <td>Chemical and Biological Engineering</td>\n",
       "    </tr>\n",
       "    <tr>\n",
       "      <td>49</td>\n",
       "      <td>3677061</td>\n",
       "      <td>STEPHANIE KANN</td>\n",
       "      <td>139</td>\n",
       "      <td>Cooperative Education Prog</td>\n",
       "      <td>Civil and Environmental Engineering</td>\n",
       "    </tr>\n",
       "  </tbody>\n",
       "</table>\n",
       "</div>"
      ],
      "text/plain": [
       "         id              name  a_count                 course_name  \\\n",
       "0    761703  JOHN ARCHAMBAULT      105  Cooperative Education Prog   \n",
       "1    761703  JOHN ARCHAMBAULT      105  Cooperative Education Prog   \n",
       "2    761703  JOHN ARCHAMBAULT      105  Cooperative Education Prog   \n",
       "3    761703  JOHN ARCHAMBAULT      105  Cooperative Education Prog   \n",
       "4    761703  JOHN ARCHAMBAULT      105  Cooperative Education Prog   \n",
       "5    761703  JOHN ARCHAMBAULT      105  Cooperative Education Prog   \n",
       "6    761703  JOHN ARCHAMBAULT      105  Cooperative Education Prog   \n",
       "7    761703  JOHN ARCHAMBAULT      105  Cooperative Education Prog   \n",
       "8    761703  JOHN ARCHAMBAULT      158  Cooperative Education Prog   \n",
       "9    761703  JOHN ARCHAMBAULT      158  Cooperative Education Prog   \n",
       "10   761703  JOHN ARCHAMBAULT      158  Cooperative Education Prog   \n",
       "11   761703  JOHN ARCHAMBAULT      158  Cooperative Education Prog   \n",
       "12   761703  JOHN ARCHAMBAULT      158  Cooperative Education Prog   \n",
       "13   761703  JOHN ARCHAMBAULT      158  Cooperative Education Prog   \n",
       "14   761703  JOHN ARCHAMBAULT      158  Cooperative Education Prog   \n",
       "15   761703  JOHN ARCHAMBAULT      158  Cooperative Education Prog   \n",
       "16   761703  JOHN ARCHAMBAULT      158  Cooperative Education Prog   \n",
       "17   761703  JOHN ARCHAMBAULT      139  Cooperative Education Prog   \n",
       "18   761703  JOHN ARCHAMBAULT      139  Cooperative Education Prog   \n",
       "19   761703  JOHN ARCHAMBAULT      139  Cooperative Education Prog   \n",
       "20   761703  JOHN ARCHAMBAULT      139  Cooperative Education Prog   \n",
       "21   761703  JOHN ARCHAMBAULT      139  Cooperative Education Prog   \n",
       "22   761703  JOHN ARCHAMBAULT      139  Cooperative Education Prog   \n",
       "23   761703  JOHN ARCHAMBAULT      139  Cooperative Education Prog   \n",
       "24   761703  JOHN ARCHAMBAULT      139  Cooperative Education Prog   \n",
       "25   761703  JOHN ARCHAMBAULT      139  Cooperative Education Prog   \n",
       "26   761703  JOHN ARCHAMBAULT      139  Cooperative Education Prog   \n",
       "27  3677061    STEPHANIE KANN      139  Cooperative Education Prog   \n",
       "28  3677061    STEPHANIE KANN      139  Cooperative Education Prog   \n",
       "29  3677061    STEPHANIE KANN      139  Cooperative Education Prog   \n",
       "30  3677061    STEPHANIE KANN      139  Cooperative Education Prog   \n",
       "31  3677061    STEPHANIE KANN      139  Cooperative Education Prog   \n",
       "32  3677061    STEPHANIE KANN      139  Cooperative Education Prog   \n",
       "33  3677061    STEPHANIE KANN      139  Cooperative Education Prog   \n",
       "34  3677061    STEPHANIE KANN      139  Cooperative Education Prog   \n",
       "35  3677061    STEPHANIE KANN      139  Cooperative Education Prog   \n",
       "36  3677061    STEPHANIE KANN      139  Cooperative Education Prog   \n",
       "37   761703  JOHN ARCHAMBAULT      139  Cooperative Education Prog   \n",
       "38   761703  JOHN ARCHAMBAULT      139  Cooperative Education Prog   \n",
       "39   761703  JOHN ARCHAMBAULT      139  Cooperative Education Prog   \n",
       "40   761703  JOHN ARCHAMBAULT      139  Cooperative Education Prog   \n",
       "41   761703  JOHN ARCHAMBAULT      139  Cooperative Education Prog   \n",
       "42   761703  JOHN ARCHAMBAULT      139  Cooperative Education Prog   \n",
       "43   761703  JOHN ARCHAMBAULT      139  Cooperative Education Prog   \n",
       "44   761703  JOHN ARCHAMBAULT      139  Cooperative Education Prog   \n",
       "45   761703  JOHN ARCHAMBAULT      139  Cooperative Education Prog   \n",
       "46   761703  JOHN ARCHAMBAULT      139  Cooperative Education Prog   \n",
       "47  3677061    STEPHANIE KANN      139  Cooperative Education Prog   \n",
       "48  3677061    STEPHANIE KANN      139  Cooperative Education Prog   \n",
       "49  3677061    STEPHANIE KANN      139  Cooperative Education Prog   \n",
       "\n",
       "                             subjects_name  \n",
       "0                   Biomedical Engineering  \n",
       "1      Chemical and Biological Engineering  \n",
       "2      Civil and Environmental Engineering  \n",
       "3      Electrical and Computer Engineering  \n",
       "4   Engineering Mechanics and Astronautics  \n",
       "5       Industrial and Systems Engineering  \n",
       "6                   Mechanical Engineering  \n",
       "7        Materials Science and Engineering  \n",
       "8                   Biomedical Engineering  \n",
       "9      Chemical and Biological Engineering  \n",
       "10     Civil and Environmental Engineering  \n",
       "11     Electrical and Computer Engineering  \n",
       "12  Engineering Mechanics and Astronautics  \n",
       "13                  Geological Engineering  \n",
       "14      Industrial and Systems Engineering  \n",
       "15                  Mechanical Engineering  \n",
       "16       Materials Science and Engineering  \n",
       "17                  Biomedical Engineering  \n",
       "18     Chemical and Biological Engineering  \n",
       "19     Civil and Environmental Engineering  \n",
       "20     Electrical and Computer Engineering  \n",
       "21  Engineering Mechanics and Astronautics  \n",
       "22                  Geological Engineering  \n",
       "23      Industrial and Systems Engineering  \n",
       "24                  Mechanical Engineering  \n",
       "25       Materials Science and Engineering  \n",
       "26                     Nuclear Engineering  \n",
       "27                  Biomedical Engineering  \n",
       "28     Chemical and Biological Engineering  \n",
       "29     Civil and Environmental Engineering  \n",
       "30     Electrical and Computer Engineering  \n",
       "31  Engineering Mechanics and Astronautics  \n",
       "32                  Geological Engineering  \n",
       "33      Industrial and Systems Engineering  \n",
       "34                  Mechanical Engineering  \n",
       "35       Materials Science and Engineering  \n",
       "36                     Nuclear Engineering  \n",
       "37                  Biomedical Engineering  \n",
       "38     Chemical and Biological Engineering  \n",
       "39     Civil and Environmental Engineering  \n",
       "40     Electrical and Computer Engineering  \n",
       "41  Engineering Mechanics and Astronautics  \n",
       "42                  Geological Engineering  \n",
       "43      Industrial and Systems Engineering  \n",
       "44                  Mechanical Engineering  \n",
       "45       Materials Science and Engineering  \n",
       "46                     Nuclear Engineering  \n",
       "47                  Biomedical Engineering  \n",
       "48     Chemical and Biological Engineering  \n",
       "49     Civil and Environmental Engineering  "
      ]
     },
     "execution_count": 163,
     "metadata": {},
     "output_type": "execute_result"
    }
   ],
   "source": [
    "df_STEM = teachings[teachings[\"subjects_name\"].isin(STEM1)]\n",
    "df_STEM.head(50)"
   ]
  },
  {
   "cell_type": "code",
   "execution_count": 73,
   "metadata": {},
   "outputs": [],
   "source": [
    "def convert_to_integer(data):\n",
    "    integers = []\n",
    "    for i in data:\n",
    "        integers.append(int(i))\n",
    "    return integers\n",
    "\n",
    "teachings[\"a_count\"] = convert_to_integer(teachings[\"a_count\"])"
   ]
  },
  {
   "cell_type": "code",
   "execution_count": 74,
   "metadata": {},
   "outputs": [],
   "source": [
    "#finding the mean of the population\n",
    "import numpy as np\n",
    "popmean = np.mean(teachings[\"a_count\"])"
   ]
  },
  {
   "cell_type": "code",
   "execution_count": 75,
   "metadata": {
    "scrolled": true
   },
   "outputs": [
    {
     "data": {
      "text/plain": [
       "7.296120339048335"
      ]
     },
     "execution_count": 75,
     "metadata": {},
     "output_type": "execute_result"
    }
   ],
   "source": [
    "popmean"
   ]
  },
  {
   "cell_type": "code",
   "execution_count": 76,
   "metadata": {},
   "outputs": [
    {
     "data": {
      "text/plain": [
       "18.835692853554892"
      ]
     },
     "execution_count": 76,
     "metadata": {},
     "output_type": "execute_result"
    }
   ],
   "source": [
    "#standard deviation of the population\n",
    "popstd = np.std(teachings[\"a_count\"])\n",
    "popstd"
   ]
  },
  {
   "cell_type": "markdown",
   "metadata": {},
   "source": [
    "#### STEM Instructor"
   ]
  },
  {
   "cell_type": "code",
   "execution_count": 164,
   "metadata": {
    "scrolled": true
   },
   "outputs": [
    {
     "data": {
      "text/plain": [
       "295398     359\n",
       "295401     359\n",
       "295404     359\n",
       "295410     276\n",
       "295407     276\n",
       "          ... \n",
       "1567307      0\n",
       "1567308      0\n",
       "1567309      0\n",
       "1567310      0\n",
       "2206764      0\n",
       "Name: a_count, Length: 872839, dtype: int64"
      ]
     },
     "execution_count": 164,
     "metadata": {},
     "output_type": "execute_result"
    }
   ],
   "source": [
    "df_STEM[\"a_count\"].sort_values(axis=0, ascending=False, inplace=False)"
   ]
  },
  {
   "cell_type": "code",
   "execution_count": 165,
   "metadata": {},
   "outputs": [
    {
     "data": {
      "text/plain": [
       "DONALD YANDOW                  3694\n",
       "ROBERT ROWLANDS                3561\n",
       "ROBERT DONALD LORENZ           3545\n",
       "VENKATA GIRI VENKATARAMANAN    3299\n",
       "SUMAN BANERJEE                 3007\n",
       "                               ... \n",
       "DANIEL ARIF ABRAS                 1\n",
       "NILE HINRICHS                     1\n",
       "ABRAHAM AL AHMAD                  1\n",
       "FRANCIS EANES                     1\n",
       "PING WANG                         1\n",
       "Name: name, Length: 8236, dtype: int64"
      ]
     },
     "execution_count": 165,
     "metadata": {},
     "output_type": "execute_result"
    }
   ],
   "source": [
    "#taking the instructor with the most As given\n",
    "df_STEM[\"name\"].value_counts()"
   ]
  },
  {
   "cell_type": "code",
   "execution_count": 166,
   "metadata": {
    "scrolled": true
   },
   "outputs": [
    {
     "data": {
      "text/html": [
       "<div>\n",
       "<style scoped>\n",
       "    .dataframe tbody tr th:only-of-type {\n",
       "        vertical-align: middle;\n",
       "    }\n",
       "\n",
       "    .dataframe tbody tr th {\n",
       "        vertical-align: top;\n",
       "    }\n",
       "\n",
       "    .dataframe thead th {\n",
       "        text-align: right;\n",
       "    }\n",
       "</style>\n",
       "<table border=\"1\" class=\"dataframe\">\n",
       "  <thead>\n",
       "    <tr style=\"text-align: right;\">\n",
       "      <th></th>\n",
       "      <th>id</th>\n",
       "      <th>name</th>\n",
       "      <th>a_count</th>\n",
       "      <th>course_name</th>\n",
       "      <th>subjects_name</th>\n",
       "    </tr>\n",
       "  </thead>\n",
       "  <tbody>\n",
       "    <tr>\n",
       "      <td>1124411</td>\n",
       "      <td>2600022</td>\n",
       "      <td>DONALD YANDOW</td>\n",
       "      <td>0</td>\n",
       "      <td>Radiology Clerkship</td>\n",
       "      <td>Radiology</td>\n",
       "    </tr>\n",
       "    <tr>\n",
       "      <td>1124412</td>\n",
       "      <td>2600022</td>\n",
       "      <td>DONALD YANDOW</td>\n",
       "      <td>2</td>\n",
       "      <td>Radiology Clerkship</td>\n",
       "      <td>Radiology</td>\n",
       "    </tr>\n",
       "    <tr>\n",
       "      <td>1124413</td>\n",
       "      <td>2600022</td>\n",
       "      <td>DONALD YANDOW</td>\n",
       "      <td>2</td>\n",
       "      <td>Radiology Clerkship</td>\n",
       "      <td>Radiology</td>\n",
       "    </tr>\n",
       "    <tr>\n",
       "      <td>1124414</td>\n",
       "      <td>2600022</td>\n",
       "      <td>DONALD YANDOW</td>\n",
       "      <td>2</td>\n",
       "      <td>Radiology Clerkship</td>\n",
       "      <td>Radiology</td>\n",
       "    </tr>\n",
       "    <tr>\n",
       "      <td>1124415</td>\n",
       "      <td>2600022</td>\n",
       "      <td>DONALD YANDOW</td>\n",
       "      <td>0</td>\n",
       "      <td>Radiology Clerkship</td>\n",
       "      <td>Radiology</td>\n",
       "    </tr>\n",
       "    <tr>\n",
       "      <td>...</td>\n",
       "      <td>...</td>\n",
       "      <td>...</td>\n",
       "      <td>...</td>\n",
       "      <td>...</td>\n",
       "      <td>...</td>\n",
       "    </tr>\n",
       "    <tr>\n",
       "      <td>2198999</td>\n",
       "      <td>2600022</td>\n",
       "      <td>DONALD YANDOW</td>\n",
       "      <td>0</td>\n",
       "      <td>Individualized 4th Yr Clerk</td>\n",
       "      <td>Radiology</td>\n",
       "    </tr>\n",
       "    <tr>\n",
       "      <td>2199000</td>\n",
       "      <td>2600022</td>\n",
       "      <td>DONALD YANDOW</td>\n",
       "      <td>0</td>\n",
       "      <td>Individualized 4th Yr Clerk</td>\n",
       "      <td>Radiology</td>\n",
       "    </tr>\n",
       "    <tr>\n",
       "      <td>2199001</td>\n",
       "      <td>2600022</td>\n",
       "      <td>DONALD YANDOW</td>\n",
       "      <td>0</td>\n",
       "      <td>Individualized 4th Yr Clerk</td>\n",
       "      <td>Radiology</td>\n",
       "    </tr>\n",
       "    <tr>\n",
       "      <td>2199002</td>\n",
       "      <td>2600022</td>\n",
       "      <td>DONALD YANDOW</td>\n",
       "      <td>0</td>\n",
       "      <td>Individualized 4th Yr Clerk</td>\n",
       "      <td>Radiology</td>\n",
       "    </tr>\n",
       "    <tr>\n",
       "      <td>2199003</td>\n",
       "      <td>2600022</td>\n",
       "      <td>DONALD YANDOW</td>\n",
       "      <td>0</td>\n",
       "      <td>Individualized 4th Yr Clerk</td>\n",
       "      <td>Radiology</td>\n",
       "    </tr>\n",
       "  </tbody>\n",
       "</table>\n",
       "<p>3694 rows × 5 columns</p>\n",
       "</div>"
      ],
      "text/plain": [
       "              id           name  a_count                  course_name  \\\n",
       "1124411  2600022  DONALD YANDOW        0          Radiology Clerkship   \n",
       "1124412  2600022  DONALD YANDOW        2          Radiology Clerkship   \n",
       "1124413  2600022  DONALD YANDOW        2          Radiology Clerkship   \n",
       "1124414  2600022  DONALD YANDOW        2          Radiology Clerkship   \n",
       "1124415  2600022  DONALD YANDOW        0          Radiology Clerkship   \n",
       "...          ...            ...      ...                          ...   \n",
       "2198999  2600022  DONALD YANDOW        0  Individualized 4th Yr Clerk   \n",
       "2199000  2600022  DONALD YANDOW        0  Individualized 4th Yr Clerk   \n",
       "2199001  2600022  DONALD YANDOW        0  Individualized 4th Yr Clerk   \n",
       "2199002  2600022  DONALD YANDOW        0  Individualized 4th Yr Clerk   \n",
       "2199003  2600022  DONALD YANDOW        0  Individualized 4th Yr Clerk   \n",
       "\n",
       "        subjects_name  \n",
       "1124411     Radiology  \n",
       "1124412     Radiology  \n",
       "1124413     Radiology  \n",
       "1124414     Radiology  \n",
       "1124415     Radiology  \n",
       "...               ...  \n",
       "2198999     Radiology  \n",
       "2199000     Radiology  \n",
       "2199001     Radiology  \n",
       "2199002     Radiology  \n",
       "2199003     Radiology  \n",
       "\n",
       "[3694 rows x 5 columns]"
      ]
     },
     "execution_count": 166,
     "metadata": {},
     "output_type": "execute_result"
    }
   ],
   "source": [
    "#choosing Donald Yandow as the instructor to compare to the whole population\n",
    "#does he have a statistically significant correalation with the number of As earned in a course\n",
    "df_STEM_donald = df_STEM[df_STEM[\"name\"] == \"DONALD YANDOW\"]\n",
    "df_STEM_donald"
   ]
  },
  {
   "cell_type": "code",
   "execution_count": 167,
   "metadata": {},
   "outputs": [
    {
     "data": {
      "text/plain": [
       "array(['Radiology Clerkship', 'Indep Rdg & Rsch-4th Yr Med',\n",
       "       'Diagnostic Radiol Clerk-CSC', 'Individualized 4th Yr Clerk'],\n",
       "      dtype=object)"
      ]
     },
     "execution_count": 167,
     "metadata": {},
     "output_type": "execute_result"
    }
   ],
   "source": [
    "df_STEM_donald.course_name.unique()"
   ]
  },
  {
   "cell_type": "code",
   "execution_count": 169,
   "metadata": {},
   "outputs": [
    {
     "name": "stderr",
     "output_type": "stream",
     "text": [
      "/opt/anaconda3/lib/python3.7/site-packages/ipykernel_launcher.py:1: SettingWithCopyWarning: \n",
      "A value is trying to be set on a copy of a slice from a DataFrame.\n",
      "Try using .loc[row_indexer,col_indexer] = value instead\n",
      "\n",
      "See the caveats in the documentation: http://pandas.pydata.org/pandas-docs/stable/user_guide/indexing.html#returning-a-view-versus-a-copy\n",
      "  \"\"\"Entry point for launching an IPython kernel.\n"
     ]
    }
   ],
   "source": [
    "df_STEM_donald[\"a_count\"] = convert_to_integer(df_STEM_donald[\"a_count\"])"
   ]
  },
  {
   "cell_type": "code",
   "execution_count": 170,
   "metadata": {
    "scrolled": true
   },
   "outputs": [
    {
     "data": {
      "text/plain": [
       "<matplotlib.axes._subplots.AxesSubplot at 0x1b91baee10>"
      ]
     },
     "execution_count": 170,
     "metadata": {},
     "output_type": "execute_result"
    },
    {
     "data": {
      "image/png": "[encoded data removed]",
      "text/plain": [
       "<Figure size 864x720 with 1 Axes>"
      ]
     },
     "metadata": {},
     "output_type": "display_data"
    }
   ],
   "source": [
    "# # Visualize sample distribution for normality \n",
    "import matplotlib.pyplot as plt\n",
    "import seaborn as sns\n",
    "sns.set(rc={'figure.figsize':(12,10)})\n",
    "sns.distplot(df_STEM_donald[\"a_count\"])"
   ]
  },
  {
   "cell_type": "code",
   "execution_count": 171,
   "metadata": {},
   "outputs": [],
   "source": [
    "#non-normal, random sampling\n",
    "\n",
    "donald_norm = create_sample_distribution(df_STEM_donald['a_count'], dist_size=1200, n=50)\n"
   ]
  },
  {
   "cell_type": "code",
   "execution_count": 172,
   "metadata": {
    "scrolled": true
   },
   "outputs": [
    {
     "data": {
      "text/plain": [
       "<matplotlib.axes._subplots.AxesSubplot at 0x1b9cfeac90>"
      ]
     },
     "execution_count": 172,
     "metadata": {},
     "output_type": "execute_result"
    },
    {
     "data": {
      "image/png": "[encoded data removed]",
      "text/plain": [
       "<Figure size 720x576 with 1 Axes>"
      ]
     },
     "metadata": {},
     "output_type": "display_data"
    }
   ],
   "source": [
    "sns.set(rc={'figure.figsize':(10,8)})\n",
    "sns.distplot(donald_norm)"
   ]
  },
  {
   "cell_type": "code",
   "execution_count": 87,
   "metadata": {},
   "outputs": [
    {
     "data": {
      "text/plain": [
       "NormaltestResult(statistic=0.9289197889066048, pvalue=0.6284744560784284)"
      ]
     },
     "execution_count": 87,
     "metadata": {},
     "output_type": "execute_result"
    }
   ],
   "source": [
    "# checking normality with NormalTest from Scipy\n",
    "import scipy.stats as st\n",
    "st.normaltest(donald_norm)"
   ]
  },
  {
   "cell_type": "code",
   "execution_count": 88,
   "metadata": {},
   "outputs": [
    {
     "data": {
      "text/plain": [
       "1.7668"
      ]
     },
     "execution_count": 88,
     "metadata": {},
     "output_type": "execute_result"
    }
   ],
   "source": [
    "donald_norm_mean = np.mean(donald_norm)\n",
    "donald_norm_mean"
   ]
  },
  {
   "cell_type": "code",
   "execution_count": 173,
   "metadata": {
    "scrolled": true
   },
   "outputs": [
    {
     "data": {
      "text/plain": [
       "(0.9810414841925539, -2.0757505112724703)"
      ]
     },
     "execution_count": 173,
     "metadata": {},
     "output_type": "execute_result"
    }
   ],
   "source": [
    "#running z-test\n",
    "import math\n",
    "import scipy.stats as stats\n",
    "mu = popmean\n",
    "sigma = popstd\n",
    "n=50\n",
    "x_bar = donald_norm_mean\n",
    "z = (x_bar - mu)/(sigma/math.sqrt(n))\n",
    "p = 1 - stats.norm.cdf(z)\n",
    "\n",
    "p,z"
   ]
  },
  {
   "cell_type": "markdown",
   "metadata": {},
   "source": [
    "#### Interpretation:\n",
    "\n",
    "P-value is much higger than 0.05, therefore, we have failed to reject the null which means that Donald Yandow has no correalation to the number of As earned in his STEM courses."
   ]
  },
  {
   "cell_type": "markdown",
   "metadata": {},
   "source": [
    "#### Taking an instructor from Humanities "
   ]
  },
  {
   "cell_type": "code",
   "execution_count": 174,
   "metadata": {},
   "outputs": [
    {
     "data": {
      "text/html": [
       "<div>\n",
       "<style scoped>\n",
       "    .dataframe tbody tr th:only-of-type {\n",
       "        vertical-align: middle;\n",
       "    }\n",
       "\n",
       "    .dataframe tbody tr th {\n",
       "        vertical-align: top;\n",
       "    }\n",
       "\n",
       "    .dataframe thead th {\n",
       "        text-align: right;\n",
       "    }\n",
       "</style>\n",
       "<table border=\"1\" class=\"dataframe\">\n",
       "  <thead>\n",
       "    <tr style=\"text-align: right;\">\n",
       "      <th></th>\n",
       "      <th>id</th>\n",
       "      <th>name</th>\n",
       "      <th>a_count</th>\n",
       "      <th>course_name</th>\n",
       "      <th>subjects_name</th>\n",
       "    </tr>\n",
       "  </thead>\n",
       "  <tbody>\n",
       "    <tr>\n",
       "      <td>2287</td>\n",
       "      <td>4432700</td>\n",
       "      <td>REBECCA GENAUER</td>\n",
       "      <td>1</td>\n",
       "      <td>Intro to Speech Composition</td>\n",
       "      <td>Communication Arts</td>\n",
       "    </tr>\n",
       "    <tr>\n",
       "      <td>2288</td>\n",
       "      <td>4432700</td>\n",
       "      <td>REBECCA GENAUER</td>\n",
       "      <td>3</td>\n",
       "      <td>Intro to Speech Composition</td>\n",
       "      <td>Communication Arts</td>\n",
       "    </tr>\n",
       "    <tr>\n",
       "      <td>2289</td>\n",
       "      <td>4432700</td>\n",
       "      <td>REBECCA GENAUER</td>\n",
       "      <td>3</td>\n",
       "      <td>Intro to Speech Composition</td>\n",
       "      <td>Communication Arts</td>\n",
       "    </tr>\n",
       "    <tr>\n",
       "      <td>2290</td>\n",
       "      <td>4432700</td>\n",
       "      <td>REBECCA GENAUER</td>\n",
       "      <td>3</td>\n",
       "      <td>Intro to Speech Composition</td>\n",
       "      <td>Communication Arts</td>\n",
       "    </tr>\n",
       "    <tr>\n",
       "      <td>2291</td>\n",
       "      <td>4432700</td>\n",
       "      <td>REBECCA GENAUER</td>\n",
       "      <td>2</td>\n",
       "      <td>Intro to Speech Composition</td>\n",
       "      <td>Communication Arts</td>\n",
       "    </tr>\n",
       "  </tbody>\n",
       "</table>\n",
       "</div>"
      ],
      "text/plain": [
       "           id             name  a_count                  course_name  \\\n",
       "2287  4432700  REBECCA GENAUER        1  Intro to Speech Composition   \n",
       "2288  4432700  REBECCA GENAUER        3  Intro to Speech Composition   \n",
       "2289  4432700  REBECCA GENAUER        3  Intro to Speech Composition   \n",
       "2290  4432700  REBECCA GENAUER        3  Intro to Speech Composition   \n",
       "2291  4432700  REBECCA GENAUER        2  Intro to Speech Composition   \n",
       "\n",
       "           subjects_name  \n",
       "2287  Communication Arts  \n",
       "2288  Communication Arts  \n",
       "2289  Communication Arts  \n",
       "2290  Communication Arts  \n",
       "2291  Communication Arts  "
      ]
     },
     "execution_count": 174,
     "metadata": {},
     "output_type": "execute_result"
    }
   ],
   "source": [
    "#Do the same thing to HUM courses\n",
    "df_HUM = teachings[teachings[\"subjects_name\"].isin(HUM)]\n",
    "df_HUM.head()"
   ]
  },
  {
   "cell_type": "code",
   "execution_count": 175,
   "metadata": {},
   "outputs": [
    {
     "data": {
      "text/plain": [
       "IDA BALDERRAMA-TRUDELL    1920\n",
       "ALBERTA GLORIA            1791\n",
       "MARC KLEIJWEGT            1766\n",
       "KELLI RICHARDS            1617\n",
       "ERIK WRIGHT               1563\n",
       "                          ... \n",
       "VELCHERU NARAYANA RAO        1\n",
       "JOAN HONG                    1\n",
       "STACEY LYNN PELIKA           1\n",
       "JEEWON YOO                   1\n",
       "RICK SCHELTHELM              1\n",
       "Name: name, Length: 5334, dtype: int64"
      ]
     },
     "execution_count": 175,
     "metadata": {},
     "output_type": "execute_result"
    }
   ],
   "source": [
    "#taking the instructor giving the most As in humanities courses\n",
    "df_HUM[\"name\"].value_counts()"
   ]
  },
  {
   "cell_type": "code",
   "execution_count": 177,
   "metadata": {},
   "outputs": [
    {
     "data": {
      "text/html": [
       "<div>\n",
       "<style scoped>\n",
       "    .dataframe tbody tr th:only-of-type {\n",
       "        vertical-align: middle;\n",
       "    }\n",
       "\n",
       "    .dataframe tbody tr th {\n",
       "        vertical-align: top;\n",
       "    }\n",
       "\n",
       "    .dataframe thead th {\n",
       "        text-align: right;\n",
       "    }\n",
       "</style>\n",
       "<table border=\"1\" class=\"dataframe\">\n",
       "  <thead>\n",
       "    <tr style=\"text-align: right;\">\n",
       "      <th></th>\n",
       "      <th>id</th>\n",
       "      <th>name</th>\n",
       "      <th>a_count</th>\n",
       "      <th>course_name</th>\n",
       "      <th>subjects_name</th>\n",
       "    </tr>\n",
       "  </thead>\n",
       "  <tbody>\n",
       "    <tr>\n",
       "      <td>198124</td>\n",
       "      <td>3012257</td>\n",
       "      <td>IDA BALDERRAMA-TRUDELL</td>\n",
       "      <td>0</td>\n",
       "      <td>Human Dev: Ed Effectiveness</td>\n",
       "      <td>Counseling Psychology</td>\n",
       "    </tr>\n",
       "    <tr>\n",
       "      <td>198125</td>\n",
       "      <td>3012257</td>\n",
       "      <td>IDA BALDERRAMA-TRUDELL</td>\n",
       "      <td>8</td>\n",
       "      <td>Human Dev: Ed Effectiveness</td>\n",
       "      <td>Counseling Psychology</td>\n",
       "    </tr>\n",
       "    <tr>\n",
       "      <td>198126</td>\n",
       "      <td>3012257</td>\n",
       "      <td>IDA BALDERRAMA-TRUDELL</td>\n",
       "      <td>0</td>\n",
       "      <td>Human Dev: Ed Effectiveness</td>\n",
       "      <td>Counseling Psychology</td>\n",
       "    </tr>\n",
       "    <tr>\n",
       "      <td>198127</td>\n",
       "      <td>3012257</td>\n",
       "      <td>IDA BALDERRAMA-TRUDELL</td>\n",
       "      <td>13</td>\n",
       "      <td>Human Dev: Ed Effectiveness</td>\n",
       "      <td>Counseling Psychology</td>\n",
       "    </tr>\n",
       "    <tr>\n",
       "      <td>198128</td>\n",
       "      <td>3012257</td>\n",
       "      <td>IDA BALDERRAMA-TRUDELL</td>\n",
       "      <td>15</td>\n",
       "      <td>Human Dev: Ed Effectiveness</td>\n",
       "      <td>Counseling Psychology</td>\n",
       "    </tr>\n",
       "    <tr>\n",
       "      <td>...</td>\n",
       "      <td>...</td>\n",
       "      <td>...</td>\n",
       "      <td>...</td>\n",
       "      <td>...</td>\n",
       "      <td>...</td>\n",
       "    </tr>\n",
       "    <tr>\n",
       "      <td>215725</td>\n",
       "      <td>3012257</td>\n",
       "      <td>IDA BALDERRAMA-TRUDELL</td>\n",
       "      <td>0</td>\n",
       "      <td>Human Dev: Ed Effectiveness</td>\n",
       "      <td>Counseling Psychology</td>\n",
       "    </tr>\n",
       "    <tr>\n",
       "      <td>215726</td>\n",
       "      <td>3012257</td>\n",
       "      <td>IDA BALDERRAMA-TRUDELL</td>\n",
       "      <td>6</td>\n",
       "      <td>Human Dev: Ed Effectiveness</td>\n",
       "      <td>Counseling Psychology</td>\n",
       "    </tr>\n",
       "    <tr>\n",
       "      <td>215727</td>\n",
       "      <td>3012257</td>\n",
       "      <td>IDA BALDERRAMA-TRUDELL</td>\n",
       "      <td>25</td>\n",
       "      <td>Human Dev: Ed Effectiveness</td>\n",
       "      <td>Counseling Psychology</td>\n",
       "    </tr>\n",
       "    <tr>\n",
       "      <td>215728</td>\n",
       "      <td>3012257</td>\n",
       "      <td>IDA BALDERRAMA-TRUDELL</td>\n",
       "      <td>5</td>\n",
       "      <td>Human Dev: Ed Effectiveness</td>\n",
       "      <td>Counseling Psychology</td>\n",
       "    </tr>\n",
       "    <tr>\n",
       "      <td>215729</td>\n",
       "      <td>3012257</td>\n",
       "      <td>IDA BALDERRAMA-TRUDELL</td>\n",
       "      <td>8</td>\n",
       "      <td>Human Dev: Ed Effectiveness</td>\n",
       "      <td>Counseling Psychology</td>\n",
       "    </tr>\n",
       "  </tbody>\n",
       "</table>\n",
       "<p>1920 rows × 5 columns</p>\n",
       "</div>"
      ],
      "text/plain": [
       "             id                    name  a_count                  course_name  \\\n",
       "198124  3012257  IDA BALDERRAMA-TRUDELL        0  Human Dev: Ed Effectiveness   \n",
       "198125  3012257  IDA BALDERRAMA-TRUDELL        8  Human Dev: Ed Effectiveness   \n",
       "198126  3012257  IDA BALDERRAMA-TRUDELL        0  Human Dev: Ed Effectiveness   \n",
       "198127  3012257  IDA BALDERRAMA-TRUDELL       13  Human Dev: Ed Effectiveness   \n",
       "198128  3012257  IDA BALDERRAMA-TRUDELL       15  Human Dev: Ed Effectiveness   \n",
       "...         ...                     ...      ...                          ...   \n",
       "215725  3012257  IDA BALDERRAMA-TRUDELL        0  Human Dev: Ed Effectiveness   \n",
       "215726  3012257  IDA BALDERRAMA-TRUDELL        6  Human Dev: Ed Effectiveness   \n",
       "215727  3012257  IDA BALDERRAMA-TRUDELL       25  Human Dev: Ed Effectiveness   \n",
       "215728  3012257  IDA BALDERRAMA-TRUDELL        5  Human Dev: Ed Effectiveness   \n",
       "215729  3012257  IDA BALDERRAMA-TRUDELL        8  Human Dev: Ed Effectiveness   \n",
       "\n",
       "                subjects_name  \n",
       "198124  Counseling Psychology  \n",
       "198125  Counseling Psychology  \n",
       "198126  Counseling Psychology  \n",
       "198127  Counseling Psychology  \n",
       "198128  Counseling Psychology  \n",
       "...                       ...  \n",
       "215725  Counseling Psychology  \n",
       "215726  Counseling Psychology  \n",
       "215727  Counseling Psychology  \n",
       "215728  Counseling Psychology  \n",
       "215729  Counseling Psychology  \n",
       "\n",
       "[1920 rows x 5 columns]"
      ]
     },
     "execution_count": 177,
     "metadata": {},
     "output_type": "execute_result"
    }
   ],
   "source": [
    "#choosing Nicholas Hill as the instructor to compare to the whole population\n",
    "#does he have a statistically significant correalation with the number of As earned in a course\n",
    "df_HUM_ida = df_HUM[df_HUM[\"name\"] == \"IDA BALDERRAMA-TRUDELL\"]\n",
    "df_HUM_ida"
   ]
  },
  {
   "cell_type": "code",
   "execution_count": 178,
   "metadata": {
    "scrolled": true
   },
   "outputs": [
    {
     "data": {
      "text/plain": [
       "array(['Human Dev: Ed Effectiveness'], dtype=object)"
      ]
     },
     "execution_count": 178,
     "metadata": {},
     "output_type": "execute_result"
    }
   ],
   "source": [
    "df_HUM_ida.course_name.unique()"
   ]
  },
  {
   "cell_type": "code",
   "execution_count": 179,
   "metadata": {
    "scrolled": true
   },
   "outputs": [
    {
     "name": "stderr",
     "output_type": "stream",
     "text": [
      "/opt/anaconda3/lib/python3.7/site-packages/ipykernel_launcher.py:1: SettingWithCopyWarning: \n",
      "A value is trying to be set on a copy of a slice from a DataFrame.\n",
      "Try using .loc[row_indexer,col_indexer] = value instead\n",
      "\n",
      "See the caveats in the documentation: http://pandas.pydata.org/pandas-docs/stable/user_guide/indexing.html#returning-a-view-versus-a-copy\n",
      "  \"\"\"Entry point for launching an IPython kernel.\n"
     ]
    }
   ],
   "source": [
    "df_HUM_ida[\"a_count\"] = convert_to_integer(df_HUM_ida[\"a_count\"])"
   ]
  },
  {
   "cell_type": "code",
   "execution_count": 180,
   "metadata": {},
   "outputs": [
    {
     "data": {
      "text/plain": [
       "<matplotlib.axes._subplots.AxesSubplot at 0x1bbbe43e50>"
      ]
     },
     "execution_count": 180,
     "metadata": {},
     "output_type": "execute_result"
    },
    {
     "data": {
      "image/png": "[encoded data removed]",
      "text/plain": [
       "<Figure size 864x720 with 1 Axes>"
      ]
     },
     "metadata": {},
     "output_type": "display_data"
    }
   ],
   "source": [
    "sns.set(rc={'figure.figsize':(12,10)})\n",
    "sns.distplot(df_HUM_ida[\"a_count\"])"
   ]
  },
  {
   "cell_type": "code",
   "execution_count": 181,
   "metadata": {},
   "outputs": [],
   "source": [
    "#non-normal distribution\n",
    "ida_norm = create_sample_distribution(df_HUM_ida['a_count'], dist_size=10000, n=50)"
   ]
  },
  {
   "cell_type": "code",
   "execution_count": 182,
   "metadata": {
    "scrolled": true
   },
   "outputs": [
    {
     "data": {
      "text/plain": [
       "<matplotlib.axes._subplots.AxesSubplot at 0x1b9e783750>"
      ]
     },
     "execution_count": 182,
     "metadata": {},
     "output_type": "execute_result"
    },
    {
     "data": {
      "image/png": "[encoded data removed]",
      "text/plain": [
       "<Figure size 864x720 with 1 Axes>"
      ]
     },
     "metadata": {},
     "output_type": "display_data"
    }
   ],
   "source": [
    "sns.set(rc={'figure.figsize':(12,10)})\n",
    "sns.distplot(ida_norm)"
   ]
  },
  {
   "cell_type": "code",
   "execution_count": 184,
   "metadata": {},
   "outputs": [
    {
     "data": {
      "text/plain": [
       "27.749131999999996"
      ]
     },
     "execution_count": 184,
     "metadata": {},
     "output_type": "execute_result"
    }
   ],
   "source": [
    "ida_norm_mean = np.mean(nicholas_norm)\n",
    "ida_norm_mean"
   ]
  },
  {
   "cell_type": "code",
   "execution_count": 185,
   "metadata": {},
   "outputs": [
    {
     "data": {
      "text/plain": [
       "(8.104628079763643e-15, 7.6782220614820265)"
      ]
     },
     "execution_count": 185,
     "metadata": {},
     "output_type": "execute_result"
    }
   ],
   "source": [
    "#running z-test\n",
    "\n",
    "mu = popmean\n",
    "sigma = popstd\n",
    "n=50\n",
    "x_bar = ida_norm_mean\n",
    "z = (x_bar - mu)/(sigma/math.sqrt(n))\n",
    "p = 1 - stats.norm.cdf(z)\n",
    "\n",
    "p,z"
   ]
  },
  {
   "cell_type": "markdown",
   "metadata": {},
   "source": [
    "#### Interpretation:\n",
    "\n",
    "P-value is much lower than 0.05, therefore, we reject the null which means that Ida has some correlation to the number of As earned in his humanity courses."
   ]
  },
  {
   "cell_type": "markdown",
   "metadata": {},
   "source": [
    "### Comparing Donald and Ida"
   ]
  },
  {
   "cell_type": "markdown",
   "metadata": {},
   "source": [
    "H0 = There is no difference between the As given by Donald and Ida\n",
    "\n",
    "H1 = There is difference between the As given by Donald and Ida"
   ]
  },
  {
   "cell_type": "code",
   "execution_count": 186,
   "metadata": {
    "scrolled": true
   },
   "outputs": [
    {
     "data": {
      "text/plain": [
       "<matplotlib.axes._subplots.AxesSubplot at 0x1b53209910>"
      ]
     },
     "execution_count": 186,
     "metadata": {},
     "output_type": "execute_result"
    },
    {
     "data": {
      "image/png": "[encoded data removed]",
      "text/plain": [
       "<Figure size 864x720 with 1 Axes>"
      ]
     },
     "metadata": {},
     "output_type": "display_data"
    }
   ],
   "source": [
    "sns.set(rc={'figure.figsize':(12,10)})\n",
    "sns.distplot(ida_norm)\n",
    "sns.distplot(donald_norm)"
   ]
  },
  {
   "cell_type": "code",
   "execution_count": null,
   "metadata": {},
   "outputs": [],
   "source": [
    "def find_t_crit(sample1, sample2, alpha):\n",
    "    return stats.t.ppf(1-(alpha/2), (len(sample1)+len(sample2)-2))\n",
    "\n",
    "find_t_crit(ida_norm, donald_norm, 0.05)"
   ]
  },
  {
   "cell_type": "code",
   "execution_count": null,
   "metadata": {},
   "outputs": [],
   "source": [
    "def two_sample_ttest_student_t(sample1, sample2, alpha):\n",
    "    return stats.ttest_ind(sample1, sample2, equal_var=False)\n",
    "\n",
    "two_sample_ttest_student_t(ida_norm, donald_norm, 0.05)"
   ]
  },
  {
   "cell_type": "code",
   "execution_count": 193,
   "metadata": {
    "scrolled": false
   },
   "outputs": [
    {
     "name": "stdout",
     "output_type": "stream",
     "text": [
      "Two Tail T-test:\n",
      "---------------------------------------------------------------\n",
      "Obs Number: Sample_1 = 10000   Sample_2 = 1200\n",
      "Sample Means: Sample_1 = 9.586   Sample_2 = 1.753\n",
      "Mean Differance: 7.833\n",
      "---------------------------------------------------------------\n",
      "t-crit: 1.9601758548119323 \n",
      "t-stat: 176.5425106520741 \n",
      "P-value: 0.0 \n",
      "Alpha(2-Tail): 0.025\n",
      "---------------------------------------------------------------\n",
      "|t_stat| > t_crit: True\n",
      "P_value < Alpha(2-Tail): True\n",
      "\n",
      "Reject Null_H! The results are statistically significant.\n",
      "---------------------------------------------------------------\n",
      "Cohen_d Effect Size: 5.39 \n",
      "Power: 1.0\n"
     ]
    }
   ],
   "source": [
    "# running a Two Sample T-test\n",
    "two_sample_ttest(ida_norm, donald_norm, 0.05)\n",
    "ES, power = power_and_effect_size(ida_norm, donald_norm, 0.05)\n",
    "print(\"Cohen_d Effect Size:\", ES, \"\\nPower:\", power)"
   ]
  },
  {
   "cell_type": "code",
   "execution_count": null,
   "metadata": {},
   "outputs": [],
   "source": [
    "#since the two sample size are different, we run a Welch's test\n",
    "def welch_t(a, b):\n",
    "    \n",
    "    \"\"\" Calculate Welch's t-statistic for two samples. \"\"\"\n",
    "\n",
    "    numerator = a.mean() - b.mean()\n",
    "    \n",
    "    # “ddof = Delta Degrees of Freedom”: the divisor used in the calculation is N - ddof, \n",
    "    #  where N represents the number of elements. By default ddof is zero.\n",
    "    \n",
    "    denominator = np.sqrt(a.var(ddof=1)/a.size + b.var(ddof=1)/b.size)\n",
    "    \n",
    "    return np.abs(numerator/denominator)\n",
    "\n",
    "def welch_df(a, b):\n",
    "    \n",
    "    \"\"\" Calculate the effective degrees of freedom for two samples. \"\"\"\n",
    "    \n",
    "    s1 = a.var(ddof=1) \n",
    "    s2 = b.var(ddof=1)\n",
    "    n1 = a.size\n",
    "    n2 = b.size\n",
    "    \n",
    "    numerator = (s1/n1 + s2/n2)**2\n",
    "    denominator = (s1/ n1)**2/(n1 - 1) + (s2/ n2)**2/(n2 - 1)\n",
    "    \n",
    "    return numerator/denominator\n",
    "\n",
    "# calculate t-score and the degrees of freedom for the two samples, a and b\n",
    "t = welch_t(ida_norm, donald_norm)\n",
    "df = welch_df(ida_norm, donald_norm)\n",
    "print(t,df)\n",
    "\n"
   ]
  },
  {
   "cell_type": "code",
   "execution_count": null,
   "metadata": {},
   "outputs": [],
   "source": [
    "#p-value for Welch's t-test\n",
    "p = 1 - stats.t.cdf(t, df)\n",
    "print(p)"
   ]
  },
  {
   "cell_type": "markdown",
   "metadata": {},
   "source": [
    "#### Interpretation\n",
    "\n",
    "There is a statistically significant difference between the numbers of As given by Ida and Donald."
   ]
  },
  {
   "cell_type": "code",
   "execution_count": 145,
   "metadata": {},
   "outputs": [
    {
     "data": {
      "text/html": [
       "<div>\n",
       "<style scoped>\n",
       "    .dataframe tbody tr th:only-of-type {\n",
       "        vertical-align: middle;\n",
       "    }\n",
       "\n",
       "    .dataframe tbody tr th {\n",
       "        vertical-align: top;\n",
       "    }\n",
       "\n",
       "    .dataframe thead th {\n",
       "        text-align: right;\n",
       "    }\n",
       "</style>\n",
       "<table border=\"1\" class=\"dataframe\">\n",
       "  <thead>\n",
       "    <tr style=\"text-align: right;\">\n",
       "      <th></th>\n",
       "      <th>instructor</th>\n",
       "      <th>section_type</th>\n",
       "      <th>CourseName</th>\n",
       "      <th>SubjectName</th>\n",
       "      <th>SUM(a_count)</th>\n",
       "      <th>SUM(b_count)</th>\n",
       "      <th>SUM(c_count)</th>\n",
       "      <th>SUM(d_count)</th>\n",
       "      <th>SUM(f_count)</th>\n",
       "      <th>SUM(u_count)</th>\n",
       "      <th>Total</th>\n",
       "    </tr>\n",
       "  </thead>\n",
       "  <tbody>\n",
       "    <tr>\n",
       "      <td>0</td>\n",
       "      <td>JR. JAMES BROWN</td>\n",
       "      <td>SEM</td>\n",
       "      <td>First-Year Seminar in the Humanities</td>\n",
       "      <td>Interdisciplinary Courses (L&amp;S)</td>\n",
       "      <td>289</td>\n",
       "      <td>91</td>\n",
       "      <td>17</td>\n",
       "      <td>5</td>\n",
       "      <td>5</td>\n",
       "      <td>0</td>\n",
       "      <td>407</td>\n",
       "    </tr>\n",
       "    <tr>\n",
       "      <td>1</td>\n",
       "      <td>M.D. ELIZABETH A JACOBS</td>\n",
       "      <td>IND</td>\n",
       "      <td>Independent Study</td>\n",
       "      <td>Medicine</td>\n",
       "      <td>164</td>\n",
       "      <td>2</td>\n",
       "      <td>0</td>\n",
       "      <td>0</td>\n",
       "      <td>0</td>\n",
       "      <td>0</td>\n",
       "      <td>166</td>\n",
       "    </tr>\n",
       "    <tr>\n",
       "      <td>2</td>\n",
       "      <td>- EKTA</td>\n",
       "      <td>LAB</td>\n",
       "      <td>Introduction to Data Programming</td>\n",
       "      <td>Computer Sciences</td>\n",
       "      <td>81</td>\n",
       "      <td>74</td>\n",
       "      <td>9</td>\n",
       "      <td>3</td>\n",
       "      <td>3</td>\n",
       "      <td>0</td>\n",
       "      <td>170</td>\n",
       "    </tr>\n",
       "    <tr>\n",
       "      <td>3</td>\n",
       "      <td>. ABHINAVA</td>\n",
       "      <td>DIS</td>\n",
       "      <td>General Physics</td>\n",
       "      <td>Physics</td>\n",
       "      <td>1588</td>\n",
       "      <td>1646</td>\n",
       "      <td>380</td>\n",
       "      <td>58</td>\n",
       "      <td>30</td>\n",
       "      <td>0</td>\n",
       "      <td>3702</td>\n",
       "    </tr>\n",
       "    <tr>\n",
       "      <td>4</td>\n",
       "      <td>. LEAH TOM</td>\n",
       "      <td>LAB</td>\n",
       "      <td>General Physics</td>\n",
       "      <td>Physics</td>\n",
       "      <td>324</td>\n",
       "      <td>400</td>\n",
       "      <td>460</td>\n",
       "      <td>8</td>\n",
       "      <td>8</td>\n",
       "      <td>0</td>\n",
       "      <td>1200</td>\n",
       "    </tr>\n",
       "    <tr>\n",
       "      <td>5</td>\n",
       "      <td>. MITCH</td>\n",
       "      <td>FLD</td>\n",
       "      <td>Clinical Program</td>\n",
       "      <td>Law</td>\n",
       "      <td>1</td>\n",
       "      <td>0</td>\n",
       "      <td>0</td>\n",
       "      <td>0</td>\n",
       "      <td>0</td>\n",
       "      <td>3</td>\n",
       "      <td>4</td>\n",
       "    </tr>\n",
       "    <tr>\n",
       "      <td>6</td>\n",
       "      <td>. NEHARIKA</td>\n",
       "      <td>LAB</td>\n",
       "      <td>Fundamentals of Electrical and Electro-mechani...</td>\n",
       "      <td>Electrical and Computer Engineering</td>\n",
       "      <td>132</td>\n",
       "      <td>140</td>\n",
       "      <td>26</td>\n",
       "      <td>8</td>\n",
       "      <td>0</td>\n",
       "      <td>0</td>\n",
       "      <td>306</td>\n",
       "    </tr>\n",
       "    <tr>\n",
       "      <td>7</td>\n",
       "      <td>. P KRISHNA</td>\n",
       "      <td>LAB</td>\n",
       "      <td>Engineering Measurements and Instrumentation</td>\n",
       "      <td>Mechanical Engineering</td>\n",
       "      <td>96</td>\n",
       "      <td>356</td>\n",
       "      <td>56</td>\n",
       "      <td>4</td>\n",
       "      <td>0</td>\n",
       "      <td>0</td>\n",
       "      <td>512</td>\n",
       "    </tr>\n",
       "    <tr>\n",
       "      <td>8</td>\n",
       "      <td>. PRASHANSA</td>\n",
       "      <td>LAB</td>\n",
       "      <td>Fluid Mechanics</td>\n",
       "      <td>Civil and Environmental Engineering</td>\n",
       "      <td>11</td>\n",
       "      <td>31</td>\n",
       "      <td>8</td>\n",
       "      <td>2</td>\n",
       "      <td>0</td>\n",
       "      <td>0</td>\n",
       "      <td>52</td>\n",
       "    </tr>\n",
       "    <tr>\n",
       "      <td>9</td>\n",
       "      <td>. RAJSHEKHAR</td>\n",
       "      <td>LAB</td>\n",
       "      <td>Process Dynamics and Control</td>\n",
       "      <td>Chemical and Biological Engineering</td>\n",
       "      <td>7</td>\n",
       "      <td>3</td>\n",
       "      <td>6</td>\n",
       "      <td>0</td>\n",
       "      <td>0</td>\n",
       "      <td>0</td>\n",
       "      <td>16</td>\n",
       "    </tr>\n",
       "    <tr>\n",
       "      <td>10</td>\n",
       "      <td>. SARADA</td>\n",
       "      <td>LEC</td>\n",
       "      <td>Entrepreneurial Finance</td>\n",
       "      <td>Finance, Investment and Banking</td>\n",
       "      <td>111</td>\n",
       "      <td>66</td>\n",
       "      <td>2</td>\n",
       "      <td>0</td>\n",
       "      <td>1</td>\n",
       "      <td>0</td>\n",
       "      <td>180</td>\n",
       "    </tr>\n",
       "    <tr>\n",
       "      <td>11</td>\n",
       "      <td>A IVAN SOLL</td>\n",
       "      <td>LEC</td>\n",
       "      <td>Introduction to Philosophy</td>\n",
       "      <td>Philosophy</td>\n",
       "      <td>741</td>\n",
       "      <td>955</td>\n",
       "      <td>208</td>\n",
       "      <td>50</td>\n",
       "      <td>36</td>\n",
       "      <td>0</td>\n",
       "      <td>1990</td>\n",
       "    </tr>\n",
       "    <tr>\n",
       "      <td>12</td>\n",
       "      <td>A-XING ZHU</td>\n",
       "      <td>LEC</td>\n",
       "      <td>An Introduction to Geographic Information Systems</td>\n",
       "      <td>Civil and Environmental Engineering</td>\n",
       "      <td>793</td>\n",
       "      <td>490</td>\n",
       "      <td>135</td>\n",
       "      <td>67</td>\n",
       "      <td>22</td>\n",
       "      <td>0</td>\n",
       "      <td>1507</td>\n",
       "    </tr>\n",
       "    <tr>\n",
       "      <td>13</td>\n",
       "      <td>A. BALGAMIS</td>\n",
       "      <td>LEC</td>\n",
       "      <td>Islam Reform&amp;Rev-Cntrl Asia</td>\n",
       "      <td>History</td>\n",
       "      <td>43</td>\n",
       "      <td>26</td>\n",
       "      <td>11</td>\n",
       "      <td>3</td>\n",
       "      <td>0</td>\n",
       "      <td>0</td>\n",
       "      <td>83</td>\n",
       "    </tr>\n",
       "    <tr>\n",
       "      <td>14</td>\n",
       "      <td>AAKASH VARSHA SWAMINATHAN</td>\n",
       "      <td>DIS</td>\n",
       "      <td>General Chemistry II</td>\n",
       "      <td>Chemistry</td>\n",
       "      <td>1808</td>\n",
       "      <td>1844</td>\n",
       "      <td>1424</td>\n",
       "      <td>248</td>\n",
       "      <td>52</td>\n",
       "      <td>0</td>\n",
       "      <td>5376</td>\n",
       "    </tr>\n",
       "    <tr>\n",
       "      <td>15</td>\n",
       "      <td>AAKRITI AGARWAL</td>\n",
       "      <td>DIS</td>\n",
       "      <td>Linear Algebra and Differential Equations</td>\n",
       "      <td>Mathematics</td>\n",
       "      <td>300</td>\n",
       "      <td>210</td>\n",
       "      <td>176</td>\n",
       "      <td>52</td>\n",
       "      <td>40</td>\n",
       "      <td>0</td>\n",
       "      <td>778</td>\n",
       "    </tr>\n",
       "    <tr>\n",
       "      <td>16</td>\n",
       "      <td>AALIYA BIBI</td>\n",
       "      <td>DIS</td>\n",
       "      <td>Women and Their Bodies in Health and Disease</td>\n",
       "      <td>Gender and Women’s Studies</td>\n",
       "      <td>3236</td>\n",
       "      <td>860</td>\n",
       "      <td>156</td>\n",
       "      <td>40</td>\n",
       "      <td>60</td>\n",
       "      <td>0</td>\n",
       "      <td>4352</td>\n",
       "    </tr>\n",
       "    <tr>\n",
       "      <td>17</td>\n",
       "      <td>AALIYAH BAKER</td>\n",
       "      <td>DIS</td>\n",
       "      <td>Gender, Women, and Cultural Representation</td>\n",
       "      <td>Gender and Women’s Studies</td>\n",
       "      <td>402</td>\n",
       "      <td>78</td>\n",
       "      <td>3</td>\n",
       "      <td>0</td>\n",
       "      <td>3</td>\n",
       "      <td>0</td>\n",
       "      <td>486</td>\n",
       "    </tr>\n",
       "    <tr>\n",
       "      <td>18</td>\n",
       "      <td>AALIYAH PAXSON</td>\n",
       "      <td>LEC</td>\n",
       "      <td>Abnormal Psychology</td>\n",
       "      <td>Psychology</td>\n",
       "      <td>150</td>\n",
       "      <td>98</td>\n",
       "      <td>36</td>\n",
       "      <td>12</td>\n",
       "      <td>4</td>\n",
       "      <td>0</td>\n",
       "      <td>300</td>\n",
       "    </tr>\n",
       "    <tr>\n",
       "      <td>19</td>\n",
       "      <td>AARON ARCELLO</td>\n",
       "      <td>DIS</td>\n",
       "      <td>Marketing Management</td>\n",
       "      <td>Marketing</td>\n",
       "      <td>207</td>\n",
       "      <td>963</td>\n",
       "      <td>108</td>\n",
       "      <td>33</td>\n",
       "      <td>6</td>\n",
       "      <td>0</td>\n",
       "      <td>1317</td>\n",
       "    </tr>\n",
       "  </tbody>\n",
       "</table>\n",
       "</div>"
      ],
      "text/plain": [
       "                   instructor section_type  \\\n",
       "0             JR. JAMES BROWN          SEM   \n",
       "1     M.D. ELIZABETH A JACOBS          IND   \n",
       "2                      - EKTA          LAB   \n",
       "3                  . ABHINAVA          DIS   \n",
       "4                  . LEAH TOM          LAB   \n",
       "5                     . MITCH          FLD   \n",
       "6                  . NEHARIKA          LAB   \n",
       "7                 . P KRISHNA          LAB   \n",
       "8                 . PRASHANSA          LAB   \n",
       "9                . RAJSHEKHAR          LAB   \n",
       "10                   . SARADA          LEC   \n",
       "11                A IVAN SOLL          LEC   \n",
       "12                 A-XING ZHU          LEC   \n",
       "13                A. BALGAMIS          LEC   \n",
       "14  AAKASH VARSHA SWAMINATHAN          DIS   \n",
       "15            AAKRITI AGARWAL          DIS   \n",
       "16                AALIYA BIBI          DIS   \n",
       "17              AALIYAH BAKER          DIS   \n",
       "18             AALIYAH PAXSON          LEC   \n",
       "19              AARON ARCELLO          DIS   \n",
       "\n",
       "                                           CourseName  \\\n",
       "0                First-Year Seminar in the Humanities   \n",
       "1                                   Independent Study   \n",
       "2                    Introduction to Data Programming   \n",
       "3                                     General Physics   \n",
       "4                                     General Physics   \n",
       "5                                    Clinical Program   \n",
       "6   Fundamentals of Electrical and Electro-mechani...   \n",
       "7        Engineering Measurements and Instrumentation   \n",
       "8                                     Fluid Mechanics   \n",
       "9                        Process Dynamics and Control   \n",
       "10                            Entrepreneurial Finance   \n",
       "11                         Introduction to Philosophy   \n",
       "12  An Introduction to Geographic Information Systems   \n",
       "13                        Islam Reform&Rev-Cntrl Asia   \n",
       "14                               General Chemistry II   \n",
       "15          Linear Algebra and Differential Equations   \n",
       "16       Women and Their Bodies in Health and Disease   \n",
       "17         Gender, Women, and Cultural Representation   \n",
       "18                                Abnormal Psychology   \n",
       "19                               Marketing Management   \n",
       "\n",
       "                            SubjectName  SUM(a_count)  SUM(b_count)  \\\n",
       "0       Interdisciplinary Courses (L&S)           289            91   \n",
       "1                              Medicine           164             2   \n",
       "2                     Computer Sciences            81            74   \n",
       "3                               Physics          1588          1646   \n",
       "4                               Physics           324           400   \n",
       "5                                   Law             1             0   \n",
       "6   Electrical and Computer Engineering           132           140   \n",
       "7                Mechanical Engineering            96           356   \n",
       "8   Civil and Environmental Engineering            11            31   \n",
       "9   Chemical and Biological Engineering             7             3   \n",
       "10      Finance, Investment and Banking           111            66   \n",
       "11                           Philosophy           741           955   \n",
       "12  Civil and Environmental Engineering           793           490   \n",
       "13                              History            43            26   \n",
       "14                            Chemistry          1808          1844   \n",
       "15                          Mathematics           300           210   \n",
       "16           Gender and Women’s Studies          3236           860   \n",
       "17           Gender and Women’s Studies           402            78   \n",
       "18                           Psychology           150            98   \n",
       "19                            Marketing           207           963   \n",
       "\n",
       "    SUM(c_count)  SUM(d_count)  SUM(f_count)  SUM(u_count)  Total  \n",
       "0             17             5             5             0    407  \n",
       "1              0             0             0             0    166  \n",
       "2              9             3             3             0    170  \n",
       "3            380            58            30             0   3702  \n",
       "4            460             8             8             0   1200  \n",
       "5              0             0             0             3      4  \n",
       "6             26             8             0             0    306  \n",
       "7             56             4             0             0    512  \n",
       "8              8             2             0             0     52  \n",
       "9              6             0             0             0     16  \n",
       "10             2             0             1             0    180  \n",
       "11           208            50            36             0   1990  \n",
       "12           135            67            22             0   1507  \n",
       "13            11             3             0             0     83  \n",
       "14          1424           248            52             0   5376  \n",
       "15           176            52            40             0    778  \n",
       "16           156            40            60             0   4352  \n",
       "17             3             0             3             0    486  \n",
       "18            36            12             4             0    300  \n",
       "19           108            33             6             0   1317  "
      ]
     },
     "execution_count": 145,
     "metadata": {},
     "output_type": "execute_result"
    }
   ],
   "source": [
    "# since the distribution do not overlap, we are going to take the percentage of students getting As from both instructors\n",
    "# so then we can compare the difference in percentage\n",
    "cur.execute(\"\"\"SELECT F.name AS instructor, section_type, D.name AS CourseName, H.name AS SubjectName, \n",
    "                SUM(a_count), SUM(b_count), SUM(c_count), SUM(d_count), SUM(f_count), SUM(u_count),\n",
    "                (SUM(a_count)+ SUM(b_count)+ SUM(c_count)+ SUM(d_count)+ SUM(f_count)+ SUM(u_count)) AS Total\n",
    "                \n",
    "                FROM [teachings] A\n",
    "                \n",
    "                JOIN [sections] B\n",
    "                ON (A.section_uuid = B.uuid)\n",
    "                JOIN [course_offerings] C\n",
    "                ON (B.course_offering_uuid = C.uuid)\n",
    "                JOIN [courses] D\n",
    "                ON (C.course_uuid = D.uuid)\n",
    "                JOIN [grade_distributions] E\n",
    "                ON ((B.course_offering_uuid = E.course_offering_uuid))\n",
    "                JOIN [instructors] F\n",
    "                ON (A.instructor_id = F.id)\n",
    "                JOIN [subject_memberships] G\n",
    "                ON (B.course_offering_uuid = G.course_offering_uuid)\n",
    "                JOIN [subjects] H\n",
    "                ON (G.subject_code = H.code)\n",
    "                \n",
    "                GROUP BY instructor\n",
    "                \"\"\")\n",
    "df_teachings = pd.DataFrame(cur.fetchall())\n",
    "df_teachings.columns = [x[0] for x in cur.description]\n",
    "df_teachings.head(20)"
   ]
  },
  {
   "cell_type": "code",
   "execution_count": 146,
   "metadata": {},
   "outputs": [],
   "source": [
    "df_teachings['a_percentage'] = df_teachings['SUM(a_count)']/df_teachings[\"Total\"]"
   ]
  },
  {
   "cell_type": "code",
   "execution_count": 149,
   "metadata": {
    "scrolled": true
   },
   "outputs": [
    {
     "data": {
      "text/html": [
       "<div>\n",
       "<style scoped>\n",
       "    .dataframe tbody tr th:only-of-type {\n",
       "        vertical-align: middle;\n",
       "    }\n",
       "\n",
       "    .dataframe tbody tr th {\n",
       "        vertical-align: top;\n",
       "    }\n",
       "\n",
       "    .dataframe thead th {\n",
       "        text-align: right;\n",
       "    }\n",
       "</style>\n",
       "<table border=\"1\" class=\"dataframe\">\n",
       "  <thead>\n",
       "    <tr style=\"text-align: right;\">\n",
       "      <th></th>\n",
       "      <th>instructor</th>\n",
       "      <th>section_type</th>\n",
       "      <th>CourseName</th>\n",
       "      <th>SubjectName</th>\n",
       "      <th>SUM(a_count)</th>\n",
       "      <th>SUM(b_count)</th>\n",
       "      <th>SUM(c_count)</th>\n",
       "      <th>SUM(d_count)</th>\n",
       "      <th>SUM(f_count)</th>\n",
       "      <th>SUM(u_count)</th>\n",
       "      <th>Total</th>\n",
       "      <th>a_percentage</th>\n",
       "    </tr>\n",
       "  </thead>\n",
       "  <tbody>\n",
       "    <tr>\n",
       "      <td>14002</td>\n",
       "      <td>PIN-CHIA SU</td>\n",
       "      <td>LAB</td>\n",
       "      <td>Pedagogy</td>\n",
       "      <td>Music</td>\n",
       "      <td>7</td>\n",
       "      <td>0</td>\n",
       "      <td>0</td>\n",
       "      <td>0</td>\n",
       "      <td>0</td>\n",
       "      <td>0</td>\n",
       "      <td>7</td>\n",
       "      <td>1.0</td>\n",
       "    </tr>\n",
       "    <tr>\n",
       "      <td>15184</td>\n",
       "      <td>SALLY CHISHOLM</td>\n",
       "      <td>IND</td>\n",
       "      <td>Elementary/Intermediate Viola</td>\n",
       "      <td>Music-Performance</td>\n",
       "      <td>133</td>\n",
       "      <td>0</td>\n",
       "      <td>0</td>\n",
       "      <td>0</td>\n",
       "      <td>0</td>\n",
       "      <td>0</td>\n",
       "      <td>133</td>\n",
       "      <td>1.0</td>\n",
       "    </tr>\n",
       "    <tr>\n",
       "      <td>15180</td>\n",
       "      <td>SALIH EMINAGA</td>\n",
       "      <td>FLD</td>\n",
       "      <td>Small Animal Neurology</td>\n",
       "      <td>Medical Sciences - Veterinary Medicine</td>\n",
       "      <td>1</td>\n",
       "      <td>0</td>\n",
       "      <td>0</td>\n",
       "      <td>0</td>\n",
       "      <td>0</td>\n",
       "      <td>0</td>\n",
       "      <td>1</td>\n",
       "      <td>1.0</td>\n",
       "    </tr>\n",
       "    <tr>\n",
       "      <td>6156</td>\n",
       "      <td>GREGORY WAIDLEY</td>\n",
       "      <td>SEM</td>\n",
       "      <td>Colloquium in Transportation Management and Po...</td>\n",
       "      <td>Civil and Environmental Engineering</td>\n",
       "      <td>134</td>\n",
       "      <td>0</td>\n",
       "      <td>0</td>\n",
       "      <td>0</td>\n",
       "      <td>0</td>\n",
       "      <td>0</td>\n",
       "      <td>134</td>\n",
       "      <td>1.0</td>\n",
       "    </tr>\n",
       "    <tr>\n",
       "      <td>6150</td>\n",
       "      <td>GREGORY SMITH</td>\n",
       "      <td>SEM</td>\n",
       "      <td>A Wisconsin Experience Seminar</td>\n",
       "      <td>Counseling Psychology</td>\n",
       "      <td>9</td>\n",
       "      <td>0</td>\n",
       "      <td>0</td>\n",
       "      <td>0</td>\n",
       "      <td>0</td>\n",
       "      <td>0</td>\n",
       "      <td>9</td>\n",
       "      <td>1.0</td>\n",
       "    </tr>\n",
       "    <tr>\n",
       "      <td>...</td>\n",
       "      <td>...</td>\n",
       "      <td>...</td>\n",
       "      <td>...</td>\n",
       "      <td>...</td>\n",
       "      <td>...</td>\n",
       "      <td>...</td>\n",
       "      <td>...</td>\n",
       "      <td>...</td>\n",
       "      <td>...</td>\n",
       "      <td>...</td>\n",
       "      <td>...</td>\n",
       "      <td>...</td>\n",
       "    </tr>\n",
       "    <tr>\n",
       "      <td>18126</td>\n",
       "      <td>YAOHUI XU</td>\n",
       "      <td>FLD</td>\n",
       "      <td>Independent Reading and Research for Fourth Ye...</td>\n",
       "      <td>Medicine</td>\n",
       "      <td>0</td>\n",
       "      <td>0</td>\n",
       "      <td>0</td>\n",
       "      <td>0</td>\n",
       "      <td>0</td>\n",
       "      <td>0</td>\n",
       "      <td>0</td>\n",
       "      <td>NaN</td>\n",
       "    </tr>\n",
       "    <tr>\n",
       "      <td>18173</td>\n",
       "      <td>YI-CHEN LEE</td>\n",
       "      <td>FLD</td>\n",
       "      <td>Elementary Teaching Practicum II</td>\n",
       "      <td>Curriculum and Instruction</td>\n",
       "      <td>0</td>\n",
       "      <td>0</td>\n",
       "      <td>0</td>\n",
       "      <td>0</td>\n",
       "      <td>0</td>\n",
       "      <td>0</td>\n",
       "      <td>0</td>\n",
       "      <td>NaN</td>\n",
       "    </tr>\n",
       "    <tr>\n",
       "      <td>18266</td>\n",
       "      <td>YORAM SHENKER</td>\n",
       "      <td>FLD</td>\n",
       "      <td>Endocrinology Clerkship</td>\n",
       "      <td>Medicine</td>\n",
       "      <td>0</td>\n",
       "      <td>0</td>\n",
       "      <td>0</td>\n",
       "      <td>0</td>\n",
       "      <td>0</td>\n",
       "      <td>0</td>\n",
       "      <td>0</td>\n",
       "      <td>NaN</td>\n",
       "    </tr>\n",
       "    <tr>\n",
       "      <td>18282</td>\n",
       "      <td>YOUNG K LEE</td>\n",
       "      <td>FLD</td>\n",
       "      <td>Clinical Anesthesia Clerkship-LaCrosse</td>\n",
       "      <td>Anesthesiology</td>\n",
       "      <td>0</td>\n",
       "      <td>0</td>\n",
       "      <td>0</td>\n",
       "      <td>0</td>\n",
       "      <td>0</td>\n",
       "      <td>0</td>\n",
       "      <td>0</td>\n",
       "      <td>NaN</td>\n",
       "    </tr>\n",
       "    <tr>\n",
       "      <td>18485</td>\n",
       "      <td>ZAFER GUREL</td>\n",
       "      <td>IND</td>\n",
       "      <td>Independent Study</td>\n",
       "      <td>Pediatrics</td>\n",
       "      <td>0</td>\n",
       "      <td>0</td>\n",
       "      <td>0</td>\n",
       "      <td>0</td>\n",
       "      <td>0</td>\n",
       "      <td>0</td>\n",
       "      <td>0</td>\n",
       "      <td>NaN</td>\n",
       "    </tr>\n",
       "  </tbody>\n",
       "</table>\n",
       "<p>18592 rows × 12 columns</p>\n",
       "</div>"
      ],
      "text/plain": [
       "            instructor section_type  \\\n",
       "14002      PIN-CHIA SU          LAB   \n",
       "15184   SALLY CHISHOLM          IND   \n",
       "15180    SALIH EMINAGA          FLD   \n",
       "6156   GREGORY WAIDLEY          SEM   \n",
       "6150     GREGORY SMITH          SEM   \n",
       "...                ...          ...   \n",
       "18126        YAOHUI XU          FLD   \n",
       "18173      YI-CHEN LEE          FLD   \n",
       "18266    YORAM SHENKER          FLD   \n",
       "18282      YOUNG K LEE          FLD   \n",
       "18485      ZAFER GUREL          IND   \n",
       "\n",
       "                                              CourseName  \\\n",
       "14002                                           Pedagogy   \n",
       "15184                      Elementary/Intermediate Viola   \n",
       "15180                             Small Animal Neurology   \n",
       "6156   Colloquium in Transportation Management and Po...   \n",
       "6150                      A Wisconsin Experience Seminar   \n",
       "...                                                  ...   \n",
       "18126  Independent Reading and Research for Fourth Ye...   \n",
       "18173                   Elementary Teaching Practicum II   \n",
       "18266                            Endocrinology Clerkship   \n",
       "18282             Clinical Anesthesia Clerkship-LaCrosse   \n",
       "18485                                  Independent Study   \n",
       "\n",
       "                                  SubjectName  SUM(a_count)  SUM(b_count)  \\\n",
       "14002                                   Music             7             0   \n",
       "15184                       Music-Performance           133             0   \n",
       "15180  Medical Sciences - Veterinary Medicine             1             0   \n",
       "6156      Civil and Environmental Engineering           134             0   \n",
       "6150                    Counseling Psychology             9             0   \n",
       "...                                       ...           ...           ...   \n",
       "18126                                Medicine             0             0   \n",
       "18173              Curriculum and Instruction             0             0   \n",
       "18266                                Medicine             0             0   \n",
       "18282                          Anesthesiology             0             0   \n",
       "18485                              Pediatrics             0             0   \n",
       "\n",
       "       SUM(c_count)  SUM(d_count)  SUM(f_count)  SUM(u_count)  Total  \\\n",
       "14002             0             0             0             0      7   \n",
       "15184             0             0             0             0    133   \n",
       "15180             0             0             0             0      1   \n",
       "6156              0             0             0             0    134   \n",
       "6150              0             0             0             0      9   \n",
       "...             ...           ...           ...           ...    ...   \n",
       "18126             0             0             0             0      0   \n",
       "18173             0             0             0             0      0   \n",
       "18266             0             0             0             0      0   \n",
       "18282             0             0             0             0      0   \n",
       "18485             0             0             0             0      0   \n",
       "\n",
       "       a_percentage  \n",
       "14002           1.0  \n",
       "15184           1.0  \n",
       "15180           1.0  \n",
       "6156            1.0  \n",
       "6150            1.0  \n",
       "...             ...  \n",
       "18126           NaN  \n",
       "18173           NaN  \n",
       "18266           NaN  \n",
       "18282           NaN  \n",
       "18485           NaN  \n",
       "\n",
       "[18592 rows x 12 columns]"
      ]
     },
     "execution_count": 149,
     "metadata": {},
     "output_type": "execute_result"
    }
   ],
   "source": [
    "df_teachings.sort_values(by=['a_percentage'], inplace=True, ascending=False)\n",
    "df_teachings"
   ]
  },
  {
   "cell_type": "code",
   "execution_count": 187,
   "metadata": {
    "scrolled": true
   },
   "outputs": [
    {
     "name": "stderr",
     "output_type": "stream",
     "text": [
      "/opt/anaconda3/lib/python3.7/site-packages/ipykernel_launcher.py:1: UserWarning: Pandas doesn't allow columns to be created via a new attribute name - see https://pandas.pydata.org/pandas-docs/stable/indexing.html#attribute-access\n",
      "  \"\"\"Entry point for launching an IPython kernel.\n"
     ]
    }
   ],
   "source": [
    "df.teachings_ida = df_teachings[df_teachings[\"instructor\"] == \"IDA BALDERRAMA-TRUDELL\"]"
   ]
  },
  {
   "cell_type": "code",
   "execution_count": 189,
   "metadata": {
    "scrolled": true
   },
   "outputs": [
    {
     "data": {
      "text/html": [
       "<div>\n",
       "<style scoped>\n",
       "    .dataframe tbody tr th:only-of-type {\n",
       "        vertical-align: middle;\n",
       "    }\n",
       "\n",
       "    .dataframe tbody tr th {\n",
       "        vertical-align: top;\n",
       "    }\n",
       "\n",
       "    .dataframe thead th {\n",
       "        text-align: right;\n",
       "    }\n",
       "</style>\n",
       "<table border=\"1\" class=\"dataframe\">\n",
       "  <thead>\n",
       "    <tr style=\"text-align: right;\">\n",
       "      <th></th>\n",
       "      <th>instructor</th>\n",
       "      <th>section_type</th>\n",
       "      <th>CourseName</th>\n",
       "      <th>SubjectName</th>\n",
       "      <th>SUM(a_count)</th>\n",
       "      <th>SUM(b_count)</th>\n",
       "      <th>SUM(c_count)</th>\n",
       "      <th>SUM(d_count)</th>\n",
       "      <th>SUM(f_count)</th>\n",
       "      <th>SUM(u_count)</th>\n",
       "      <th>Total</th>\n",
       "      <th>a_percentage</th>\n",
       "    </tr>\n",
       "  </thead>\n",
       "  <tbody>\n",
       "    <tr>\n",
       "      <td>6733</td>\n",
       "      <td>IDA BALDERRAMA-TRUDELL</td>\n",
       "      <td>LEC</td>\n",
       "      <td>Human Resources Development: Educational Effec...</td>\n",
       "      <td>Counseling Psychology</td>\n",
       "      <td>18404</td>\n",
       "      <td>812</td>\n",
       "      <td>172</td>\n",
       "      <td>132</td>\n",
       "      <td>196</td>\n",
       "      <td>0</td>\n",
       "      <td>19716</td>\n",
       "      <td>0.933455</td>\n",
       "    </tr>\n",
       "  </tbody>\n",
       "</table>\n",
       "</div>"
      ],
      "text/plain": [
       "                  instructor section_type  \\\n",
       "6733  IDA BALDERRAMA-TRUDELL          LEC   \n",
       "\n",
       "                                             CourseName  \\\n",
       "6733  Human Resources Development: Educational Effec...   \n",
       "\n",
       "                SubjectName  SUM(a_count)  SUM(b_count)  SUM(c_count)  \\\n",
       "6733  Counseling Psychology         18404           812           172   \n",
       "\n",
       "      SUM(d_count)  SUM(f_count)  SUM(u_count)  Total  a_percentage  \n",
       "6733           132           196             0  19716      0.933455  "
      ]
     },
     "execution_count": 189,
     "metadata": {},
     "output_type": "execute_result"
    }
   ],
   "source": [
    "# Ida's As percentage\n",
    "df.teachings_ida"
   ]
  },
  {
   "cell_type": "code",
   "execution_count": 157,
   "metadata": {
    "scrolled": true
   },
   "outputs": [],
   "source": [
    "df.teachings_donald = df_teachings[df_teachings[\"instructor\"] == \"DONALD YANDOW\"]"
   ]
  },
  {
   "cell_type": "code",
   "execution_count": 190,
   "metadata": {},
   "outputs": [
    {
     "data": {
      "text/html": [
       "<div>\n",
       "<style scoped>\n",
       "    .dataframe tbody tr th:only-of-type {\n",
       "        vertical-align: middle;\n",
       "    }\n",
       "\n",
       "    .dataframe tbody tr th {\n",
       "        vertical-align: top;\n",
       "    }\n",
       "\n",
       "    .dataframe thead th {\n",
       "        text-align: right;\n",
       "    }\n",
       "</style>\n",
       "<table border=\"1\" class=\"dataframe\">\n",
       "  <thead>\n",
       "    <tr style=\"text-align: right;\">\n",
       "      <th></th>\n",
       "      <th>instructor</th>\n",
       "      <th>section_type</th>\n",
       "      <th>CourseName</th>\n",
       "      <th>SubjectName</th>\n",
       "      <th>SUM(a_count)</th>\n",
       "      <th>SUM(b_count)</th>\n",
       "      <th>SUM(c_count)</th>\n",
       "      <th>SUM(d_count)</th>\n",
       "      <th>SUM(f_count)</th>\n",
       "      <th>SUM(u_count)</th>\n",
       "      <th>Total</th>\n",
       "      <th>a_percentage</th>\n",
       "    </tr>\n",
       "  </thead>\n",
       "  <tbody>\n",
       "    <tr>\n",
       "      <td>4609</td>\n",
       "      <td>DONALD YANDOW</td>\n",
       "      <td>FLD</td>\n",
       "      <td>Radiology Clerkship</td>\n",
       "      <td>Radiology</td>\n",
       "      <td>6509</td>\n",
       "      <td>3520</td>\n",
       "      <td>24</td>\n",
       "      <td>0</td>\n",
       "      <td>0</td>\n",
       "      <td>0</td>\n",
       "      <td>10053</td>\n",
       "      <td>0.647468</td>\n",
       "    </tr>\n",
       "  </tbody>\n",
       "</table>\n",
       "</div>"
      ],
      "text/plain": [
       "         instructor section_type           CourseName SubjectName  \\\n",
       "4609  DONALD YANDOW          FLD  Radiology Clerkship   Radiology   \n",
       "\n",
       "      SUM(a_count)  SUM(b_count)  SUM(c_count)  SUM(d_count)  SUM(f_count)  \\\n",
       "4609          6509          3520            24             0             0   \n",
       "\n",
       "      SUM(u_count)  Total  a_percentage  \n",
       "4609             0  10053      0.647468  "
      ]
     },
     "execution_count": 190,
     "metadata": {},
     "output_type": "execute_result"
    }
   ],
   "source": [
    "# Donald's As percentage\n",
    "df.teachings_donald"
   ]
  },
  {
   "cell_type": "markdown",
   "metadata": {},
   "source": [
    "#### Interpretations\n",
    "\n",
    "Almost 65% of students attending Donald Yandow's Radiology class get A grades while 93% of students attending Ida Trudell's Astronomy class can earn a grades. This somehow support our results from One Sample T-tests that Ida has some correlation with the number of As she gives."
   ]
  },
  {
   "cell_type": "markdown",
   "metadata": {},
   "source": [
    "## Q3: Do section types have a statistically significant correalation with the number of As earned in a course?"
   ]
  },
  {
   "cell_type": "markdown",
   "metadata": {},
   "source": [
    "#### Null Hypothesis\n",
    "\n",
    "The number for A's achieved is NOT related to the section type\n",
    "\n",
    "\n",
    "#### Alternative Hypothesis\n",
    "\n",
    "The number for A's achieved is related to the section type\n"
   ]
  },
  {
   "cell_type": "code",
   "execution_count": 110,
   "metadata": {
    "scrolled": true
   },
   "outputs": [
    {
     "data": {
      "text/html": [
       "<div>\n",
       "<style scoped>\n",
       "    .dataframe tbody tr th:only-of-type {\n",
       "        vertical-align: middle;\n",
       "    }\n",
       "\n",
       "    .dataframe tbody tr th {\n",
       "        vertical-align: top;\n",
       "    }\n",
       "\n",
       "    .dataframe thead th {\n",
       "        text-align: right;\n",
       "    }\n",
       "</style>\n",
       "<table border=\"1\" class=\"dataframe\">\n",
       "  <thead>\n",
       "    <tr style=\"text-align: right;\">\n",
       "      <th></th>\n",
       "      <th>a_count</th>\n",
       "      <th>number</th>\n",
       "      <th>section_type</th>\n",
       "    </tr>\n",
       "  </thead>\n",
       "  <tbody>\n",
       "    <tr>\n",
       "      <td>0</td>\n",
       "      <td>105</td>\n",
       "      <td>1</td>\n",
       "      <td>FLD</td>\n",
       "    </tr>\n",
       "    <tr>\n",
       "      <td>1</td>\n",
       "      <td>158</td>\n",
       "      <td>1</td>\n",
       "      <td>FLD</td>\n",
       "    </tr>\n",
       "    <tr>\n",
       "      <td>2</td>\n",
       "      <td>139</td>\n",
       "      <td>1</td>\n",
       "      <td>FLD</td>\n",
       "    </tr>\n",
       "    <tr>\n",
       "      <td>3</td>\n",
       "      <td>139</td>\n",
       "      <td>1</td>\n",
       "      <td>FLD</td>\n",
       "    </tr>\n",
       "    <tr>\n",
       "      <td>4</td>\n",
       "      <td>139</td>\n",
       "      <td>1</td>\n",
       "      <td>FLD</td>\n",
       "    </tr>\n",
       "    <tr>\n",
       "      <td>...</td>\n",
       "      <td>...</td>\n",
       "      <td>...</td>\n",
       "      <td>...</td>\n",
       "    </tr>\n",
       "    <tr>\n",
       "      <td>2077511</td>\n",
       "      <td>18</td>\n",
       "      <td>1</td>\n",
       "      <td>SEM</td>\n",
       "    </tr>\n",
       "    <tr>\n",
       "      <td>2077512</td>\n",
       "      <td>18</td>\n",
       "      <td>1</td>\n",
       "      <td>SEM</td>\n",
       "    </tr>\n",
       "    <tr>\n",
       "      <td>2077513</td>\n",
       "      <td>18</td>\n",
       "      <td>1</td>\n",
       "      <td>SEM</td>\n",
       "    </tr>\n",
       "    <tr>\n",
       "      <td>2077514</td>\n",
       "      <td>0</td>\n",
       "      <td>7</td>\n",
       "      <td>LEC</td>\n",
       "    </tr>\n",
       "    <tr>\n",
       "      <td>2077515</td>\n",
       "      <td>0</td>\n",
       "      <td>8</td>\n",
       "      <td>LEC</td>\n",
       "    </tr>\n",
       "  </tbody>\n",
       "</table>\n",
       "<p>2077516 rows × 3 columns</p>\n",
       "</div>"
      ],
      "text/plain": [
       "        a_count number section_type\n",
       "0           105      1          FLD\n",
       "1           158      1          FLD\n",
       "2           139      1          FLD\n",
       "3           139      1          FLD\n",
       "4           139      1          FLD\n",
       "...         ...    ...          ...\n",
       "2077511      18      1          SEM\n",
       "2077512      18      1          SEM\n",
       "2077513      18      1          SEM\n",
       "2077514       0      7          LEC\n",
       "2077515       0      8          LEC\n",
       "\n",
       "[2077516 rows x 3 columns]"
      ]
     },
     "execution_count": 110,
     "metadata": {},
     "output_type": "execute_result"
    }
   ],
   "source": [
    "cur.execute(\"\"\"SELECT grade_distributions.\"a_count\", sections.\"number\", sections.\"section_type\" FROM grade_distributions\n",
    "            JOIN sections ON grade_distributions.\"course_offering_uuid\" = sections.\"course_offering_uuid\";\"\"\")\n",
    "sections = pd.DataFrame(cur.fetchall())\n",
    "sections.columns = [x[0] for x in cur.description]\n",
    "sections"
   ]
  },
  {
   "cell_type": "code",
   "execution_count": 111,
   "metadata": {},
   "outputs": [
    {
     "data": {
      "text/plain": [
       "array(['FLD', 'LAB', 'LEC', 'IND', 'DIS', 'SEM'], dtype=object)"
      ]
     },
     "execution_count": 111,
     "metadata": {},
     "output_type": "execute_result"
    }
   ],
   "source": [
    "sections[\"section_type\"].unique()"
   ]
  },
  {
   "cell_type": "code",
   "execution_count": 112,
   "metadata": {},
   "outputs": [
    {
     "name": "stdout",
     "output_type": "stream",
     "text": [
      "(70241, 3)\n",
      "(170147, 3)\n",
      "(398828, 3)\n",
      "(1216983, 3)\n",
      "(153845, 3)\n",
      "(67472, 3)\n"
     ]
    }
   ],
   "source": [
    "# new dataframe for each type\n",
    "FLD = sections.loc[sections['section_type'] == 'FLD']\n",
    "LAB = sections.loc[sections['section_type'] == 'LAB']\n",
    "LEC = sections.loc[sections['section_type'] == 'LEC']\n",
    "IND = sections.loc[sections['section_type'] == 'IND']\n",
    "DIS = sections.loc[sections['section_type'] == 'DIS']\n",
    "SEM = sections.loc[sections['section_type'] == 'SEM']\n",
    "print(FLD.shape)\n",
    "print(LAB.shape)\n",
    "print(LEC.shape)\n",
    "print(IND.shape)\n",
    "print(DIS.shape)\n",
    "print(SEM.shape)"
   ]
  },
  {
   "cell_type": "code",
   "execution_count": 114,
   "metadata": {},
   "outputs": [
    {
     "name": "stderr",
     "output_type": "stream",
     "text": [
      "/opt/anaconda3/lib/python3.7/site-packages/ipykernel_launcher.py:1: SettingWithCopyWarning: \n",
      "A value is trying to be set on a copy of a slice from a DataFrame.\n",
      "Try using .loc[row_indexer,col_indexer] = value instead\n",
      "\n",
      "See the caveats in the documentation: http://pandas.pydata.org/pandas-docs/stable/user_guide/indexing.html#returning-a-view-versus-a-copy\n",
      "  \"\"\"Entry point for launching an IPython kernel.\n",
      "/opt/anaconda3/lib/python3.7/site-packages/ipykernel_launcher.py:2: SettingWithCopyWarning: \n",
      "A value is trying to be set on a copy of a slice from a DataFrame.\n",
      "Try using .loc[row_indexer,col_indexer] = value instead\n",
      "\n",
      "See the caveats in the documentation: http://pandas.pydata.org/pandas-docs/stable/user_guide/indexing.html#returning-a-view-versus-a-copy\n",
      "  \n",
      "/opt/anaconda3/lib/python3.7/site-packages/ipykernel_launcher.py:3: SettingWithCopyWarning: \n",
      "A value is trying to be set on a copy of a slice from a DataFrame.\n",
      "Try using .loc[row_indexer,col_indexer] = value instead\n",
      "\n",
      "See the caveats in the documentation: http://pandas.pydata.org/pandas-docs/stable/user_guide/indexing.html#returning-a-view-versus-a-copy\n",
      "  This is separate from the ipykernel package so we can avoid doing imports until\n",
      "/opt/anaconda3/lib/python3.7/site-packages/ipykernel_launcher.py:4: SettingWithCopyWarning: \n",
      "A value is trying to be set on a copy of a slice from a DataFrame.\n",
      "Try using .loc[row_indexer,col_indexer] = value instead\n",
      "\n",
      "See the caveats in the documentation: http://pandas.pydata.org/pandas-docs/stable/user_guide/indexing.html#returning-a-view-versus-a-copy\n",
      "  after removing the cwd from sys.path.\n",
      "/opt/anaconda3/lib/python3.7/site-packages/ipykernel_launcher.py:5: SettingWithCopyWarning: \n",
      "A value is trying to be set on a copy of a slice from a DataFrame.\n",
      "Try using .loc[row_indexer,col_indexer] = value instead\n",
      "\n",
      "See the caveats in the documentation: http://pandas.pydata.org/pandas-docs/stable/user_guide/indexing.html#returning-a-view-versus-a-copy\n",
      "  \"\"\"\n",
      "/opt/anaconda3/lib/python3.7/site-packages/ipykernel_launcher.py:6: SettingWithCopyWarning: \n",
      "A value is trying to be set on a copy of a slice from a DataFrame.\n",
      "Try using .loc[row_indexer,col_indexer] = value instead\n",
      "\n",
      "See the caveats in the documentation: http://pandas.pydata.org/pandas-docs/stable/user_guide/indexing.html#returning-a-view-versus-a-copy\n",
      "  \n"
     ]
    }
   ],
   "source": [
    "\n",
    "FLD[\"a_count\"] = convert_to_integer(FLD[\"a_count\"])\n",
    "LAB[\"a_count\"] = convert_to_integer(LAB[\"a_count\"])\n",
    "LEC[\"a_count\"] = convert_to_integer(LEC[\"a_count\"])\n",
    "IND[\"a_count\"] = convert_to_integer(IND[\"a_count\"])\n",
    "DIS[\"a_count\"] = convert_to_integer(DIS[\"a_count\"])\n",
    "SEM[\"a_count\"] = convert_to_integer(SEM[\"a_count\"])"
   ]
  },
  {
   "cell_type": "code",
   "execution_count": 115,
   "metadata": {},
   "outputs": [
    {
     "data": {
      "image/png": "[encoded data removed]",
      "text/plain": [
       "<Figure size 1440x432 with 1 Axes>"
      ]
     },
     "metadata": {},
     "output_type": "display_data"
    }
   ],
   "source": [
    "plt. figure(figsize=(20,6))\n",
    "\n",
    "# distribution of As for each of them\n",
    "sns.distplot(FLD['a_count'], label=\"FLD\")\n",
    "sns.distplot(LAB['a_count'], label=\"LAB\")\n",
    "sns.distplot(LEC['a_count'], label=\"LEC\")\n",
    "sns.distplot(IND['a_count'], label=\"IND\")\n",
    "sns.distplot(DIS['a_count'], label=\"DIS\")\n",
    "sns.distplot(SEM['a_count'], label=\"SEM\")\n",
    "\n",
    "plt.title(\"Distribution of Grade A according to Section Type\")\n",
    "plt.xlabel(\"Grade A\")\n",
    "\n",
    "plt.legend()\n",
    "plt.show()"
   ]
  },
  {
   "cell_type": "code",
   "execution_count": 116,
   "metadata": {},
   "outputs": [],
   "source": [
    "#very skewed distributed\n",
    "#normalization\n",
    "# Create Random Smaples:\n",
    "FLD_norm = create_sample_distribution(FLD['a_count'], dist_size=10000, n=50)\n",
    "LAB_norm = create_sample_distribution(LAB['a_count'], dist_size=10000, n=50)\n",
    "LEC_norm = create_sample_distribution(LEC['a_count'], dist_size=10000, n=50)\n",
    "IND_norm = create_sample_distribution(IND['a_count'], dist_size=10000, n=50)\n",
    "DIS_norm = create_sample_distribution(DIS['a_count'], dist_size=10000, n=50)\n",
    "SEM_norm = create_sample_distribution(SEM['a_count'], dist_size=10000, n=50)"
   ]
  },
  {
   "cell_type": "code",
   "execution_count": 117,
   "metadata": {},
   "outputs": [
    {
     "data": {
      "image/png": "[encoded data removed]",
      "text/plain": [
       "<Figure size 1080x432 with 1 Axes>"
      ]
     },
     "metadata": {},
     "output_type": "display_data"
    }
   ],
   "source": [
    "plt. figure(figsize=(15,6))\n",
    "\n",
    "# distribution of As for each of them\n",
    "sns.distplot(FLD_norm, label=\"FLD\")\n",
    "sns.distplot(LAB_norm, label=\"LAB\")\n",
    "sns.distplot(LEC_norm, label=\"LEC\")\n",
    "sns.distplot(IND_norm, label=\"IND\")\n",
    "sns.distplot(DIS_norm, label=\"DIS\")\n",
    "sns.distplot(SEM_norm, label=\"SEM\")\n",
    "\n",
    "plt.title(\"Distribution of Grade A according to Section Type\")\n",
    "plt.xlabel(\"Grade A\")\n",
    "\n",
    "plt.legend()\n",
    "plt.show()"
   ]
  },
  {
   "cell_type": "code",
   "execution_count": 118,
   "metadata": {
    "scrolled": true
   },
   "outputs": [
    {
     "data": {
      "text/plain": [
       "[('FLD', 'LAB'),\n",
       " ('FLD', 'LEC'),\n",
       " ('FLD', 'IND'),\n",
       " ('FLD', 'DIS'),\n",
       " ('FLD', 'SEM'),\n",
       " ('LAB', 'LEC'),\n",
       " ('LAB', 'IND'),\n",
       " ('LAB', 'DIS'),\n",
       " ('LAB', 'SEM'),\n",
       " ('LEC', 'IND'),\n",
       " ('LEC', 'DIS'),\n",
       " ('LEC', 'SEM'),\n",
       " ('IND', 'DIS'),\n",
       " ('IND', 'SEM'),\n",
       " ('DIS', 'SEM')]"
      ]
     },
     "execution_count": 118,
     "metadata": {},
     "output_type": "execute_result"
    }
   ],
   "source": [
    "# multicomparison\n",
    "section_a_grade = sections['section_type'].unique()\n",
    "list(itertools.combinations(section_a_grade, 2))"
   ]
  },
  {
   "cell_type": "code",
   "execution_count": 119,
   "metadata": {},
   "outputs": [],
   "source": [
    "sections[\"a_count\"] = convert_to_integer(sections[\"a_count\"])"
   ]
  },
  {
   "cell_type": "code",
   "execution_count": 125,
   "metadata": {
    "scrolled": true
   },
   "outputs": [
    {
     "name": "stdout",
     "output_type": "stream",
     "text": [
      " Multiple Comparison of Means - Tukey HSD, FWER=0.05 \n",
      "=====================================================\n",
      "group1 group2 meandiff p-adj  lower    upper   reject\n",
      "-----------------------------------------------------\n",
      "   DIS    FLD -35.0648 0.001 -35.2563 -34.8733   True\n",
      "   DIS    IND -36.9424 0.001 -37.0562 -36.8286   True\n",
      "   DIS    LAB -20.7669 0.001 -20.9148 -20.6189   True\n",
      "   DIS    LEC -26.4714 0.001 -26.5976 -26.3452   True\n",
      "   DIS    SEM -30.5647 0.001 -30.7589 -30.3705   True\n",
      "   FLD    IND  -1.8777 0.001  -2.0409  -1.7145   True\n",
      "   FLD    LAB  14.2979 0.001  14.1093  14.4865   True\n",
      "   FLD    LEC   8.5934 0.001   8.4213   8.7655   True\n",
      "   FLD    SEM   4.5001 0.001   4.2734   4.7267   True\n",
      "   IND    LAB  16.1756 0.001  16.0667  16.2844   True\n",
      "   IND    LEC  10.4711 0.001  10.3943  10.5478   True\n",
      "   IND    SEM   6.3777 0.001   6.2114    6.544   True\n",
      "   LAB    LEC  -5.7045 0.001  -5.8263  -5.5827   True\n",
      "   LAB    SEM  -9.7978 0.001  -9.9891  -9.6065   True\n",
      "   LEC    SEM  -4.0933 0.001  -4.2684  -3.9183   True\n",
      "-----------------------------------------------------\n"
     ]
    },
    {
     "data": {
      "image/png": "[encoded data removed]",
      "text/plain": [
       "<Figure size 1152x1008 with 1 Axes>"
      ]
     },
     "metadata": {},
     "output_type": "display_data"
    }
   ],
   "source": [
    "from statsmodels.stats.multicomp import pairwise_tukeyhsd\n",
    "from statsmodels.stats.multicomp import MultiComparison\n",
    "mc = MultiComparison(sections['a_count'], sections['section_type'])\n",
    "mc_results = mc.tukeyhsd()\n",
    "print(mc_results)\n",
    "\n",
    "mc_results = mc_results.plot_simultaneous(figsize=(16,14))\n",
    "plt.show()\n"
   ]
  },
  {
   "cell_type": "markdown",
   "metadata": {},
   "source": [
    "#### Interpretations\n",
    "\n",
    "The Tukey Test has shown that there are difference of getting As by attending different types of studies. Directed Studies seems to have a statistically significant correalation with grade As eanred in courses, followed by labs and lectures."
   ]
  },
  {
   "cell_type": "markdown",
   "metadata": {},
   "source": [
    "# Findings"
   ]
  },
  {
   "cell_type": "markdown",
   "metadata": {},
   "source": [
    "Science & Engineering obtains statistically more \"As\" than the Humanities & Social Science\n",
    "\n",
    "STEM instructor - Donald Yandow has no statistically significant correlation with the number of As earned in his courses\n",
    "\n",
    "Humanities instructor - Ida Trudell has a statistically significant correlation with the number of As earned in her courses\n",
    "\n",
    "Directed Studies. labs and lectures seem to have a statistically significant correlation with the number of As earned in her courses\n"
   ]
  },
  {
   "cell_type": "markdown",
   "metadata": {},
   "source": [
    "# Limitations"
   ]
  },
  {
   "cell_type": "markdown",
   "metadata": {},
   "source": [
    "The total number of students attending courses from 2006 - 2017 was unknown. The number of students attending each course was unknown as well which made it hard to gather information to run our tests.\n",
    "\n",
    "It would have been very helpful to include the years of courses to have more information for hypothesis testing."
   ]
  }
 ],
 "metadata": {
  "kernelspec": {
   "display_name": "Python 3",
   "language": "python",
   "name": "python3"
  },
  "language_info": {
   "codemirror_mode": {
    "name": "ipython",
    "version": 3
   },
   "file_extension": ".py",
   "mimetype": "text/x-python",
   "name": "python",
   "nbconvert_exporter": "python",
   "pygments_lexer": "ipython3",
   "version": "3.7.4"
  }
 },
 "nbformat": 4,
 "nbformat_minor": 2
}
